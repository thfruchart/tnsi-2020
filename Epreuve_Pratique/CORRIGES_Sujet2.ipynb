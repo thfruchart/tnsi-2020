{
  "nbformat": 4,
  "nbformat_minor": 0,
  "metadata": {
    "colab": {
      "name": "Epreuve_Pratique_CORRIGES_Sujet2.ipynb",
      "provenance": [],
      "authorship_tag": "ABX9TyM3KUSGZanrD3hvfIgUPC64",
      "include_colab_link": true
    },
    "kernelspec": {
      "name": "python3",
      "display_name": "Python 3"
    }
  },
  "cells": [
    {
      "cell_type": "markdown",
      "metadata": {
        "id": "view-in-github",
        "colab_type": "text"
      },
      "source": [
        "<a href=\"https://colab.research.google.com/github/thfruchart/tnsi-2020/blob/master/Epreuve_Pratique/CORRIGES_Sujet2.ipynb\" target=\"_parent\"><img src=\"https://colab.research.google.com/assets/colab-badge.svg\" alt=\"Open In Colab\"/></a>"
      ]
    },
    {
      "cell_type": "markdown",
      "metadata": {
        "id": "Xl9i-LzqlDQG"
      },
      "source": [
        "# Exercice 1"
      ]
    },
    {
      "cell_type": "markdown",
      "metadata": {
        "id": "7p1FnahMlEut"
      },
      "source": [
        "Programmer la fonction `moyenne` prenant en paramètre un tableau d'entiers `tab` (type list) qui renvoie la moyenne de ses éléments si le tableau est non vide et renvoie '`erreur`' si le tableau est vide.\r\n",
        "\r\n",
        "Exemples :\r\n",
        "\r\n",
        "\r\n",
        "```\r\n",
        ">>> moyenne([5,3,8])\r\n",
        "5.333333333333333\r\n",
        ">>> moyenne([1,2,3,4,5,6,7,8,9,10])\r\n",
        "5.5\r\n",
        ">>> moyenne([])\r\n",
        "'erreur'\r\n",
        "```"
      ]
    },
    {
      "cell_type": "code",
      "metadata": {
        "id": "owPDT1PulQH8"
      },
      "source": [
        "def moyenne(tab):\r\n",
        "    if len(tab)==0:\r\n",
        "        return 'erreur'\r\n",
        "\r\n",
        "    s = 0\r\n",
        "    for v in tab:\r\n",
        "        s += v\r\n",
        "    return s/len(tab)\r\n"
      ],
      "execution_count": 5,
      "outputs": []
    },
    {
      "cell_type": "code",
      "metadata": {
        "colab": {
          "base_uri": "https://localhost:8080/"
        },
        "id": "YPPPCBdvqd_t",
        "outputId": "4dc076be-f74f-4249-b8b9-d6d79aee7ff9"
      },
      "source": [
        "print(moyenne([]))\r\n",
        "print(moyenne([5,3,8]))\r\n"
      ],
      "execution_count": 6,
      "outputs": [
        {
          "output_type": "stream",
          "text": [
            "erreur\n",
            "5.333333333333333\n"
          ],
          "name": "stdout"
        }
      ]
    },
    {
      "cell_type": "markdown",
      "metadata": {
        "id": "nebrrQaklBxW"
      },
      "source": [
        "# Exercice 2"
      ]
    },
    {
      "cell_type": "code",
      "metadata": {
        "id": "BririQzbk3t6"
      },
      "source": [
        "def tri(tab):\r\n",
        "    #i est le premier indice de la zone non triee, j le dernier indice.\r\n",
        "    #Au debut, la zone non triee est le tableau entier.\r\n",
        "    i= ...\r\n",
        "    j= ...\r\n",
        "    while i != j :\r\n",
        "        if tab[i]== 0:\r\n",
        "            i= ...\r\n",
        "        else :\r\n",
        "            valeur = tab[j]\r\n",
        "            tab[j] = ...\r\n",
        "            ...\r\n",
        "            j= ...\r\n",
        "    ...\r\n"
      ],
      "execution_count": null,
      "outputs": []
    }
  ]
}