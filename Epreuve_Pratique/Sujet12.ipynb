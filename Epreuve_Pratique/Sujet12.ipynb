{
  "nbformat": 4,
  "nbformat_minor": 0,
  "metadata": {
    "colab": {
      "name": "Epreuve_Pratique_Sujet12.ipynb",
      "provenance": [],
      "authorship_tag": "ABX9TyOtrDpPAP9uWuOhBcxg7XKy",
      "include_colab_link": true
    },
    "kernelspec": {
      "name": "python3",
      "display_name": "Python 3"
    }
  },
  "cells": [
    {
      "cell_type": "markdown",
      "metadata": {
        "id": "view-in-github",
        "colab_type": "text"
      },
      "source": [
        "<a href=\"https://colab.research.google.com/github/thfruchart/tnsi-2020/blob/master/Epreuve_Pratique/Sujet12.ipynb\" target=\"_parent\"><img src=\"https://colab.research.google.com/assets/colab-badge.svg\" alt=\"Open In Colab\"/></a>"
      ]
    },
    {
      "cell_type": "markdown",
      "metadata": {
        "id": "av8nyt8rvalz"
      },
      "source": [
        "# Exercice 1"
      ]
    },
    {
      "cell_type": "markdown",
      "metadata": {
        "id": "pJpylXO7vcUt"
      },
      "source": [
        "Écrire une fonction `maxi` qui prend en paramètre une liste tab de nombres entiers et qui renvoie un couple donnant le plus grand élément de cette liste ainsi que l’indice de la première apparition de ce maximum dans la liste.\r\n",
        "\r\n",
        "Exemple :\r\n",
        "```\r\n",
        ">>> maxi([1,5,6,9,1,2,3,7,9,8])\r\n",
        "(9,3)\r\n",
        "```\r\n"
      ]
    },
    {
      "cell_type": "markdown",
      "metadata": {
        "id": "UsKYyU4ovjqr"
      },
      "source": [
        "# Exercice 2"
      ]
    },
    {
      "cell_type": "markdown",
      "metadata": {
        "id": "P2UNowjLvlcL"
      },
      "source": [
        "La fonction recherche prend en paramètres deux chaines de caractères `gene` et `seq_adn` et renvoie `True` si on retrouve `gene` dans `seq_adn` et `False` sinon.\r\n",
        "\r\n",
        "Compléter le code Python ci-dessous pour qu’il implémente la fonction recherche.\r\n",
        "\r\n",
        "Exemples :\r\n",
        "\r\n",
        "\r\n",
        "```\r\n",
        ">>> recherche(\"AATC\", \"GTACAAATCTTGCC\")\r\n",
        "True\r\n",
        ">>> recherche(\"AGTC\", \"GTACAAATCTTGCC\")\r\n",
        "False\r\n",
        "```\r\n",
        "\r\n",
        "\r\n"
      ]
    },
    {
      "cell_type": "code",
      "metadata": {
        "id": "qWpH_zdavK4v"
      },
      "source": [
        "def recherche(gene, seq_adn):\r\n",
        "    n = len(seq_adn)\r\n",
        "    g = len(gene)\r\n",
        "    i = ...\r\n",
        "    trouve = False\r\n",
        "    while i < ... and trouve == ... :\r\n",
        "        j = 0\r\n",
        "        while j < g and gene[j] == seq_adn[i+j]:\r\n",
        "            ...\r\n",
        "        if j == g:\r\n",
        "            trouve = True\r\n",
        "        ...\r\n",
        "    return trouve\r\n"
      ],
      "execution_count": null,
      "outputs": []
    }
  ]
}