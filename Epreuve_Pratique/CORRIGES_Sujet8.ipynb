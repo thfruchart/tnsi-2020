{
  "nbformat": 4,
  "nbformat_minor": 0,
  "metadata": {
    "colab": {
      "name": "Epreuve_Pratique_CORRIGES_Sujet8.ipynb",
      "provenance": [],
      "collapsed_sections": [],
      "authorship_tag": "ABX9TyOILD6YU7nCTnk/gLM1ceCd",
      "include_colab_link": true
    },
    "kernelspec": {
      "name": "python3",
      "display_name": "Python 3"
    }
  },
  "cells": [
    {
      "cell_type": "markdown",
      "metadata": {
        "id": "view-in-github",
        "colab_type": "text"
      },
      "source": [
        "<a href=\"https://colab.research.google.com/github/thfruchart/tnsi-2020/blob/master/Epreuve_Pratique/CORRIGES_Sujet8.ipynb\" target=\"_parent\"><img src=\"https://colab.research.google.com/assets/colab-badge.svg\" alt=\"Open In Colab\"/></a>"
      ]
    },
    {
      "cell_type": "markdown",
      "metadata": {
        "id": "RiTwvMn0hXFW"
      },
      "source": [
        "# Exercice 1"
      ]
    },
    {
      "cell_type": "markdown",
      "metadata": {
        "id": "q-gYdOzehnps"
      },
      "source": [
        "Écrire une fonction `recherche` qui prend en paramètres `caractere`, un caractère, et `mot`, une chaîne de caractères, et qui renvoie le nombre d’occurrences de `caractere` dans `mot`, c’est-à-dire le nombre de fois où `caractere` apparaît dans `mot`.\r\n",
        "\r\n",
        "\r\n",
        "Exemples :\r\n",
        "\r\n",
        "\r\n",
        "```\r\n",
        ">>> recherche('e', \"sciences\")\r\n",
        "2\r\n",
        ">>> recherche('i',\"mississippi\")\r\n",
        "4\r\n",
        ">>> recherche('a',\"mississippi\")\r\n",
        "0\r\n",
        "```\r\n",
        "\r\n",
        "\r\n"
      ]
    },
    {
      "cell_type": "code",
      "metadata": {
        "id": "MSdrh_Ibi7gc"
      },
      "source": [
        "def recherche(caractere,mot):\r\n",
        "    ''' renvoie le nombre de fois où 'caractere' apparaît dans 'mot' '''\r\n",
        "    n = 0\r\n",
        "    for i in range(len(mot)): \r\n",
        "        if mot[i] == caractere:\r\n",
        "            n = n+1\r\n",
        "    return n\r\n",
        "\r\n",
        "    "
      ],
      "execution_count": 1,
      "outputs": []
    },
    {
      "cell_type": "code",
      "metadata": {
        "id": "cFVre4bZsQtl",
        "outputId": "559b962e-585a-46b4-e232-8b629b33d33a",
        "colab": {
          "base_uri": "https://localhost:8080/"
        }
      },
      "source": [
        "recherche('i',\"mississippi\")"
      ],
      "execution_count": 2,
      "outputs": [
        {
          "output_type": "execute_result",
          "data": {
            "text/plain": [
              "4"
            ]
          },
          "metadata": {
            "tags": []
          },
          "execution_count": 2
        }
      ]
    },
    {
      "cell_type": "code",
      "metadata": {
        "id": "q-RHqlnzsSMN",
        "outputId": "059bc3d1-5445-4011-8164-597174eb48bc",
        "colab": {
          "base_uri": "https://localhost:8080/"
        }
      },
      "source": [
        "recherche('a',\"mississippi\")"
      ],
      "execution_count": 3,
      "outputs": [
        {
          "output_type": "execute_result",
          "data": {
            "text/plain": [
              "0"
            ]
          },
          "metadata": {
            "tags": []
          },
          "execution_count": 3
        }
      ]
    },
    {
      "cell_type": "markdown",
      "metadata": {
        "id": "XJNLFqJshz4d"
      },
      "source": [
        "# Exercice 2"
      ]
    },
    {
      "cell_type": "markdown",
      "metadata": {
        "id": "EHbzpJSGh3xE"
      },
      "source": [
        "On s’intéresse à un algorithme récursif qui permet de rendre la monnaie à partir d’une liste donnée de valeurs de pièces et de billets \r\n",
        "* le système monétaire est donné sous forme d’une `liste pieces=[100, 50, 20, 10, 5, 2, 1]` \r\n",
        "* on supposera qu’il n’y a pas de limitation quant à leur nombre, \r\n",
        "* on cherche à donner la liste de pièces à rendre pour une somme donnée en argument.\r\n",
        "\r\n",
        "\r\n",
        "Compléter le code Python ci-dessous de la fonction `rendu_glouton` qui implémente cet algorithme et renvoie la liste des pièces à rendre\r\n",
        "\r\n",
        "\r\n",
        "On devra obtenir :\r\n",
        "```\r\n",
        ">>>rendu_glouton(68,[],0)\r\n",
        "[50, 10, 5, 2, 1]\r\n",
        ">>>rendu_glouton(291,[],0)\r\n",
        "[100, 100, 50, 20, 20, 1]\r\n",
        "```\r\n",
        "\r\n"
      ]
    },
    {
      "cell_type": "code",
      "metadata": {
        "id": "n3CPJuCehPPk"
      },
      "source": [
        "pieces = [100,50,20,10,5,2,1]\r\n",
        "\r\n",
        "def rendu_glouton(arendre, solution=[], i=0):\r\n",
        "    if arendre == 0:\r\n",
        "       return solution\r\n",
        "    p = pieces[i]\r\n",
        "    if p <= arendre :\r\n",
        "        solution.append(p)\r\n",
        "        return rendu_glouton(arendre - p, solution ,i)\r\n",
        "    else :\r\n",
        "        return rendu_glouton(arendre, solution, i+1)"
      ],
      "execution_count": 4,
      "outputs": []
    },
    {
      "cell_type": "code",
      "metadata": {
        "id": "IEO9mQ98s0F8",
        "outputId": "f9298096-0fa2-40ac-a29c-33c12048ca20",
        "colab": {
          "base_uri": "https://localhost:8080/"
        }
      },
      "source": [
        "rendu_glouton(291,[],0)"
      ],
      "execution_count": 8,
      "outputs": [
        {
          "output_type": "execute_result",
          "data": {
            "text/plain": [
              "[100, 100, 50, 20, 20, 1]"
            ]
          },
          "metadata": {
            "tags": []
          },
          "execution_count": 8
        }
      ]
    },
    {
      "cell_type": "code",
      "metadata": {
        "id": "IoLRlX4_s17d",
        "outputId": "2ae99d51-8042-4056-b9c7-097d0ea1e631",
        "colab": {
          "base_uri": "https://localhost:8080/"
        }
      },
      "source": [
        "rendu_glouton(68,[],0)"
      ],
      "execution_count": 7,
      "outputs": [
        {
          "output_type": "execute_result",
          "data": {
            "text/plain": [
              "[50, 10, 5, 2, 1]"
            ]
          },
          "metadata": {
            "tags": []
          },
          "execution_count": 7
        }
      ]
    }
  ]
}