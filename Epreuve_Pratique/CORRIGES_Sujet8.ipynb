{
  "nbformat": 4,
  "nbformat_minor": 0,
  "metadata": {
    "colab": {
      "name": "Epreuve_Pratique_CORRIGES_Sujet8.ipynb",
      "provenance": [],
      "collapsed_sections": [],
      "authorship_tag": "ABX9TyOQCZeYRu6EBCMkPL+2DGmv",
      "include_colab_link": true
    },
    "kernelspec": {
      "name": "python3",
      "display_name": "Python 3"
    }
  },
  "cells": [
    {
      "cell_type": "markdown",
      "metadata": {
        "id": "view-in-github",
        "colab_type": "text"
      },
      "source": [
        "<a href=\"https://colab.research.google.com/github/thfruchart/tnsi-2020/blob/master/Epreuve_Pratique/CORRIGES_Sujet8.ipynb\" target=\"_parent\"><img src=\"https://colab.research.google.com/assets/colab-badge.svg\" alt=\"Open In Colab\"/></a>"
      ]
    },
    {
      "cell_type": "markdown",
      "metadata": {
        "id": "RiTwvMn0hXFW"
      },
      "source": [
        "# Exercice 1"
      ]
    },
    {
      "cell_type": "markdown",
      "metadata": {
        "id": "q-gYdOzehnps"
      },
      "source": [
        "Écrire une fonction `recherche` qui prend en paramètres `caractere`, un caractère, et `mot`, une chaîne de caractères, et qui renvoie le nombre d’occurrences de `caractere` dans `mot`, c’est-à-dire le nombre de fois où `caractere` apparaît dans `mot`.\r\n",
        "\r\n",
        "\r\n",
        "Exemples :\r\n",
        "\r\n",
        "\r\n",
        "```\r\n",
        ">>> recherche('e', \"sciences\")\r\n",
        "2\r\n",
        ">>> recherche('i',\"mississippi\")\r\n",
        "4\r\n",
        ">>> recherche('a',\"mississippi\")\r\n",
        "0\r\n",
        "```\r\n",
        "\r\n",
        "\r\n"
      ]
    },
    {
      "cell_type": "markdown",
      "metadata": {
        "id": "XJNLFqJshz4d"
      },
      "source": [
        "# Exercice 2"
      ]
    },
    {
      "cell_type": "markdown",
      "metadata": {
        "id": "EHbzpJSGh3xE"
      },
      "source": [
        "On s’intéresse à un algorithme récursif qui permet de rendre la monnaie à partir d’une liste donnée de valeurs de pièces et de billets \r\n",
        "* le système monétaire est donné sous forme d’une `liste pieces=[100, 50, 20, 10, 5, 2, 1]` \r\n",
        "* on supposera qu’il n’y a pas de limitation quant à leur nombre, \r\n",
        "* on cherche à donner la liste de pièces à rendre pour une somme donnée en argument.\r\n",
        "\r\n",
        "\r\n",
        "Compléter le code Python ci-dessous de la fonction `rendu_glouton` qui implémente cet algorithme et renvoie la liste des pièces à rendre"
      ]
    },
    {
      "cell_type": "code",
      "metadata": {
        "id": "n3CPJuCehPPk"
      },
      "source": [
        "pieces = [100,50,20,10,5,2,1]\r\n",
        "\r\n",
        "def rendu_glouton(arendre, solution=[], i=0):\r\n",
        "    if arendre == 0:\r\n",
        "       return ...\r\n",
        "    p = pieces[i]\r\n",
        "    if p <= ... :\r\n",
        "        return rendu_glouton(arendre - p, solution.append(...),i)\r\n",
        "    else :\r\n",
        "        return rendu_glouton(arendre, solution, ...)"
      ],
      "execution_count": null,
      "outputs": []
    }
  ]
}