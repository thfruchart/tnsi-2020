{
  "nbformat": 4,
  "nbformat_minor": 0,
  "metadata": {
    "colab": {
      "name": "03_EXERCICES_Programmation_Objet.ipynb",
      "provenance": [],
      "collapsed_sections": [],
      "authorship_tag": "ABX9TyMiBhHP3EsR/eQ/V0opBWK7",
      "include_colab_link": true
    },
    "kernelspec": {
      "name": "python3",
      "display_name": "Python 3"
    }
  },
  "cells": [
    {
      "cell_type": "markdown",
      "metadata": {
        "id": "view-in-github",
        "colab_type": "text"
      },
      "source": [
        "<a href=\"https://colab.research.google.com/github/thfruchart/tnsi-2020/blob/master/Chap03/EXERCICES_Programmation_Objet.ipynb\" target=\"_parent\"><img src=\"https://colab.research.google.com/assets/colab-badge.svg\" alt=\"Open In Colab\"/></a>"
      ]
    },
    {
      "cell_type": "markdown",
      "metadata": {
        "id": "_gVpEk9K6bin"
      },
      "source": [
        "\n",
        "**Exercice 1**\n",
        "\n",
        "1. Créer une classe `Eleve` dans laquelle chaque objet possède trois attributs : `nom`  `prenom` et `age`\n",
        "\n",
        "2. Créer l’objet  `bill`  correspondant aux attributs suivants :\n",
        "\n",
        "|nom |  prenom |  age|\n",
        "|:---:|:-------:|:----:|\n",
        "|GATES | Bill | 64|\n",
        "\n",
        "3. Créer un objet `moi` correspondant à votre identité.\n",
        "\n",
        "4. Ajouter une méthode `__str__(self)` qui retourne une chaîne de caractères sous la forme :\n",
        "`'Bill  GATES, 64 ans'`\n",
        "\n",
        "5. Tester cette méthode en exécutant la commande `print(moi)`\n"
      ]
    },
    {
      "cell_type": "markdown",
      "metadata": {
        "id": "72XIxCKL34mS"
      },
      "source": [
        "# corrigé de l'exercice 1"
      ]
    },
    {
      "cell_type": "code",
      "metadata": {
        "id": "SDZ2N1Zi3y8q",
        "outputId": "da222a9f-4626-44ae-d5fe-83c8a94c9472",
        "colab": {
          "base_uri": "https://localhost:8080/",
          "height": 51
        }
      },
      "source": [
        "class Eleve:\n",
        "    def __init__(self, n,p,a):\n",
        "        self.nom = n\n",
        "        self.prenom = p\n",
        "        self.age = a\n",
        "\n",
        "    def __str__(self):\n",
        "        return self.prenom + ' ' + self.nom + ', '+ str(self.age) + ' ans'\n",
        "\n",
        "\n",
        "bill = Eleve('GATE','Bill',64)\n",
        "moi = Eleve('FRUCHART', 'Thomas', 46)\n",
        "\n",
        "print(bill)\n",
        "print(moi)"
      ],
      "execution_count": null,
      "outputs": [
        {
          "output_type": "stream",
          "text": [
            "Bill GATE, 64 ans\n",
            "Thomas FRUCHART, 46 ans\n"
          ],
          "name": "stdout"
        }
      ]
    },
    {
      "cell_type": "markdown",
      "metadata": {
        "id": "NtB7XVN82Oel"
      },
      "source": [
        "# Travail personnel sur l'exercice 1\n",
        "\n",
        "Avant d'exécuter chaque cellule, déterminer ce qui sera affiché, puis vérifier en exécutant la cellule.\n",
        "\n",
        "En cas de difficulté : \n",
        "* visualiser l'exécution sur PythonTutor\n",
        "* préparer des questions à poser en classe"
      ]
    },
    {
      "cell_type": "markdown",
      "metadata": {
        "id": "nZXtrMSh3QNP"
      },
      "source": [
        "### question 1\n",
        "\n",
        "qu'affiche ce code ?"
      ]
    },
    {
      "cell_type": "code",
      "metadata": {
        "id": "cpwjAqgv2g73",
        "outputId": "eb1a8803-5f89-40cd-9bce-44eca28a9d85",
        "colab": {
          "base_uri": "https://localhost:8080/",
          "height": 198
        }
      },
      "source": [
        "class Eleve:\n",
        "    def __init__(self, n,p,a):\n",
        "        self.nom = n\n",
        "        self.prenom = p\n",
        "        self.age = a\n",
        "\n",
        "james = Eleve('BOND', 'James', 33)\n",
        "print(james.n)"
      ],
      "execution_count": null,
      "outputs": [
        {
          "output_type": "error",
          "ename": "AttributeError",
          "evalue": "ignored",
          "traceback": [
            "\u001b[0;31m---------------------------------------------------------------------------\u001b[0m",
            "\u001b[0;31mAttributeError\u001b[0m                            Traceback (most recent call last)",
            "\u001b[0;32m<ipython-input-4-5a16699226f5>\u001b[0m in \u001b[0;36m<module>\u001b[0;34m()\u001b[0m\n\u001b[1;32m      6\u001b[0m \u001b[0;34m\u001b[0m\u001b[0m\n\u001b[1;32m      7\u001b[0m \u001b[0mjames\u001b[0m \u001b[0;34m=\u001b[0m \u001b[0mEleve\u001b[0m\u001b[0;34m(\u001b[0m\u001b[0;34m'BOND'\u001b[0m\u001b[0;34m,\u001b[0m \u001b[0;34m'James'\u001b[0m\u001b[0;34m,\u001b[0m \u001b[0;36m33\u001b[0m\u001b[0;34m)\u001b[0m\u001b[0;34m\u001b[0m\u001b[0;34m\u001b[0m\u001b[0m\n\u001b[0;32m----> 8\u001b[0;31m \u001b[0mprint\u001b[0m\u001b[0;34m(\u001b[0m\u001b[0mjames\u001b[0m\u001b[0;34m.\u001b[0m\u001b[0mn\u001b[0m\u001b[0;34m)\u001b[0m\u001b[0;34m\u001b[0m\u001b[0;34m\u001b[0m\u001b[0m\n\u001b[0m",
            "\u001b[0;31mAttributeError\u001b[0m: 'Eleve' object has no attribute 'n'"
          ]
        }
      ]
    },
    {
      "cell_type": "markdown",
      "metadata": {
        "id": "5Fq85zjA3Sl6"
      },
      "source": [
        "### question 2\n",
        "\n",
        "qu'affiche ce code ?"
      ]
    },
    {
      "cell_type": "code",
      "metadata": {
        "id": "PseYBA6k23z7",
        "outputId": "577b5e05-9b7a-435a-e914-c34635ba35fc",
        "colab": {
          "base_uri": "https://localhost:8080/",
          "height": 51
        }
      },
      "source": [
        "class Eleve:\n",
        "    def __init__(self, n,p,a):\n",
        "        self.nom = n\n",
        "        self.prenom = p\n",
        "        self.age = a\n",
        "\n",
        "    def compare(self, v):\n",
        "        return self.age > v \n",
        "\n",
        "\n",
        "bill = Eleve('GATE','Bill',64)\n",
        "james = Eleve('BOND', 'James', 46)\n",
        "print(bill.compare(50))\n",
        "print(james.compare(bill.age))"
      ],
      "execution_count": null,
      "outputs": [
        {
          "output_type": "stream",
          "text": [
            "True\n",
            "False\n"
          ],
          "name": "stdout"
        }
      ]
    },
    {
      "cell_type": "markdown",
      "metadata": {
        "id": "nxcWnL7q3baJ"
      },
      "source": [
        "### question 3\n",
        "\n",
        "qu'affiche ce code ?"
      ]
    },
    {
      "cell_type": "code",
      "metadata": {
        "id": "9YEFM6IH3ePh",
        "outputId": "cc3d21ee-50c4-4f8a-b627-251e35c6724d",
        "colab": {
          "base_uri": "https://localhost:8080/",
          "height": 334
        }
      },
      "source": [
        "class Eleve:\n",
        "    def __init__(self, n,p,a):\n",
        "        self.nom = n\n",
        "        self.prenom = p\n",
        "        self.age = a\n",
        "\n",
        "    def compare(self, v):\n",
        "        return self.age > v.age\n",
        "\n",
        "\n",
        "bill = Eleve('GATE','Bill',64)\n",
        "james = Eleve('BOND', 'James', 46)\n",
        "\n",
        "print(james.compare(bill))\n",
        "print(bill.compare(50))"
      ],
      "execution_count": null,
      "outputs": [
        {
          "output_type": "stream",
          "text": [
            "False\n"
          ],
          "name": "stdout"
        },
        {
          "output_type": "error",
          "ename": "AttributeError",
          "evalue": "ignored",
          "traceback": [
            "\u001b[0;31m---------------------------------------------------------------------------\u001b[0m",
            "\u001b[0;31mAttributeError\u001b[0m                            Traceback (most recent call last)",
            "\u001b[0;32m<ipython-input-6-ee0f32ed7872>\u001b[0m in \u001b[0;36m<module>\u001b[0;34m()\u001b[0m\n\u001b[1;32m     13\u001b[0m \u001b[0;34m\u001b[0m\u001b[0m\n\u001b[1;32m     14\u001b[0m \u001b[0mprint\u001b[0m\u001b[0;34m(\u001b[0m\u001b[0mjames\u001b[0m\u001b[0;34m.\u001b[0m\u001b[0mcompare\u001b[0m\u001b[0;34m(\u001b[0m\u001b[0mbill\u001b[0m\u001b[0;34m)\u001b[0m\u001b[0;34m)\u001b[0m\u001b[0;34m\u001b[0m\u001b[0;34m\u001b[0m\u001b[0m\n\u001b[0;32m---> 15\u001b[0;31m \u001b[0mprint\u001b[0m\u001b[0;34m(\u001b[0m\u001b[0mbill\u001b[0m\u001b[0;34m.\u001b[0m\u001b[0mcompare\u001b[0m\u001b[0;34m(\u001b[0m\u001b[0;36m50\u001b[0m\u001b[0;34m)\u001b[0m\u001b[0;34m)\u001b[0m\u001b[0;34m\u001b[0m\u001b[0;34m\u001b[0m\u001b[0m\n\u001b[0m",
            "\u001b[0;32m<ipython-input-6-ee0f32ed7872>\u001b[0m in \u001b[0;36mcompare\u001b[0;34m(self, v)\u001b[0m\n\u001b[1;32m      6\u001b[0m \u001b[0;34m\u001b[0m\u001b[0m\n\u001b[1;32m      7\u001b[0m     \u001b[0;32mdef\u001b[0m \u001b[0mcompare\u001b[0m\u001b[0;34m(\u001b[0m\u001b[0mself\u001b[0m\u001b[0;34m,\u001b[0m \u001b[0mv\u001b[0m\u001b[0;34m)\u001b[0m\u001b[0;34m:\u001b[0m\u001b[0;34m\u001b[0m\u001b[0;34m\u001b[0m\u001b[0m\n\u001b[0;32m----> 8\u001b[0;31m         \u001b[0;32mreturn\u001b[0m \u001b[0mself\u001b[0m\u001b[0;34m.\u001b[0m\u001b[0mage\u001b[0m \u001b[0;34m>\u001b[0m \u001b[0mv\u001b[0m\u001b[0;34m.\u001b[0m\u001b[0mage\u001b[0m\u001b[0;34m\u001b[0m\u001b[0;34m\u001b[0m\u001b[0m\n\u001b[0m\u001b[1;32m      9\u001b[0m \u001b[0;34m\u001b[0m\u001b[0m\n\u001b[1;32m     10\u001b[0m \u001b[0;34m\u001b[0m\u001b[0m\n",
            "\u001b[0;31mAttributeError\u001b[0m: 'int' object has no attribute 'age'"
          ]
        }
      ]
    },
    {
      "cell_type": "markdown",
      "metadata": {
        "id": "Op9Arxxb39Qy"
      },
      "source": [
        "# Corrigé de l'exercice 2"
      ]
    },
    {
      "cell_type": "code",
      "metadata": {
        "id": "tpHk6R4x7-L4"
      },
      "source": [
        "class Date:\n",
        "    def __init__(self, j,m,a):\n",
        "        self.jour = j\n",
        "        self.mois = m\n",
        "        self.annee = a\n",
        "\n",
        "    def __str__(self):  # ou texte(self)\n",
        "        dico = {1:'janvier',\n",
        "                2 : 'février',\n",
        "                3 : 'mars',\n",
        "                4 : 'avril',\n",
        "                5 : 'mai',\n",
        "                6 : 'juin',\n",
        "                7 : 'juillet',\n",
        "                8 : 'août',\n",
        "                9 : 'septembre',\n",
        "                10: 'octobre' ,\n",
        "                11: 'novembre',\n",
        "                12:'décembre'}\n",
        "        return str(self.jour) + ' ' + dico[self.mois] + ' ' + str(self.annee)\n",
        "\n",
        "    def __eq__(self, v):  # ou egale(self,v)\n",
        "        return self.jour==v.jour and self.mois==v.mois and self.annee==v.annee\n",
        "    \n",
        "    def __lt__(self, v):  # ou anterieure(self,v)\n",
        "        if self.annee < v.annee:\n",
        "            return True\n",
        "        if self.annee == v.annee:\n",
        "            if self.mois < v.mois:\n",
        "                return True\n",
        "            if self.mois == v.mois:\n",
        "                if self.jour < v.jour:\n",
        "                    return True\n",
        "        return False\n",
        "\n",
        "d1 = Date(1,1,2000)\n",
        "d2 = Date(31,12,2020)\n",
        "d3 = Date(31,12,2020)"
      ],
      "execution_count": 1,
      "outputs": []
    },
    {
      "cell_type": "code",
      "metadata": {
        "id": "an73alV8u5bj",
        "outputId": "65c30892-c660-411a-f825-95695dd5a774",
        "colab": {
          "base_uri": "https://localhost:8080/",
          "height": 68
        }
      },
      "source": [
        "print(d1)\n",
        "print(d3)\n",
        "print(d1 <d3)"
      ],
      "execution_count": 4,
      "outputs": [
        {
          "output_type": "stream",
          "text": [
            "1 janvier 2000\n",
            "31 décembre 2020\n",
            "True\n"
          ],
          "name": "stdout"
        }
      ]
    },
    {
      "cell_type": "markdown",
      "metadata": {
        "id": "2ADqILpu5ZG0"
      },
      "source": [
        "# Corrigé de l'exercice 3"
      ]
    },
    {
      "cell_type": "code",
      "metadata": {
        "id": "wP_eAu35dkca"
      },
      "source": [
        "class Fraction:\n",
        "    def __init__(self, n,d=1): # d=1 est un argument PAR DéFAUT\n",
        "        if type(n) != int or type(d) != int:\n",
        "            raise TypeError('entiers uniquement')\n",
        "        if d<=0:\n",
        "            raise ValueError('dénominateur strictement positif uniquement')\n",
        "        self.num = n\n",
        "        self.denom = d\n",
        "\n",
        "    def __str__(self): # ou texte(self)\n",
        "        if self.denom==1:\n",
        "            return str(self.num)\n",
        "        else:\n",
        "            return str(self.num) + '/' + str(self.denom)\n",
        "\n",
        "    def __eq__(self, v): # ou egale(self,v)\n",
        "        return self.num * v.denom == self.denom * v.num\n",
        "    \n",
        "    def __lt__(self, v):\n",
        "        return self.num * v.denom < self.denom * v.num\n"
      ],
      "execution_count": 24,
      "outputs": []
    },
    {
      "cell_type": "code",
      "metadata": {
        "id": "148iRCGzeHuv",
        "outputId": "5998c7fb-3500-4539-92db-080bc83edcac",
        "colab": {
          "base_uri": "https://localhost:8080/",
          "height": 34
        }
      },
      "source": [
        "Fraction(2,3) == Fraction(4,6)"
      ],
      "execution_count": 22,
      "outputs": [
        {
          "output_type": "execute_result",
          "data": {
            "text/plain": [
              "False"
            ]
          },
          "metadata": {
            "tags": []
          },
          "execution_count": 22
        }
      ]
    }
  ]
}