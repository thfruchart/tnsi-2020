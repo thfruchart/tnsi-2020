{
  "nbformat": 4,
  "nbformat_minor": 0,
  "metadata": {
    "colab": {
      "name": "06-COURS_Structures_linéaires.ipynb",
      "provenance": [],
      "collapsed_sections": [
        "Jh14oHIKI6BH",
        "7eA8pURdI-yn",
        "OuJxfqmVHTxC",
        "MlXrDvhRHfQY"
      ],
      "authorship_tag": "ABX9TyPljLuXh7/oL8FyYjackdFf",
      "include_colab_link": true
    },
    "kernelspec": {
      "name": "python3",
      "display_name": "Python 3"
    }
  },
  "cells": [
    {
      "cell_type": "markdown",
      "metadata": {
        "id": "view-in-github",
        "colab_type": "text"
      },
      "source": [
        "<a href=\"https://colab.research.google.com/github/thfruchart/tnsi-2020/blob/master/Chap06/COURS_Stuctures_lin%C3%A9aires.ipynb\" target=\"_parent\"><img src=\"https://colab.research.google.com/assets/colab-badge.svg\" alt=\"Open In Colab\"/></a>"
      ]
    },
    {
      "cell_type": "markdown",
      "metadata": {
        "id": "NW101hdlGmuA"
      },
      "source": [
        "# Structures linéaires"
      ]
    },
    {
      "cell_type": "markdown",
      "metadata": {
        "id": "D6xEY7KQGpTJ"
      },
      "source": [
        "Une **structure linéaire** sur un ensemble E est une suite d'éléments de E, dans laquelle chaque élément de E a une place bien précise.\n",
        "\n",
        "* si les éléments ont un indice (index) : on parle de **tableau**\n",
        "* si les éléments ont un prédécesseur et/ou un successeur : on parle de **liste chaînée**"
      ]
    },
    {
      "cell_type": "markdown",
      "metadata": {
        "id": "Jh14oHIKI6BH"
      },
      "source": [
        "### **Avantage** d'une structure linéaire tableau : "
      ]
    },
    {
      "cell_type": "markdown",
      "metadata": {
        "id": "AIUw75QpHuG1"
      },
      "source": [
        "  =>  rapidité d'accès à chaque élément\n"
      ]
    },
    {
      "cell_type": "markdown",
      "metadata": {
        "id": "7eA8pURdI-yn"
      },
      "source": [
        "### **Avantage** d'une structure linéaire liste chaînée : "
      ]
    },
    {
      "cell_type": "markdown",
      "metadata": {
        "id": "oECCcScEJEYH"
      },
      "source": [
        " =>  souplesse de la structure"
      ]
    },
    {
      "cell_type": "markdown",
      "metadata": {
        "id": "OuJxfqmVHTxC"
      },
      "source": [
        "### En Python, le type `set` définit-il une structure linéaire ?"
      ]
    },
    {
      "cell_type": "markdown",
      "metadata": {
        "id": "y3YQ9GljIZ0P"
      },
      "source": [
        "NON, car les éléments ne sont pas ordonnées dans un ensemble.\n",
        "\n",
        "On peut le constater en testant la cellule suivante :"
      ]
    },
    {
      "cell_type": "code",
      "metadata": {
        "id": "AGWcV74wJV80"
      },
      "source": [
        "{1,2,3} == {3,2,1}"
      ],
      "execution_count": null,
      "outputs": []
    },
    {
      "cell_type": "markdown",
      "metadata": {
        "id": "MlXrDvhRHfQY"
      },
      "source": [
        "### En Python, le type `list` définit-il une structure linéaire ?"
      ]
    },
    {
      "cell_type": "markdown",
      "metadata": {
        "id": "tbbl528oIahG"
      },
      "source": [
        "OUI, puisque chaque élément possède un indice.\n",
        "\n",
        "Le type list de Python permet de manipuler des **tableaux**. \n",
        "\n",
        "Mais il permet également d'ajouter, supprimer, insérer des éléments, ce qui est le propre d'une **liste chaînée**.\n",
        "\n",
        "A RETENIR : \n",
        "* le type `list` de python cherche à cumuler les avantages des deux structures linéaires : tableaux et liste chaînée. \n",
        "* en toute rigueur un objet de type list n'est **ni** un tableau **ni** une liste chaînée. "
      ]
    },
    {
      "cell_type": "markdown",
      "metadata": {
        "id": "QS73qft0IyCW"
      },
      "source": [
        "# Principe d'une liste chaînée"
      ]
    },
    {
      "cell_type": "code",
      "metadata": {
        "id": "5pG4c4rEEtcR"
      },
      "source": [
        ""
      ],
      "execution_count": null,
      "outputs": []
    }
  ]
}