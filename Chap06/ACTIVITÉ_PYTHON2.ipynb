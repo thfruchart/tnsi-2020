{
  "nbformat": 4,
  "nbformat_minor": 0,
  "metadata": {
    "colab": {
      "name": "06-ACTIVITÉ-PYTHON2.ipynb",
      "provenance": [],
      "collapsed_sections": [],
      "authorship_tag": "ABX9TyPIv0MtqxEnyxL1yMAZv3pS",
      "include_colab_link": true
    },
    "kernelspec": {
      "name": "python3",
      "display_name": "Python 3"
    }
  },
  "cells": [
    {
      "cell_type": "markdown",
      "metadata": {
        "id": "view-in-github",
        "colab_type": "text"
      },
      "source": [
        "<a href=\"https://colab.research.google.com/github/thfruchart/tnsi-2020/blob/master/Chap06/ACTIVIT%C3%89_PYTHON2.ipynb\" target=\"_parent\"><img src=\"https://colab.research.google.com/assets/colab-badge.svg\" alt=\"Open In Colab\"/></a>"
      ]
    },
    {
      "cell_type": "markdown",
      "metadata": {
        "id": "PtzZJeGbdrLJ"
      },
      "source": [
        "# Activité 2"
      ]
    },
    {
      "cell_type": "markdown",
      "metadata": {
        "id": "0X6QQjjvhxmC"
      },
      "source": [
        "On reprend la classe Maillon de l'activité 1, et on définit une fonction `mystere`"
      ]
    },
    {
      "cell_type": "markdown",
      "metadata": {
        "id": "n1RNdYd3AWAP"
      },
      "source": [
        "*Remarque* : la condition `lst is None` est équivalente à `lst == None` du moment que cette valeur booléenne n'a pas été modifiée en programmant une méthode `__eq__`"
      ]
    },
    {
      "cell_type": "code",
      "metadata": {
        "id": "GFl5YOJGgR0z"
      },
      "source": [
        "class Maillon:  # identique à l'activité 1\n",
        "    def __init__(self, val, suiv=None):\n",
        "        self.valeur = val\n",
        "        self.suivant = suiv\n",
        "\n",
        "def mystere(lst):\n",
        "    if lst is None:\n",
        "        return 0\n",
        "    return 1 + mystere(lst.suivant)"
      ],
      "execution_count": null,
      "outputs": []
    },
    {
      "cell_type": "markdown",
      "metadata": {
        "id": "dWNsEZEnh3FJ"
      },
      "source": [
        "Déterminer ce qui sera affiché à l'éxécution du code suivant, \n",
        "\n",
        "puis vérifier en exécutant la cellule :"
      ]
    },
    {
      "cell_type": "code",
      "metadata": {
        "id": "3fAbpfmDh-B-"
      },
      "source": [
        "lst = Maillon(30, Maillon(20, Maillon(10)))\n",
        "print (mystere (lst) )"
      ],
      "execution_count": null,
      "outputs": []
    },
    {
      "cell_type": "markdown",
      "metadata": {
        "id": "ZoI2XNg1j3Lu"
      },
      "source": [
        "## Exercice 2"
      ]
    },
    {
      "cell_type": "markdown",
      "metadata": {
        "id": "CedHjMSpj6gd"
      },
      "source": [
        "Écrire une fonction `longueur(lst)` qui utilise une boucle **while** pour renvoyer la longueur d'une liste, c'est à dire le nombre de maillons qu'elle contient. On convient que `None` représente une liste de longueur 0. "
      ]
    }
  ]
}