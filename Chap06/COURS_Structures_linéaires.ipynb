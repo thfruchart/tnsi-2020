{
  "nbformat": 4,
  "nbformat_minor": 0,
  "metadata": {
    "colab": {
      "name": "06-COURS_Structures_linéaires.ipynb",
      "provenance": [],
      "collapsed_sections": [
        "NW101hdlGmuA",
        "Jh14oHIKI6BH",
        "7eA8pURdI-yn",
        "OuJxfqmVHTxC",
        "MlXrDvhRHfQY",
        "fSr3nnbwLNn9",
        "QS73qft0IyCW",
        "bTpYJVWwNa1X",
        "IlX3Ol1GPLmD",
        "7xqDEM81-kNd",
        "Rco7MIlJHfit",
        "k-q3OHnOFXom",
        "p0QMLQufI5bq",
        "ij-LljAsJKs9",
        "8K-attXhJPXv",
        "1kB7cMR9PrA5",
        "LPgLdSAzJSZH",
        "A3rP32CkPL9k",
        "UEckisW4jTNH",
        "YXcuN_jnjWlB",
        "m6bDwcI3jp9u",
        "E0VbEyFrG4Jk"
      ],
      "authorship_tag": "ABX9TyMnkmOAyXH2JzmxQ2wMXZUR",
      "include_colab_link": true
    },
    "kernelspec": {
      "name": "python3",
      "display_name": "Python 3"
    }
  },
  "cells": [
    {
      "cell_type": "markdown",
      "metadata": {
        "id": "view-in-github",
        "colab_type": "text"
      },
      "source": [
        "<a href=\"https://colab.research.google.com/github/thfruchart/tnsi-2020/blob/master/Chap06/COURS_Structures_lin%C3%A9aires.ipynb\" target=\"_parent\"><img src=\"https://colab.research.google.com/assets/colab-badge.svg\" alt=\"Open In Colab\"/></a>"
      ]
    },
    {
      "cell_type": "markdown",
      "metadata": {
        "id": "NW101hdlGmuA"
      },
      "source": [
        "# Structures linéaires"
      ]
    },
    {
      "cell_type": "markdown",
      "metadata": {
        "id": "D6xEY7KQGpTJ"
      },
      "source": [
        "Une **structure linéaire** sur un ensemble E est une suite d'éléments de E, dans laquelle chaque élément de E a une place bien précise.\n",
        "\n",
        "* si les éléments ont un indice (index) : on parle de **tableau**\n",
        "* si les éléments ont un prédécesseur et/ou un successeur : on parle de **liste chaînée**"
      ]
    },
    {
      "cell_type": "markdown",
      "metadata": {
        "id": "Jh14oHIKI6BH"
      },
      "source": [
        "### **Avantage** d'une structure linéaire tableau : "
      ]
    },
    {
      "cell_type": "markdown",
      "metadata": {
        "id": "AIUw75QpHuG1"
      },
      "source": [
        "  =>  rapidité d'accès à chaque élément\n"
      ]
    },
    {
      "cell_type": "markdown",
      "metadata": {
        "id": "7eA8pURdI-yn"
      },
      "source": [
        "### **Avantage** d'une structure linéaire liste chaînée : "
      ]
    },
    {
      "cell_type": "markdown",
      "metadata": {
        "id": "oECCcScEJEYH"
      },
      "source": [
        " =>  souplesse de la structure"
      ]
    },
    {
      "cell_type": "markdown",
      "metadata": {
        "id": "OuJxfqmVHTxC"
      },
      "source": [
        "### En Python, le type `set` définit-il une structure linéaire ?"
      ]
    },
    {
      "cell_type": "markdown",
      "metadata": {
        "id": "y3YQ9GljIZ0P"
      },
      "source": [
        "NON, car les éléments ne sont pas ordonnées dans un ensemble.\n",
        "\n",
        "On peut le constater en testant la cellule suivante :"
      ]
    },
    {
      "cell_type": "code",
      "metadata": {
        "id": "AGWcV74wJV80",
        "outputId": "f10c9e88-3789-43c2-e0a6-6c6a0233dfa6",
        "colab": {
          "base_uri": "https://localhost:8080/"
        }
      },
      "source": [
        "{1,2,3} == {3,2,1}"
      ],
      "execution_count": 2,
      "outputs": [
        {
          "output_type": "execute_result",
          "data": {
            "text/plain": [
              "True"
            ]
          },
          "metadata": {
            "tags": []
          },
          "execution_count": 2
        }
      ]
    },
    {
      "cell_type": "markdown",
      "metadata": {
        "id": "MlXrDvhRHfQY"
      },
      "source": [
        "### En Python, le type `list` définit-il une structure linéaire ?"
      ]
    },
    {
      "cell_type": "markdown",
      "metadata": {
        "id": "tbbl528oIahG"
      },
      "source": [
        "OUI, puisque chaque élément possède un indice.\n",
        "\n",
        "Le type list de Python permet de manipuler des **tableaux**. \n",
        "\n",
        "Mais il permet également d'ajouter, supprimer, insérer des éléments, ce qui est le propre d'une **liste chaînée**.\n",
        "\n"
      ]
    },
    {
      "cell_type": "markdown",
      "metadata": {
        "id": "fSr3nnbwLNn9"
      },
      "source": [
        "#### A RETENIR : "
      ]
    },
    {
      "cell_type": "markdown",
      "metadata": {
        "id": "J1vIsCqILLvN"
      },
      "source": [
        "\n",
        "* le type `list` de python cherche à cumuler les avantages des deux structures linéaires : tableaux et liste chaînée. \n",
        "* en toute rigueur un objet de type list n'est **ni** un tableau **ni** une liste chaînée. "
      ]
    },
    {
      "cell_type": "markdown",
      "metadata": {
        "id": "QS73qft0IyCW"
      },
      "source": [
        "# Principe d'une liste chaînée"
      ]
    },
    {
      "cell_type": "markdown",
      "metadata": {
        "id": "DjOhdtXXL4Qq"
      },
      "source": [
        "* Chaque élément d'une liste chaînée est stocké en mémoire avec l'adresse de l'élément suivant. \n",
        "* on accède au `n`-ième élément d'une liste chaînée en parcourant les `n-1` prédécesseurs de cet élément. \n",
        "* on peut ajouter des éléments au début, ou à l'intérieur de la liste chaînée. \n",
        "* la taille d'une liste chaînée est donc variable."
      ]
    },
    {
      "cell_type": "markdown",
      "metadata": {
        "id": "bTpYJVWwNa1X"
      },
      "source": [
        "### Exemple 1 : avec des tuples\n",
        "\n",
        "La liste `1-2-3`peut se définir ainsi :"
      ]
    },
    {
      "cell_type": "code",
      "metadata": {
        "id": "5pG4c4rEEtcR"
      },
      "source": [
        "lst1 = (1,(2,(3,None)))"
      ],
      "execution_count": 3,
      "outputs": []
    },
    {
      "cell_type": "markdown",
      "metadata": {
        "id": "IlX3Ol1GPLmD"
      },
      "source": [
        "#### Pour ajouter un élément en tête de la liste, on peut écrire"
      ]
    },
    {
      "cell_type": "code",
      "metadata": {
        "id": "4ue9m9J9PSsh",
        "outputId": "2c6ecb2e-e614-4607-89da-509ce0c12faf",
        "colab": {
          "base_uri": "https://localhost:8080/"
        }
      },
      "source": [
        "lst0 = (0,lst1)\n",
        "print(lst0)"
      ],
      "execution_count": 4,
      "outputs": [
        {
          "output_type": "stream",
          "text": [
            "(0, (1, (2, (3, None))))\n"
          ],
          "name": "stdout"
        }
      ]
    },
    {
      "cell_type": "markdown",
      "metadata": {
        "id": "4T_fuzBQFjHa"
      },
      "source": [
        "* chaque \"maillon\" d'une liste chaînée `lst` est un tuple\n",
        "* le premier élément du tuple est  `lst[0]` et contient une valeur\n",
        "* le second élément du tuple est `lst[1]` qui est : \n",
        "  * soit un tuple représentant le maillon suivant\n",
        "  * soit `None` s'il n'y a pas de maillon suivant"
      ]
    },
    {
      "cell_type": "markdown",
      "metadata": {
        "id": "7xqDEM81-kNd"
      },
      "source": [
        "#### Pour convertir une telle liste chaînée au format texte"
      ]
    },
    {
      "cell_type": "code",
      "metadata": {
        "id": "HhhjzqvIEDq8"
      },
      "source": [
        "def texte(lst):\n",
        "    if lst[1] is None: # il n'y a pas de maillon suivant\n",
        "        return str(lst[0])\n",
        "    # sinon\n",
        "    return str(lst[0])+ '-' + texte(lst[1])"
      ],
      "execution_count": 5,
      "outputs": []
    },
    {
      "cell_type": "code",
      "metadata": {
        "id": "mboTkqBhC1Mp",
        "outputId": "78729cf4-e0ca-4bec-d2f0-b216b61ab9cc",
        "colab": {
          "base_uri": "https://localhost:8080/",
          "height": 0
        }
      },
      "source": [
        "texte(lst0)"
      ],
      "execution_count": 6,
      "outputs": [
        {
          "output_type": "execute_result",
          "data": {
            "application/vnd.google.colaboratory.intrinsic+json": {
              "type": "string"
            },
            "text/plain": [
              "'0-1-2-3'"
            ]
          },
          "metadata": {
            "tags": []
          },
          "execution_count": 6
        }
      ]
    },
    {
      "cell_type": "markdown",
      "metadata": {
        "id": "ZgSizw-2EI_9"
      },
      "source": [
        "Si on souhaite traiter le cas d'une liste chaînée vide, on peut préciser : "
      ]
    },
    {
      "cell_type": "code",
      "metadata": {
        "id": "6rhkD-4d-sIJ"
      },
      "source": [
        "def texte(lst):\n",
        "    if lst is None: # liste chaînée vide\n",
        "        return ''\n",
        "    if lst[1] is None:\n",
        "        return str(lst[0])\n",
        "    return str(lst[0])+ '-' + texte(lst[1])"
      ],
      "execution_count": 7,
      "outputs": []
    },
    {
      "cell_type": "markdown",
      "metadata": {
        "id": "Rco7MIlJHfit"
      },
      "source": [
        "#### Remarque : la fonction `texte` est écrite de manière récursive. \n",
        "\n",
        "En effet, une structure linéaire est naturellement une structure récursive !"
      ]
    },
    {
      "cell_type": "markdown",
      "metadata": {
        "id": "k-q3OHnOFXom"
      },
      "source": [
        "### Exemple 2 : programmation orientée objet"
      ]
    },
    {
      "cell_type": "markdown",
      "metadata": {
        "id": "7KcPTwe-GdTB"
      },
      "source": [
        "On commence par définir une classe Maillon (on peut choisir un autre nom comme Cellule, Element...)"
      ]
    },
    {
      "cell_type": "code",
      "metadata": {
        "id": "h127K6uzLVAq"
      },
      "source": [
        "class Maillon:\n",
        "    def __init__(self, val, suiv=None):\n",
        "        self.valeur = val\n",
        "        self.suivant = suiv"
      ],
      "execution_count": 8,
      "outputs": []
    },
    {
      "cell_type": "markdown",
      "metadata": {
        "id": "hzVMNAp1HsQs"
      },
      "source": [
        "Une **liste chaînée** est alors : \n",
        "\n",
        "* soit `None` (liste vide)\n",
        "*  soit une suite de maillons imbriqués."
      ]
    },
    {
      "cell_type": "code",
      "metadata": {
        "id": "V-0Sc_7vH17I"
      },
      "source": [
        "lst = Maillon(30, Maillon(20, Maillon(10)))"
      ],
      "execution_count": 9,
      "outputs": []
    },
    {
      "cell_type": "markdown",
      "metadata": {
        "id": "EnLqsW9OIIXi"
      },
      "source": [
        "Remarque : \n",
        "\n",
        "`Maillon(10)` est équivalent à `Maillon(10, None)`"
      ]
    },
    {
      "cell_type": "markdown",
      "metadata": {
        "id": "V6lRqtCMLZxa"
      },
      "source": [
        "On peut ajouter une méthode `__str__` à la classe Maillon"
      ]
    },
    {
      "cell_type": "code",
      "metadata": {
        "id": "xaZiQJxMHRCu"
      },
      "source": [
        "class Maillon:\n",
        "    def __init__(self, val, suiv=None):\n",
        "        self.valeur = val\n",
        "        self.suivant = suiv\n",
        "\n",
        "    def __str__(self):\n",
        "        if self.suivant is None:\n",
        "            return str(self.valeur)\n",
        "        return str(self.valeur) + '-' + str(self.suivant)"
      ],
      "execution_count": 10,
      "outputs": []
    },
    {
      "cell_type": "code",
      "metadata": {
        "id": "1zWm3680LDLA",
        "outputId": "82056c29-471a-489a-94aa-4534bc579c6e",
        "colab": {
          "base_uri": "https://localhost:8080/"
        }
      },
      "source": [
        "lst = Maillon(30, Maillon(20, Maillon(10)))\n",
        "\n",
        "print(lst)"
      ],
      "execution_count": 11,
      "outputs": [
        {
          "output_type": "stream",
          "text": [
            "30-20-10\n"
          ],
          "name": "stdout"
        }
      ]
    },
    {
      "cell_type": "markdown",
      "metadata": {
        "id": "p0QMLQufI5bq"
      },
      "source": [
        "### Variable contenant une liste chaînée"
      ]
    },
    {
      "cell_type": "markdown",
      "metadata": {
        "id": "wLz5u0BFIh-i"
      },
      "source": [
        "* dans l'Exemple 1, une variable contenant une liste chaînée a le type `tuple`.\n",
        "* dans l'Exemple 2, une variable contenant une liste chaînée a le type `Maillon` : elle contient le \"premier maillon\" de la chaîne. "
      ]
    },
    {
      "cell_type": "markdown",
      "metadata": {
        "id": "ij-LljAsJKs9"
      },
      "source": [
        "# Opérations sur les listes chaînées"
      ]
    },
    {
      "cell_type": "markdown",
      "metadata": {
        "id": "8K-attXhJPXv"
      },
      "source": [
        "## Calculer la longueur d'une liste chaînée"
      ]
    },
    {
      "cell_type": "markdown",
      "metadata": {
        "id": "IyePpFj6NEW9"
      },
      "source": [
        "* La longueur d'une liste vide vaut 0\n",
        "\n",
        "* pour une liste non vide, la longueur est le nombre de maillons, calculée en additionnant : \n",
        "  * 1 pour le maillon en **tête** de liste\n",
        "  *  la longueur de la **queue** de la liste, comptée à partir du maillon suivant"
      ]
    },
    {
      "cell_type": "code",
      "metadata": {
        "id": "P3YlDgf1M_6n"
      },
      "source": [
        "class Maillon:\n",
        "    def __init__(self, val, suiv=None):\n",
        "        self.valeur = val\n",
        "        self.suivant = suiv\n",
        "\n",
        "def longueur(lst):\n",
        "    if lst is None:\n",
        "        return 0\n",
        "    return 1 + longueur(lst.suivant)"
      ],
      "execution_count": 12,
      "outputs": []
    },
    {
      "cell_type": "markdown",
      "metadata": {
        "id": "1kB7cMR9PrA5"
      },
      "source": [
        "## Accéder au `n`-ième élément d'une liste chaînée"
      ]
    },
    {
      "cell_type": "code",
      "metadata": {
        "id": "ZtG26Mb7R1yl"
      },
      "source": [
        "class Maillon:  # identique à l'activité 1\n",
        "    def __init__(self, val, suiv=None):\n",
        "        self.valeur = val\n",
        "        self.suivant = suiv\n",
        "\n",
        "def acces_element(lst, n):\n",
        "    if lst is None:\n",
        "        raise IndexError(\"indice incorrect dans la liste chaînée\")\n",
        "    if n == 0:\n",
        "        return lst.valeur\n",
        "    else:\n",
        "        return acces_element(lst.suivant, n-1)"
      ],
      "execution_count": 13,
      "outputs": []
    },
    {
      "cell_type": "code",
      "metadata": {
        "id": "XfnA67uuTBfq"
      },
      "source": [
        "lst = Maillon(1, Maillon(2, Maillon(3)))\n",
        "z = acces_element(lst, 3)\n",
        "print(z)"
      ],
      "execution_count": null,
      "outputs": []
    },
    {
      "cell_type": "markdown",
      "metadata": {
        "id": "LPgLdSAzJSZH"
      },
      "source": [
        "## Renverser une liste chaînée"
      ]
    },
    {
      "cell_type": "code",
      "metadata": {
        "id": "lunZl9lsgJH3"
      },
      "source": [
        "def renverse(lst):\n",
        "    resu = None\n",
        "    m = lst\n",
        "    while m is not None:\n",
        "        resu = Maillon(m.valeur, resu)\n",
        "        m = m.suivant\n",
        "    return resu"
      ],
      "execution_count": 15,
      "outputs": []
    },
    {
      "cell_type": "markdown",
      "metadata": {
        "id": "A3rP32CkPL9k"
      },
      "source": [
        "# Définir une classe Chaine"
      ]
    },
    {
      "cell_type": "markdown",
      "metadata": {
        "id": "UEckisW4jTNH"
      },
      "source": [
        "## Encapsulation"
      ]
    },
    {
      "cell_type": "markdown",
      "metadata": {
        "id": "1B3vh9fmgP0c"
      },
      "source": [
        "Pour que l'utilisateur n'ait pas lui-même à manipuler les \"maillons\" d'une liste chaînée, on peut encapsuler le travail effectué jusqu'ici dans une nouvelle Classe.\n",
        "\n",
        "Un objet de type liste chaînée (ici `Chaine`) ne possède qu'un seul attribut : `tete`\n",
        "* pour une liste vide, cet attribut vaut None\n",
        "* pour une liste non vide, cet attribut est un objet de classe Maillon, qui représente le premier maillon de la chaîne. \n",
        "\n",
        "\n"
      ]
    },
    {
      "cell_type": "code",
      "metadata": {
        "id": "cvSwpGhnPju3"
      },
      "source": [
        "class Chaine:\n",
        "    def __init__(self):\n",
        "        self.tete = None\n",
        "\n",
        "    def est_vide(self):\n",
        "        return self.tete is None\n",
        "\n",
        "    def ajoute(self, val):\n",
        "        self.tete = Maillon(val, self.tete)\n"
      ],
      "execution_count": 16,
      "outputs": []
    },
    {
      "cell_type": "markdown",
      "metadata": {
        "id": "v7TMSA4Yg6MN"
      },
      "source": [
        "* Le constructeur de classe **`__init__`** permet de définir une liste chaînée vide.\n",
        "* la méthode **`est_vide`** permet de tester si une liste chaîné est vide.\n",
        "* la méthode **`ajoute`** permet d'ajouter un élément en tête d'une liste chaînée.\n",
        "\n",
        "Ainsi, l'utilisateur n'a pas besoin de faire appel à la classe Maillon"
      ]
    },
    {
      "cell_type": "code",
      "metadata": {
        "id": "nMrBab9ChGvv",
        "outputId": "5e507328-43f4-4f37-89a3-185f1e8ad1f0",
        "colab": {
          "base_uri": "https://localhost:8080/"
        }
      },
      "source": [
        "lst = Chaine()\n",
        "print(lst.est_vide())\n",
        "lst.ajoute(5)\n",
        "lst.ajoute(7)\n",
        "lst.ajoute(9)\n",
        "print(lst.est_vide())"
      ],
      "execution_count": 17,
      "outputs": [
        {
          "output_type": "stream",
          "text": [
            "True\n",
            "False\n"
          ],
          "name": "stdout"
        }
      ]
    },
    {
      "cell_type": "code",
      "metadata": {
        "id": "C2OlIiDzhp81",
        "outputId": "8afc9677-c61f-4f0c-c1a9-fe93c2c34526",
        "colab": {
          "base_uri": "https://localhost:8080/"
        }
      },
      "source": [
        "print(lst)"
      ],
      "execution_count": 18,
      "outputs": [
        {
          "output_type": "stream",
          "text": [
            "<__main__.Chaine object at 0x7fce34cf0518>\n"
          ],
          "name": "stdout"
        }
      ]
    },
    {
      "cell_type": "markdown",
      "metadata": {
        "id": "YXcuN_jnjWlB"
      },
      "source": [
        "## Affichage"
      ]
    },
    {
      "cell_type": "markdown",
      "metadata": {
        "id": "paSmRRlphwS9"
      },
      "source": [
        "Pour pouvoir afficher une liste, il suffit d'afficher la \"tête de liste\" en faisant appel à la fonction str de la classe `Maillon`. On définit ainsi la méthode **`__str__`** de la classe Chaine "
      ]
    },
    {
      "cell_type": "code",
      "metadata": {
        "id": "wlhpMl8oh6dI"
      },
      "source": [
        "class Maillon:\n",
        "    def __init__(self, val, suiv=None):\n",
        "        self.valeur = val\n",
        "        self.suivant = suiv\n",
        "\n",
        "    def __str__(self):\n",
        "        if self is None:\n",
        "            return ''\n",
        "        if self.suivant is None:\n",
        "            return str(self.valeur)\n",
        "        return str(self.valeur) + '-' + str(self.suivant)\n",
        "\n",
        "class Chaine:\n",
        "    def __init__(self):\n",
        "        self.tete = None\n",
        "    \n",
        "    def ajoute(self, val):\n",
        "        self.tete = Maillon(val, self.tete)\n",
        "\n",
        "    def __str__(self):\n",
        "        if self.tete is None:\n",
        "            return ''\n",
        "        return str(self.tete)"
      ],
      "execution_count": 19,
      "outputs": []
    },
    {
      "cell_type": "code",
      "metadata": {
        "id": "OFomv-xhiJps",
        "outputId": "b01369b9-41c2-47fe-9dc9-f135bb3f7849",
        "colab": {
          "base_uri": "https://localhost:8080/"
        }
      },
      "source": [
        "lst = Chaine()\n",
        "lst.ajoute(5)\n",
        "lst.ajoute(7)\n",
        "lst.ajoute(9)\n",
        "\n",
        "print(lst)"
      ],
      "execution_count": 20,
      "outputs": [
        {
          "output_type": "stream",
          "text": [
            "9-7-5\n"
          ],
          "name": "stdout"
        }
      ]
    },
    {
      "cell_type": "markdown",
      "metadata": {
        "id": "m6bDwcI3jp9u"
      },
      "source": [
        "## fonction à plusieurs arguments, pour définir simplement une liste chaînée. "
      ]
    },
    {
      "cell_type": "code",
      "metadata": {
        "id": "03_ClAYkj6R2"
      },
      "source": [
        "def renverse(lst):\n",
        "    resu = None\n",
        "    m = lst\n",
        "    while m is not None:\n",
        "        resu = Maillon(m.valeur, resu)\n",
        "        m = m.suivant\n",
        "    return resu\n",
        "\n",
        "def liste_chainee(*args):\n",
        "    resu = Chaine()\n",
        "    for val in args :\n",
        "        resu.ajoute(val)\n",
        "    resu.tete = renverse(resu.tete)\n",
        "    return resu\n"
      ],
      "execution_count": 21,
      "outputs": []
    },
    {
      "cell_type": "code",
      "metadata": {
        "id": "NF2hIuKDkPOT"
      },
      "source": [
        "lst = liste_chainee(10,20,30,40)"
      ],
      "execution_count": 22,
      "outputs": []
    },
    {
      "cell_type": "code",
      "metadata": {
        "id": "eHHQcFAkk2bG",
        "outputId": "8df15e07-b32c-4b77-9ede-f94881601b00",
        "colab": {
          "base_uri": "https://localhost:8080/"
        }
      },
      "source": [
        "lst"
      ],
      "execution_count": 23,
      "outputs": [
        {
          "output_type": "execute_result",
          "data": {
            "text/plain": [
              "<__main__.Chaine at 0x7fce34ce1518>"
            ]
          },
          "metadata": {
            "tags": []
          },
          "execution_count": 23
        }
      ]
    },
    {
      "cell_type": "code",
      "metadata": {
        "id": "fbzlPdFIlF4M",
        "outputId": "57309fad-47de-4f7f-db89-dce8af186fa8",
        "colab": {
          "base_uri": "https://localhost:8080/"
        }
      },
      "source": [
        "print(lst)"
      ],
      "execution_count": 24,
      "outputs": [
        {
          "output_type": "stream",
          "text": [
            "10-20-30-40\n"
          ],
          "name": "stdout"
        }
      ]
    },
    {
      "cell_type": "markdown",
      "metadata": {
        "id": "E0VbEyFrG4Jk"
      },
      "source": [
        "## La classe Chaine complète"
      ]
    },
    {
      "cell_type": "code",
      "metadata": {
        "id": "5BiHBZG4G7Z0"
      },
      "source": [
        "class Maillon:\n",
        "    def __init__(self, val, suiv=None):\n",
        "        self.valeur = val\n",
        "        self.suivant = suiv\n",
        "\n",
        "    def __str__(self):\n",
        "        if self.suivant is None:\n",
        "            return str(self.valeur)\n",
        "        return str(self.valeur) + '-' + str(self.suivant)\n",
        "\n",
        "def longueur(lst):\n",
        "    if lst is None:\n",
        "        return 0\n",
        "    return 1 + longueur(lst.suivant)\n",
        "\n",
        "def acces_element(lst, n):\n",
        "    if lst is None:\n",
        "        raise IndexError(\"indice incorrect dans la liste chaînée\")\n",
        "    if n == 0:\n",
        "        return lst.valeur\n",
        "    else:\n",
        "        return acces_element(lst.suivant, n-1)\n",
        "\n",
        "def renverse(lst):\n",
        "    resu = None\n",
        "    m = lst\n",
        "    while m is not None:\n",
        "        resu = Maillon(m.valeur, resu)\n",
        "        m = m.suivant\n",
        "    return resu\n",
        "\n",
        "\n",
        "class Chaine:\n",
        "    def __init__(self):\n",
        "        self.tete = None\n",
        "\n",
        "    def est_vide(self):\n",
        "        return self.tete is None\n",
        "\n",
        "    def ajoute(self, val):\n",
        "        self.tete = Maillon(val, self.tete)\n",
        "\n",
        "    def __str__(self):\n",
        "        return str(self.tete)\n",
        "    \n",
        "    def __len__(self):\n",
        "        return longueur(self.tete)\n",
        "    \n",
        "    def __getitem__(self,n):\n",
        "        return acces_element(self.tete, n)\n",
        "\n",
        "\n",
        "\n",
        "def liste_chainee(*args):\n",
        "    resu = Chaine()\n",
        "    for val in args :\n",
        "        resu.ajoute(val)\n",
        "    resu.tete = renverse(resu.tete)\n",
        "    return resu\n"
      ],
      "execution_count": 25,
      "outputs": []
    },
    {
      "cell_type": "code",
      "metadata": {
        "id": "9RAo_5wfIZ_0"
      },
      "source": [
        "c = liste_chainee(10,20,30,40,50)"
      ],
      "execution_count": 26,
      "outputs": []
    },
    {
      "cell_type": "code",
      "metadata": {
        "id": "BLGzprWOK1TZ",
        "outputId": "2e0b5ef9-9745-495e-9026-e3626258b02a",
        "colab": {
          "base_uri": "https://localhost:8080/"
        }
      },
      "source": [
        "len(c)"
      ],
      "execution_count": 27,
      "outputs": [
        {
          "output_type": "execute_result",
          "data": {
            "text/plain": [
              "5"
            ]
          },
          "metadata": {
            "tags": []
          },
          "execution_count": 27
        }
      ]
    },
    {
      "cell_type": "code",
      "metadata": {
        "id": "iXZ_ManzK2m0",
        "outputId": "ca66ffd1-31bb-40ed-84fb-d78df208011d",
        "colab": {
          "base_uri": "https://localhost:8080/"
        }
      },
      "source": [
        "c[2] # c.__getitem__(2)"
      ],
      "execution_count": 28,
      "outputs": [
        {
          "output_type": "execute_result",
          "data": {
            "text/plain": [
              "30"
            ]
          },
          "metadata": {
            "tags": []
          },
          "execution_count": 28
        }
      ]
    },
    {
      "cell_type": "code",
      "metadata": {
        "id": "89rlQ-MjK7gM",
        "outputId": "768703ed-a5d2-4011-e62d-939d16e0d896",
        "colab": {
          "base_uri": "https://localhost:8080/"
        }
      },
      "source": [
        "print(c)"
      ],
      "execution_count": 29,
      "outputs": [
        {
          "output_type": "stream",
          "text": [
            "10-20-30-40-50\n"
          ],
          "name": "stdout"
        }
      ]
    },
    {
      "cell_type": "code",
      "metadata": {
        "id": "JbhUdYJpK-Ot"
      },
      "source": [
        "c.ajoute(3)"
      ],
      "execution_count": 30,
      "outputs": []
    },
    {
      "cell_type": "code",
      "metadata": {
        "id": "V6jtC64uK_7L",
        "outputId": "31888091-212c-430b-ffdc-a07297813b83",
        "colab": {
          "base_uri": "https://localhost:8080/"
        }
      },
      "source": [
        "print(c)"
      ],
      "execution_count": 31,
      "outputs": [
        {
          "output_type": "stream",
          "text": [
            "3-10-20-30-40-50\n"
          ],
          "name": "stdout"
        }
      ]
    }
  ]
}