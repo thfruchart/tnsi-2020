{
  "nbformat": 4,
  "nbformat_minor": 0,
  "metadata": {
    "colab": {
      "name": "06-CORRECTION-EXERCICE2.ipynb",
      "provenance": [],
      "collapsed_sections": [],
      "authorship_tag": "ABX9TyMvS4N1KSVrz8XMwhYyh0jZ",
      "include_colab_link": true
    },
    "kernelspec": {
      "name": "python3",
      "display_name": "Python 3"
    }
  },
  "cells": [
    {
      "cell_type": "markdown",
      "metadata": {
        "id": "view-in-github",
        "colab_type": "text"
      },
      "source": [
        "<a href=\"https://colab.research.google.com/github/thfruchart/tnsi-2020/blob/master/Chap06/CORRECTION/EXERCICE2.ipynb\" target=\"_parent\"><img src=\"https://colab.research.google.com/assets/colab-badge.svg\" alt=\"Open In Colab\"/></a>"
      ]
    },
    {
      "cell_type": "markdown",
      "metadata": {
        "id": "Qebn0bTfdfm6"
      },
      "source": [
        "#### Une liste de maillons, pour tester les programmes"
      ]
    },
    {
      "cell_type": "code",
      "metadata": {
        "id": "GRqCV4bKc5u6"
      },
      "source": [
        "class Maillon:\n",
        "    def __init__(self, val, suiv=None):\n",
        "        self.valeur = val\n",
        "        self.suivant = suiv\n",
        "\n",
        "    def __str__(self):\n",
        "        if self.suivant is None:\n",
        "            return str(self.valeur)\n",
        "        return str(self.valeur) + '-' + str(self.suivant)\n",
        "\n",
        "lst1 = Maillon(1, Maillon(2,Maillon(5, Maillon(1,None ))))\n"
      ],
      "execution_count": 1,
      "outputs": []
    },
    {
      "cell_type": "markdown",
      "metadata": {
        "id": "I80Z-CKmdlJl"
      },
      "source": [
        "##1) fonction récursive `occurrences`"
      ]
    },
    {
      "cell_type": "code",
      "metadata": {
        "id": "2khQhVQfdv6H"
      },
      "source": [
        "def occurrences(x,lst):\n",
        "    if lst is None:\n",
        "        return 0\n",
        "    elif lst.valeur == x:\n",
        "        return 1 + occurrences(x, lst.suivant)\n",
        "    else : \n",
        "        return occurrences(x, lst.suivant)"
      ],
      "execution_count": 2,
      "outputs": []
    },
    {
      "cell_type": "markdown",
      "metadata": {
        "id": "yGw1k2_CeVh-"
      },
      "source": [
        "Quelques test"
      ]
    },
    {
      "cell_type": "code",
      "metadata": {
        "id": "WluLqOQeeHPm",
        "outputId": "3634e783-0d46-4f09-d8b3-8b70d1c2edae",
        "colab": {
          "base_uri": "https://localhost:8080/"
        }
      },
      "source": [
        "occurrences(1,lst1)"
      ],
      "execution_count": 3,
      "outputs": [
        {
          "output_type": "execute_result",
          "data": {
            "text/plain": [
              "2"
            ]
          },
          "metadata": {
            "tags": []
          },
          "execution_count": 3
        }
      ]
    },
    {
      "cell_type": "code",
      "metadata": {
        "id": "9pwwFAZVeI5t",
        "outputId": "0a5344a9-5cee-4a3e-f824-b630c72347d9",
        "colab": {
          "base_uri": "https://localhost:8080/"
        }
      },
      "source": [
        "occurrences(2,lst1)"
      ],
      "execution_count": 4,
      "outputs": [
        {
          "output_type": "execute_result",
          "data": {
            "text/plain": [
              "1"
            ]
          },
          "metadata": {
            "tags": []
          },
          "execution_count": 4
        }
      ]
    },
    {
      "cell_type": "code",
      "metadata": {
        "id": "DqhfuRvveML1",
        "outputId": "8c5e7109-c85c-4ca5-f5a7-6fe34c5f74fe",
        "colab": {
          "base_uri": "https://localhost:8080/"
        }
      },
      "source": [
        "occurrences(0,lst1)"
      ],
      "execution_count": 5,
      "outputs": [
        {
          "output_type": "execute_result",
          "data": {
            "text/plain": [
              "0"
            ]
          },
          "metadata": {
            "tags": []
          },
          "execution_count": 5
        }
      ]
    },
    {
      "cell_type": "markdown",
      "metadata": {
        "id": "XDjav1apePir"
      },
      "source": [
        "##fonction `occurrences` avec une boucle `while`"
      ]
    },
    {
      "cell_type": "code",
      "metadata": {
        "id": "MZpzKuDieO0_"
      },
      "source": [
        "def occurrences(x,lst):\n",
        "    cpt = 0\n",
        "    while lst is not None:\n",
        "        if lst.valeur == x :\n",
        "            cpt += 1\n",
        "        lst = lst.suivant\n",
        "    return cpt \n"
      ],
      "execution_count": 6,
      "outputs": []
    },
    {
      "cell_type": "code",
      "metadata": {
        "id": "jSD3idL9BAMM"
      },
      "source": [
        "def occurrences(x,m):\n",
        "    cpt = 0\n",
        "    while m is not None:\n",
        "        if m.valeur == x :\n",
        "            cpt += 1\n",
        "        m = m.suivant\n",
        "    return cpt \n"
      ],
      "execution_count": null,
      "outputs": []
    },
    {
      "cell_type": "code",
      "metadata": {
        "id": "BVBzPaFfezff",
        "outputId": "8ad08505-e06d-4764-a17d-11316d786925",
        "colab": {
          "base_uri": "https://localhost:8080/"
        }
      },
      "source": [
        "lst1 = Maillon(1, Maillon(2,Maillon(5, Maillon(1,None ))))\n",
        "assert occurrences(1,lst1) == 2\n",
        "assert occurrences(2,lst1) == 1\n",
        "assert occurrences(0,lst1) == 0\n",
        "print('test OK')"
      ],
      "execution_count": 7,
      "outputs": [
        {
          "output_type": "stream",
          "text": [
            "test OK\n"
          ],
          "name": "stdout"
        }
      ]
    }
  ]
}