{
  "nbformat": 4,
  "nbformat_minor": 0,
  "metadata": {
    "colab": {
      "name": "06-CORRECTION-EXERCICE5.ipynb",
      "provenance": [],
      "collapsed_sections": [],
      "authorship_tag": "ABX9TyOZVwZDjLBBND1fsBK6eFI9",
      "include_colab_link": true
    },
    "kernelspec": {
      "name": "python3",
      "display_name": "Python 3"
    }
  },
  "cells": [
    {
      "cell_type": "markdown",
      "metadata": {
        "id": "view-in-github",
        "colab_type": "text"
      },
      "source": [
        "<a href=\"https://colab.research.google.com/github/thfruchart/tnsi-2020/blob/master/Chap06/CORRECTION/EXERCICE5.ipynb\" target=\"_parent\"><img src=\"https://colab.research.google.com/assets/colab-badge.svg\" alt=\"Open In Colab\"/></a>"
      ]
    },
    {
      "cell_type": "markdown",
      "metadata": {
        "id": "FCqlY9NGn9_P"
      },
      "source": [
        "Une première idée serait d'écrire la fonction `identiques` suivante : "
      ]
    },
    {
      "cell_type": "code",
      "metadata": {
        "id": "1pyzB_b5fq_K"
      },
      "source": [
        "class Maillon:\n",
        "    def __init__(self, val, suiv=None):\n",
        "        self.valeur = val\n",
        "        self.suivant = suiv\n",
        "\n",
        "    def __str__(self):\n",
        "        if self.suivant is None:\n",
        "            return str(self.valeur)\n",
        "        return str(self.valeur) + '-' + str(self.suivant)\n",
        "\n",
        "def identiques(l1, l2):\n",
        "    return l1.valeur == l2.valeur and identiques(l1.suivant, l2.suivant)"
      ],
      "execution_count": null,
      "outputs": []
    },
    {
      "cell_type": "code",
      "metadata": {
        "id": "oqeT0CsyoMiR",
        "outputId": "a2a0a4aa-2ccd-4c6c-fd3a-33160e9f19d4",
        "colab": {
          "base_uri": "https://localhost:8080/"
        }
      },
      "source": [
        "identiques(Maillon(10, Maillon(20, None)), Maillon(50, Maillon(20, None))) "
      ],
      "execution_count": null,
      "outputs": [
        {
          "output_type": "execute_result",
          "data": {
            "text/plain": [
              "False"
            ]
          },
          "metadata": {
            "tags": []
          },
          "execution_count": 2
        }
      ]
    },
    {
      "cell_type": "code",
      "metadata": {
        "id": "NMe1DoXJB19J",
        "outputId": "81ccf0fb-41d7-4e5e-bcd1-29dcc806b213",
        "colab": {
          "base_uri": "https://localhost:8080/",
          "height": 290
        }
      },
      "source": [
        "identiques(Maillon(10, Maillon(20, None)), Maillon(10, Maillon(20, None))) "
      ],
      "execution_count": null,
      "outputs": [
        {
          "output_type": "error",
          "ename": "AttributeError",
          "evalue": "ignored",
          "traceback": [
            "\u001b[0;31m---------------------------------------------------------------------------\u001b[0m",
            "\u001b[0;31mAttributeError\u001b[0m                            Traceback (most recent call last)",
            "\u001b[0;32m<ipython-input-3-4639064780af>\u001b[0m in \u001b[0;36m<module>\u001b[0;34m()\u001b[0m\n\u001b[0;32m----> 1\u001b[0;31m \u001b[0midentiques\u001b[0m\u001b[0;34m(\u001b[0m\u001b[0mMaillon\u001b[0m\u001b[0;34m(\u001b[0m\u001b[0;36m10\u001b[0m\u001b[0;34m,\u001b[0m \u001b[0mMaillon\u001b[0m\u001b[0;34m(\u001b[0m\u001b[0;36m20\u001b[0m\u001b[0;34m,\u001b[0m \u001b[0;32mNone\u001b[0m\u001b[0;34m)\u001b[0m\u001b[0;34m)\u001b[0m\u001b[0;34m,\u001b[0m \u001b[0mMaillon\u001b[0m\u001b[0;34m(\u001b[0m\u001b[0;36m10\u001b[0m\u001b[0;34m,\u001b[0m \u001b[0mMaillon\u001b[0m\u001b[0;34m(\u001b[0m\u001b[0;36m20\u001b[0m\u001b[0;34m,\u001b[0m \u001b[0;32mNone\u001b[0m\u001b[0;34m)\u001b[0m\u001b[0;34m)\u001b[0m\u001b[0;34m)\u001b[0m\u001b[0;34m\u001b[0m\u001b[0;34m\u001b[0m\u001b[0m\n\u001b[0m",
            "\u001b[0;32m<ipython-input-1-64bcd5eb33c7>\u001b[0m in \u001b[0;36midentiques\u001b[0;34m(l1, l2)\u001b[0m\n\u001b[1;32m     10\u001b[0m \u001b[0;34m\u001b[0m\u001b[0m\n\u001b[1;32m     11\u001b[0m \u001b[0;32mdef\u001b[0m \u001b[0midentiques\u001b[0m\u001b[0;34m(\u001b[0m\u001b[0ml1\u001b[0m\u001b[0;34m,\u001b[0m \u001b[0ml2\u001b[0m\u001b[0;34m)\u001b[0m\u001b[0;34m:\u001b[0m\u001b[0;34m\u001b[0m\u001b[0;34m\u001b[0m\u001b[0m\n\u001b[0;32m---> 12\u001b[0;31m     \u001b[0;32mreturn\u001b[0m \u001b[0ml1\u001b[0m\u001b[0;34m.\u001b[0m\u001b[0mvaleur\u001b[0m \u001b[0;34m==\u001b[0m \u001b[0ml2\u001b[0m\u001b[0;34m.\u001b[0m\u001b[0mvaleur\u001b[0m \u001b[0;32mand\u001b[0m \u001b[0midentiques\u001b[0m\u001b[0;34m(\u001b[0m\u001b[0ml1\u001b[0m\u001b[0;34m.\u001b[0m\u001b[0msuivant\u001b[0m\u001b[0;34m,\u001b[0m \u001b[0ml2\u001b[0m\u001b[0;34m.\u001b[0m\u001b[0msuivant\u001b[0m\u001b[0;34m)\u001b[0m\u001b[0;34m\u001b[0m\u001b[0;34m\u001b[0m\u001b[0m\n\u001b[0m",
            "\u001b[0;32m<ipython-input-1-64bcd5eb33c7>\u001b[0m in \u001b[0;36midentiques\u001b[0;34m(l1, l2)\u001b[0m\n\u001b[1;32m     10\u001b[0m \u001b[0;34m\u001b[0m\u001b[0m\n\u001b[1;32m     11\u001b[0m \u001b[0;32mdef\u001b[0m \u001b[0midentiques\u001b[0m\u001b[0;34m(\u001b[0m\u001b[0ml1\u001b[0m\u001b[0;34m,\u001b[0m \u001b[0ml2\u001b[0m\u001b[0;34m)\u001b[0m\u001b[0;34m:\u001b[0m\u001b[0;34m\u001b[0m\u001b[0;34m\u001b[0m\u001b[0m\n\u001b[0;32m---> 12\u001b[0;31m     \u001b[0;32mreturn\u001b[0m \u001b[0ml1\u001b[0m\u001b[0;34m.\u001b[0m\u001b[0mvaleur\u001b[0m \u001b[0;34m==\u001b[0m \u001b[0ml2\u001b[0m\u001b[0;34m.\u001b[0m\u001b[0mvaleur\u001b[0m \u001b[0;32mand\u001b[0m \u001b[0midentiques\u001b[0m\u001b[0;34m(\u001b[0m\u001b[0ml1\u001b[0m\u001b[0;34m.\u001b[0m\u001b[0msuivant\u001b[0m\u001b[0;34m,\u001b[0m \u001b[0ml2\u001b[0m\u001b[0;34m.\u001b[0m\u001b[0msuivant\u001b[0m\u001b[0;34m)\u001b[0m\u001b[0;34m\u001b[0m\u001b[0;34m\u001b[0m\u001b[0m\n\u001b[0m",
            "\u001b[0;32m<ipython-input-1-64bcd5eb33c7>\u001b[0m in \u001b[0;36midentiques\u001b[0;34m(l1, l2)\u001b[0m\n\u001b[1;32m     10\u001b[0m \u001b[0;34m\u001b[0m\u001b[0m\n\u001b[1;32m     11\u001b[0m \u001b[0;32mdef\u001b[0m \u001b[0midentiques\u001b[0m\u001b[0;34m(\u001b[0m\u001b[0ml1\u001b[0m\u001b[0;34m,\u001b[0m \u001b[0ml2\u001b[0m\u001b[0;34m)\u001b[0m\u001b[0;34m:\u001b[0m\u001b[0;34m\u001b[0m\u001b[0;34m\u001b[0m\u001b[0m\n\u001b[0;32m---> 12\u001b[0;31m     \u001b[0;32mreturn\u001b[0m \u001b[0ml1\u001b[0m\u001b[0;34m.\u001b[0m\u001b[0mvaleur\u001b[0m \u001b[0;34m==\u001b[0m \u001b[0ml2\u001b[0m\u001b[0;34m.\u001b[0m\u001b[0mvaleur\u001b[0m \u001b[0;32mand\u001b[0m \u001b[0midentiques\u001b[0m\u001b[0;34m(\u001b[0m\u001b[0ml1\u001b[0m\u001b[0;34m.\u001b[0m\u001b[0msuivant\u001b[0m\u001b[0;34m,\u001b[0m \u001b[0ml2\u001b[0m\u001b[0;34m.\u001b[0m\u001b[0msuivant\u001b[0m\u001b[0;34m)\u001b[0m\u001b[0;34m\u001b[0m\u001b[0;34m\u001b[0m\u001b[0m\n\u001b[0m",
            "\u001b[0;31mAttributeError\u001b[0m: 'NoneType' object has no attribute 'valeur'"
          ]
        }
      ]
    },
    {
      "cell_type": "markdown",
      "metadata": {
        "id": "35Wj6Y8rqJEi"
      },
      "source": [
        "=> il manque le \"cas de base\" ! "
      ]
    },
    {
      "cell_type": "markdown",
      "metadata": {
        "id": "5q1_EsDcom4d"
      },
      "source": [
        "### Il faut donc mieux tenir compte du fait que les appels récursifs feront que `l1` ou `l2` prendront la valeur `None`"
      ]
    },
    {
      "cell_type": "code",
      "metadata": {
        "id": "fn_kq4xln83V"
      },
      "source": [
        "class Maillon:\n",
        "    def __init__(self, val, suiv=None):\n",
        "        self.valeur = val\n",
        "        self.suivant = suiv\n",
        "\n",
        "    def __str__(self):\n",
        "        if self.suivant is None:\n",
        "            return str(self.valeur)\n",
        "        return str(self.valeur) + '-' + str(self.suivant)\n",
        "\n",
        "def identiques(l1, l2):\n",
        "    if l1 is None:\n",
        "        return l2 is None\n",
        "    if l2 is None:\n",
        "        return False\n",
        "    return l1.valeur == l2.valeur and identiques(l1.suivant, l2.suivant)"
      ],
      "execution_count": null,
      "outputs": []
    },
    {
      "cell_type": "code",
      "metadata": {
        "id": "_yimcrUJnaFw",
        "outputId": "c4d9d36a-1de8-49aa-f23f-b94cbc388c39",
        "colab": {
          "base_uri": "https://localhost:8080/"
        }
      },
      "source": [
        "identiques(Maillon(10, Maillon(20)), Maillon(10, Maillon(20, None)))"
      ],
      "execution_count": null,
      "outputs": [
        {
          "output_type": "execute_result",
          "data": {
            "text/plain": [
              "True"
            ]
          },
          "metadata": {
            "tags": []
          },
          "execution_count": 8
        }
      ]
    },
    {
      "cell_type": "code",
      "metadata": {
        "id": "wftl55jOnNxJ",
        "outputId": "25cdf1eb-560e-46af-a03f-3f5b8d4075fb",
        "colab": {
          "base_uri": "https://localhost:8080/"
        }
      },
      "source": [
        "identiques(Maillon(10, Maillon(20)), Maillon(10, Maillon(20, Maillon(30))))"
      ],
      "execution_count": null,
      "outputs": [
        {
          "output_type": "execute_result",
          "data": {
            "text/plain": [
              "False"
            ]
          },
          "metadata": {
            "tags": []
          },
          "execution_count": 7
        }
      ]
    },
    {
      "cell_type": "code",
      "metadata": {
        "id": "tXVpTdtVGEpf",
        "outputId": "4cf3c714-9cba-431a-c590-f3c732c26c97",
        "colab": {
          "base_uri": "https://localhost:8080/"
        }
      },
      "source": [
        "identiques(Maillon(10, Maillon(20,Maillon(50))), Maillon(10, Maillon(20, Maillon(30))))"
      ],
      "execution_count": null,
      "outputs": [
        {
          "output_type": "execute_result",
          "data": {
            "text/plain": [
              "False"
            ]
          },
          "metadata": {
            "tags": []
          },
          "execution_count": 4
        }
      ]
    },
    {
      "cell_type": "code",
      "metadata": {
        "id": "lVnicUdSndeQ",
        "outputId": "3b420544-11cd-4348-9a75-f28f33f354b6",
        "colab": {
          "base_uri": "https://localhost:8080/"
        }
      },
      "source": [
        "identiques(None, Maillon(0) )"
      ],
      "execution_count": null,
      "outputs": [
        {
          "output_type": "execute_result",
          "data": {
            "text/plain": [
              "False"
            ]
          },
          "metadata": {
            "tags": []
          },
          "execution_count": 9
        }
      ]
    },
    {
      "cell_type": "code",
      "metadata": {
        "id": "9dsk9ytinkQ4",
        "outputId": "226b8b79-8735-4010-beea-4f222e59ed33",
        "colab": {
          "base_uri": "https://localhost:8080/"
        }
      },
      "source": [
        "identiques(Maillon(0), None )"
      ],
      "execution_count": null,
      "outputs": [
        {
          "output_type": "execute_result",
          "data": {
            "text/plain": [
              "False"
            ]
          },
          "metadata": {
            "tags": []
          },
          "execution_count": 10
        }
      ]
    },
    {
      "cell_type": "code",
      "metadata": {
        "id": "JjTdxAF1np1o",
        "outputId": "bb118512-4520-40f1-c8e4-5246ae324335",
        "colab": {
          "base_uri": "https://localhost:8080/"
        }
      },
      "source": [
        "identiques(None, None)"
      ],
      "execution_count": null,
      "outputs": [
        {
          "output_type": "execute_result",
          "data": {
            "text/plain": [
              "True"
            ]
          },
          "metadata": {
            "tags": []
          },
          "execution_count": 11
        }
      ]
    },
    {
      "cell_type": "markdown",
      "metadata": {
        "id": "2xhedfSgx6Pw"
      },
      "source": [
        "## Avec un TANT QUE"
      ]
    },
    {
      "cell_type": "code",
      "metadata": {
        "id": "VZ99W-3Ox7wJ"
      },
      "source": [
        "class Maillon:\n",
        "    def __init__(self, val, suiv=None):\n",
        "        self.valeur = val\n",
        "        self.suivant = suiv\n",
        "\n",
        "    def __str__(self):\n",
        "        if self.suivant is None:\n",
        "            return str(self.valeur)\n",
        "        return str(self.valeur) + '-' + str(self.suivant)\n",
        "\n",
        "def identiques(l1, l2):\n",
        "    while l1 is not None : #ARRET si l1 is None\n",
        "        if l2 is None:\n",
        "            return False\n",
        "        # l1 et l2 sont des maillons\n",
        "        elif l1.valeur != l2.valeur :\n",
        "            return False \n",
        "        # l1 et l2 ont même valeur\n",
        "        l1 = l1.suivant\n",
        "        l2 = l2.suivant\n",
        "    # à la fin du while, l1 == None\n",
        "    if l2 is None:\n",
        "        return True\n",
        "    else : #l2 est plus longue que l1\n",
        "        return False "
      ],
      "execution_count": null,
      "outputs": []
    },
    {
      "cell_type": "code",
      "metadata": {
        "id": "6DkGmcLT5d78"
      },
      "source": [
        ""
      ],
      "execution_count": null,
      "outputs": []
    }
  ]
}