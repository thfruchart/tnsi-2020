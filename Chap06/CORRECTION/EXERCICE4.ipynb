{
  "nbformat": 4,
  "nbformat_minor": 0,
  "metadata": {
    "colab": {
      "name": "06-CORRECTION-EXERCICE4.ipynb",
      "provenance": [],
      "collapsed_sections": [],
      "authorship_tag": "ABX9TyN8UcUq0c1sL0ufqIr6l1Fl",
      "include_colab_link": true
    },
    "kernelspec": {
      "name": "python3",
      "display_name": "Python 3"
    }
  },
  "cells": [
    {
      "cell_type": "markdown",
      "metadata": {
        "id": "view-in-github",
        "colab_type": "text"
      },
      "source": [
        "<a href=\"https://colab.research.google.com/github/thfruchart/tnsi-2020/blob/master/Chap06/CORRECTION/EXERCICE4.ipynb\" target=\"_parent\"><img src=\"https://colab.research.google.com/assets/colab-badge.svg\" alt=\"Open In Colab\"/></a>"
      ]
    },
    {
      "cell_type": "markdown",
      "metadata": {
        "id": "KUS6Bhmrf30b"
      },
      "source": [
        "On reprend le code de l'exercice 3"
      ]
    },
    {
      "cell_type": "code",
      "metadata": {
        "id": "1pyzB_b5fq_K"
      },
      "source": [
        "class Maillon:\n",
        "    def __init__(self, val, suiv=None):\n",
        "        self.valeur = val\n",
        "        self.suivant = suiv\n",
        "\n",
        "    def __str__(self):\n",
        "        if self.suivant is None:\n",
        "            return str(self.valeur)\n",
        "        return str(self.valeur) + '-' + str(self.suivant)\n",
        "\n",
        "def insere_tri(x, lst):\n",
        "    ''' renvoie une nouvelle chaîne de maillons dans laquelle x est inséré à sa place'''\n",
        "    if lst is None or x < lst.valeur :\n",
        "        return Maillon(x, lst)\n",
        "    return Maillon(lst.valeur, insere_tri(x, lst.suivant))"
      ],
      "execution_count": null,
      "outputs": []
    },
    {
      "cell_type": "markdown",
      "metadata": {
        "id": "RcJF30Frf7fa"
      },
      "source": [
        "On définit la fonction tri_par_insertion pour les chaînes de maillons !"
      ]
    },
    {
      "cell_type": "code",
      "metadata": {
        "id": "21saaKccgE5e"
      },
      "source": [
        "def tri_par_insertion(lst):\n",
        "    if lst is None:\n",
        "        return None\n",
        "    else :\n",
        "        return insere_tri(lst.valeur, tri_par_insertion(lst.suivant))"
      ],
      "execution_count": null,
      "outputs": []
    },
    {
      "cell_type": "markdown",
      "metadata": {
        "id": "8yjJRs_CgdRL"
      },
      "source": [
        "on définit une liste chaînée à trier"
      ]
    },
    {
      "cell_type": "code",
      "metadata": {
        "id": "8ACn--d2ghED"
      },
      "source": [
        "lst2 = Maillon(50,Maillon(20,Maillon(60,Maillon(10,Maillon(40,Maillon(30,None))))))"
      ],
      "execution_count": null,
      "outputs": []
    },
    {
      "cell_type": "markdown",
      "metadata": {
        "id": "-wNCXuJtgv18"
      },
      "source": [
        "on teste la fonction de tri, en affichant la liste triée"
      ]
    },
    {
      "cell_type": "code",
      "metadata": {
        "id": "1NHvhMUQg0nZ",
        "outputId": "b2115080-25a3-4640-d55d-849965c8136b",
        "colab": {
          "base_uri": "https://localhost:8080/"
        }
      },
      "source": [
        "print(tri_par_insertion(lst2))"
      ],
      "execution_count": null,
      "outputs": [
        {
          "output_type": "stream",
          "text": [
            "10-20-30-40-50-60\n"
          ],
          "name": "stdout"
        }
      ]
    }
  ]
}