{
  "nbformat": 4,
  "nbformat_minor": 0,
  "metadata": {
    "colab": {
      "name": "Chap13_ACTIVITÉ_Programmation_Dynamique.ipynb",
      "provenance": [],
      "authorship_tag": "ABX9TyMlobhWtXK9w72ApdTn0EMa",
      "include_colab_link": true
    },
    "kernelspec": {
      "name": "python3",
      "display_name": "Python 3"
    }
  },
  "cells": [
    {
      "cell_type": "markdown",
      "metadata": {
        "id": "view-in-github",
        "colab_type": "text"
      },
      "source": [
        "<a href=\"https://colab.research.google.com/github/thfruchart/tnsi-2020/blob/master/Chap13/ACTIVIT%C3%89_Programmation_Dynamique_CORRECTION.ipynb\" target=\"_parent\"><img src=\"https://colab.research.google.com/assets/colab-badge.svg\" alt=\"Open In Colab\"/></a>"
      ]
    },
    {
      "cell_type": "markdown",
      "metadata": {
        "id": "Cvi2lfcXg9V7"
      },
      "source": [
        "# Activité 1"
      ]
    },
    {
      "cell_type": "markdown",
      "metadata": {
        "id": "TH12XNOhhAtb"
      },
      "source": [
        "On rappelle la définition de la suite de Fibonacci:\n",
        "\n",
        "* $u_0 = 0$\n",
        "* $u_1 = 1$\n",
        "* pour tout $n \\in \\mathbb{N} : u_{n+2} = u_{n}+u_{n+1}$"
      ]
    },
    {
      "cell_type": "markdown",
      "metadata": {
        "id": "ATH01IsEhAqH"
      },
      "source": [
        "1. Calculer $u_5$ à la main.\n",
        "2. Compléter la définition de la `fonction fibo(n)` pour qu'elle renvoie le terme $u_n$."
      ]
    },
    {
      "cell_type": "code",
      "metadata": {
        "id": "l4qF71lwg0TV"
      },
      "source": [
        "def fibo(n):\n",
        "    if n <= 1:\n",
        "        return n\n",
        "    return fibo(n-1)+fibo(n-2) "
      ],
      "execution_count": 1,
      "outputs": []
    },
    {
      "cell_type": "markdown",
      "metadata": {
        "id": "DNRKb6Dxig8X"
      },
      "source": [
        "3. Écrire l'arbre d'appels de `fibo(4)`"
      ]
    },
    {
      "cell_type": "code",
      "metadata": {
        "id": "LfiibbcPitfQ",
        "outputId": "89431265-6bb6-49d2-c791-cba721cad1bd",
        "colab": {
          "base_uri": "https://localhost:8080/"
        }
      },
      "source": [
        "def appels_recursifs_fibo(n, depth=0):\n",
        "    space= '        '\n",
        "    if n <= 1:\n",
        "        print(space * depth, end='')\n",
        "        print(f'fibo({n})={n}')\n",
        "        return n\n",
        "    print(space * depth, end='')\n",
        "    print(f'fibo({n})=fibo({n-1})+fibo({n-2})')\n",
        "    return appels_recursifs_fibo(n-1, depth+1)+appels_recursifs_fibo(n-2,depth+1)\n",
        "\n",
        "appels_recursifs_fibo(4)"
      ],
      "execution_count": 7,
      "outputs": [
        {
          "output_type": "stream",
          "text": [
            "fibo(4)=fibo(3)+fibo(2)\n",
            "        fibo(3)=fibo(2)+fibo(1)\n",
            "                fibo(2)=fibo(1)+fibo(0)\n",
            "                        fibo(1)=1\n",
            "                        fibo(0)=0\n",
            "                fibo(1)=1\n",
            "        fibo(2)=fibo(1)+fibo(0)\n",
            "                fibo(1)=1\n",
            "                fibo(0)=0\n"
          ],
          "name": "stdout"
        },
        {
          "output_type": "execute_result",
          "data": {
            "text/plain": [
              "3"
            ]
          },
          "metadata": {
            "tags": []
          },
          "execution_count": 7
        }
      ]
    },
    {
      "cell_type": "code",
      "metadata": {
        "id": "7Qf6LLTCr4zj",
        "outputId": "60cfb065-847d-4a42-92e6-ff4bdb65885c",
        "colab": {
          "base_uri": "https://localhost:8080/"
        }
      },
      "source": [
        "def compte_appels_recursifs_fibo(n):\n",
        "    if n <= 1:\n",
        "        return 0\n",
        "    return 2+compte_appels_recursifs_fibo(n-1)+compte_appels_recursifs_fibo(n-2)\n",
        "\n",
        "compte_appels_recursifs_fibo(10)"
      ],
      "execution_count": 9,
      "outputs": [
        {
          "output_type": "execute_result",
          "data": {
            "text/plain": [
              "176"
            ]
          },
          "metadata": {
            "tags": []
          },
          "execution_count": 9
        }
      ]
    },
    {
      "cell_type": "markdown",
      "metadata": {
        "id": "ULmB7tYhmGhs"
      },
      "source": [
        "4. Comment faire pour éviter d'exécuter plusieurs fois le même appel récursif?\r\n",
        "\r\n",
        "* stratégie ascendente (bottom-up) : partir de fibo(0), fibo(1)  pour arriver à fibo(n)\r\n",
        "\r\n",
        "ou \r\n",
        "* programmation dynamique : stocker en mémoire les résultats déjà calculés ! "
      ]
    }
  ]
}