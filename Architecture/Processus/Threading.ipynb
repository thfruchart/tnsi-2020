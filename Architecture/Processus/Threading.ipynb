{
  "nbformat": 4,
  "nbformat_minor": 0,
  "metadata": {
    "colab": {
      "name": "Architecture/Processus/Threading.ipynb",
      "provenance": [],
      "collapsed_sections": [
        "Zw-IGAUDnjaN",
        "ctNs1HqpnOwD",
        "lCiLmzZRgAzv",
        "ErNtpM6Mk-Fu",
        "zyAVHuKclF4v",
        "DEOfI40XlZlC",
        "e20sXJO9r5W9",
        "MtBCK4Z3nxM7",
        "UswshiQsrYUd"
      ],
      "authorship_tag": "ABX9TyMpFfmlAsGxHPzysafdwL7E",
      "include_colab_link": true
    },
    "kernelspec": {
      "name": "python3",
      "display_name": "Python 3"
    }
  },
  "cells": [
    {
      "cell_type": "markdown",
      "metadata": {
        "id": "view-in-github",
        "colab_type": "text"
      },
      "source": [
        "<a href=\"https://colab.research.google.com/github/thfruchart/tnsi-2020/blob/master/Architecture/Processus/Threading.ipynb\" target=\"_parent\"><img src=\"https://colab.research.google.com/assets/colab-badge.svg\" alt=\"Open In Colab\"/></a>"
      ]
    },
    {
      "cell_type": "markdown",
      "metadata": {
        "id": "29tZLMaUeco_"
      },
      "source": [
        "# Découverte du threading"
      ]
    },
    {
      "cell_type": "markdown",
      "metadata": {
        "id": "4Ri8DRxmelyb"
      },
      "source": [
        "Exécuter plusieurs fois le code suivant.\n",
        "Expliquer comment se comportent les quatre \"threads\" de ce programme.\n",
        "\n",
        "Indication : \n",
        "\n",
        "    threading.Thread(target = hello, args = [n])\n",
        "\n",
        "* crée un nouvel objet **thread**\n",
        "* qui exécute la fonction :  **hello** (`target= hello` définit le nom de la fonction exécutée par le thread)\n",
        "* avec pour **argument**(s) : n (`args = [n]` définit la liste des arguments)"
      ]
    },
    {
      "cell_type": "markdown",
      "metadata": {
        "id": "Zw-IGAUDnjaN"
      },
      "source": [
        "## Comptage en parallèle"
      ]
    },
    {
      "cell_type": "code",
      "metadata": {
        "id": "xUmJhT3qeRxT"
      },
      "source": [
        "import threading\n",
        "\n",
        "def hello(n):\n",
        "    for i in range(5):\n",
        "        print('  '*n, \"Thread n°\", n, \" => i =\", i)\n",
        "    print('  '*n, \"----- FIN du thread n°\", n)\n",
        "\n",
        "for n in range(4):\n",
        "    t = threading.Thread(target = hello, args = [n])\n",
        "    t.start()\n"
      ],
      "execution_count": null,
      "outputs": []
    },
    {
      "cell_type": "markdown",
      "metadata": {
        "id": "ctNs1HqpnOwD"
      },
      "source": [
        "#### L'exécution peut produire différents résultats, par exemple : "
      ]
    },
    {
      "cell_type": "markdown",
      "metadata": {
        "id": "j6ZwG293nVLY"
      },
      "source": [
        "    Thread n° 0  => i = 0\n",
        "    Thread n° 0  => i = 1\n",
        "    Thread n° 0  => i = 2\n",
        "    Thread n° 0  => i = 3\n",
        "    Thread n° 0  => i = 4\n",
        "    ----- FIN du thread n° 0\n",
        "    Thread n° 1  => i = 0\n",
        "    Thread n° 1     Thread n° 2  => i =  => i = 1\n",
        "    0\n",
        "        Thread n°     Thread n° 2  => i = 1\n",
        "        Thread n° 2  => i = 2\n",
        "        Thread n° 2  => i = 3\n",
        "        Thread n° 2  => i = 4\n",
        "        ----- FIN du thread n° 2\n",
        "    Thread n° 1  => i = 2\n",
        "    Thread n° 1  => i = 3\n",
        "    Thread n° 1  => i = 4\n",
        "    ----- FIN du thread n° 1\n",
        "    3  => i = 0\n",
        "        Thread n° 3  => i = 1\n",
        "        Thread n° 3  => i = 2\n",
        "        Thread n° 3  => i = 3\n",
        "        Thread n° 3  => i = 4\n",
        "        ----- FIN du thread n° 3"
      ]
    },
    {
      "cell_type": "markdown",
      "metadata": {
        "id": "lCiLmzZRgAzv"
      },
      "source": [
        "# Notion de verrou"
      ]
    },
    {
      "cell_type": "markdown",
      "metadata": {
        "id": "NDnMVMk8gEno"
      },
      "source": [
        "On souhaite éviter les affichage du type : \n",
        "\n",
        "    Thread n° Thread n° 3  => i =2  => i = \n",
        "\n",
        "Autrement dit, on souhaite garantir que l'exécution de chaque thread ne sera pas interrompue **pendant** l'instruction d'affichage.\n",
        "\n",
        "Il est possible pour cela d'utiliser des verrous.\n",
        "\n",
        "* un verrou est défini avec `threading.Lock()`\n",
        "* chaque verrou ne peut être acquis que par un **unique** thread. \n",
        "* une fois défini, un verrou possède les deux méthodes : \n",
        "   * `acquire()` qui affecte le verrou et bloque les autres tentatives  pour acquérir ce verrou.\n",
        "   * `release()` qui libère le verrou et autorise donc une autre tentative  pour acquérir ce verrou."
      ]
    },
    {
      "cell_type": "markdown",
      "metadata": {
        "id": "ErNtpM6Mk-Fu"
      },
      "source": [
        "#### Comparer le programme 1"
      ]
    },
    {
      "cell_type": "code",
      "metadata": {
        "id": "1Z8g5SV9kkpo"
      },
      "source": [
        "import threading\n",
        "\n",
        "verrou = threading.Lock()  #création d'un verrou\n",
        "\n",
        "print(\"tentative d'acquisition\")\n",
        "verrou.acquire()\n",
        "print(\"verrou acquis\")\n",
        "print(\"tentative d'acquisition\")\n",
        "verrou.acquire() \n",
        "print(\"verrou acquis\")"
      ],
      "execution_count": null,
      "outputs": []
    },
    {
      "cell_type": "markdown",
      "metadata": {
        "id": "zyAVHuKclF4v"
      },
      "source": [
        "#### et le programme 2"
      ]
    },
    {
      "cell_type": "code",
      "metadata": {
        "id": "2qa52v0plIUB"
      },
      "source": [
        "import threading\n",
        "\n",
        "verrou = threading.Lock()  #création d'un verrou\n",
        "\n",
        "print(\"tentative d'acquisition\")\n",
        "verrou.acquire()\n",
        "print(\"verrou acquis\")\n",
        "verrou.release()\n",
        "print(\"verrou libéré !\")\n",
        "print(\"tentative d'acquisition\")\n",
        "verrou.acquire()\n",
        "print(\"verrou acquis\")"
      ],
      "execution_count": null,
      "outputs": []
    },
    {
      "cell_type": "markdown",
      "metadata": {
        "id": "DEOfI40XlZlC"
      },
      "source": [
        "## Comptage en parallèle avec verrou"
      ]
    },
    {
      "cell_type": "code",
      "metadata": {
        "id": "dbr8WCK_iAPd"
      },
      "source": [
        "import threading\n",
        "\n",
        "verrou = threading.Lock()  #création d'un verrou\n",
        "\n",
        "def hello(n):\n",
        "    for i in range(5):\n",
        "        verrou.acquire()  # acquisition du verrou\n",
        "        print('  '*n, \"Thread n°\", n, \" => i =\", i)\n",
        "        verrou.release()  # libération du verrou\n",
        "    # fin de la boucle for\n",
        "\n",
        "    verrou.acquire()  # acquisition du verrou\n",
        "    print(\"----- FIN du thread n°\", n)\n",
        "    verrou.release()  # libération du verrou\n",
        "\n",
        "for n in range(4):\n",
        "    t = threading.Thread(target = hello, args = [n])\n",
        "    t.start()\n"
      ],
      "execution_count": null,
      "outputs": []
    },
    {
      "cell_type": "markdown",
      "metadata": {
        "id": "e20sXJO9r5W9"
      },
      "source": [
        "#### L'exécution peut produire différents résultats. On peut obtenir par exemple :"
      ]
    },
    {
      "cell_type": "markdown",
      "metadata": {
        "id": "Xvia_zXHl6bH"
      },
      "source": [
        "\n",
        "\n",
        "\n",
        "    Thread n° 0  => i = 0\n",
        "    Thread n° 0  => i = 1\n",
        "    Thread n° 0  => i = 2\n",
        "    Thread n° 0  => i = 3\n",
        "    Thread n° 0  => i = 4\n",
        "    ----- FIN du thread n° 0\n",
        "      Thread n° 1  => i = 0\n",
        "      Thread n° 1  => i = 1\n",
        "      Thread n° 1  => i = 2\n",
        "      Thread n° 1  => i = 3\n",
        "          Thread n° 3  => i = 0\n",
        "          Thread n° 3  => i = 1\n",
        "          Thread n° 3  => i = 2\n",
        "          Thread n° 3  => i = 3\n",
        "          Thread n° 3  => i = 4\n",
        "          ----- FIN du thread n° 3\n",
        "      Thread n° 1  => i = 4\n",
        "      ----- FIN du thread n° 1\n",
        "        Thread n° 2  => i = 0\n",
        "        Thread n° 2  => i = 1\n",
        "        Thread n° 2  => i = 2\n",
        "        Thread n° 2  => i = 3\n",
        "        Thread n° 2  => i = 4\n",
        "        ----- FIN du thread n° 2"
      ]
    },
    {
      "cell_type": "markdown",
      "metadata": {
        "id": "MtBCK4Z3nxM7"
      },
      "source": [
        "# Interblocage"
      ]
    },
    {
      "cell_type": "markdown",
      "metadata": {
        "id": "pgJt2MX2n0Mh"
      },
      "source": [
        "Le code suivant crée deux verrous.\n",
        "\n",
        "Expliquer pourquoi il peut conduire à une situation d'interblocage. "
      ]
    },
    {
      "cell_type": "code",
      "metadata": {
        "id": "_ju7hIubn_8E"
      },
      "source": [
        "import threading\n",
        "\n",
        "verrou1 = threading.Lock()\n",
        "verrou2 = threading.Lock()\n",
        "\n",
        "def commande1():\n",
        "    print(\"1. Tentative d'acquisition du verrou 1 \")\n",
        "    verrou1.acquire()\n",
        "    print(\"1. Verrou 1 acquis\")\n",
        "    print(\"1. Tentative d'acquisition du verrou 2 \")\n",
        "    verrou2.acquire()\n",
        "    print(\"1. Verrou 2 acquis\")\n",
        "    print('1.  -- OK -- ')\n",
        "    verrou2.release()\n",
        "    print(\"1. Verrou 2 libéré\")\n",
        "    verrou1.release()\n",
        "    print(\"1. Verrou 1 libéré\")\n",
        "\n",
        "\n",
        "def commande2():\n",
        "    print(\"  2. Tentative d'acquisition du verrou 2 \")\n",
        "    verrou2.acquire()\n",
        "    print(\"  2. Verrou 2 acquis\")\n",
        "    print(\"  2. Tentative d'acquisition du verrou 1 \")\n",
        "    verrou1.acquire()\n",
        "    print(\"  2. Verrou 1 acquis\")\n",
        "    print('  2.  -- OK -- ')\n",
        "    verrou1.release()\n",
        "    print(\"  2. Verrou 1 libéré\")\n",
        "    verrou2.release()\n",
        "    print(\"  2. Verrou 2 libéré\")\n",
        "\n",
        "\n",
        "t1 = threading.Thread(target = commande1, args = [])\n",
        "t2 = threading.Thread(target = commande2, args = [])\n",
        "t1.start()\n",
        "t2.start()\n",
        "\n",
        "\n",
        "\n",
        "\n"
      ],
      "execution_count": null,
      "outputs": []
    },
    {
      "cell_type": "markdown",
      "metadata": {
        "id": "UswshiQsrYUd"
      },
      "source": [
        "#### Exemple de résultat"
      ]
    },
    {
      "cell_type": "markdown",
      "metadata": {
        "id": "1RQnnF-prdix"
      },
      "source": [
        "\n",
        "```\n",
        "1. Tentative d'acquisition du verrou 1   \n",
        "  2. Tentative d'acquisition du verrou 2 \n",
        "  2. Verrou 2 acquis\n",
        "1. Verrou 1 acquis\n",
        "1. Tentative d'acquisition du verrou 2 \n",
        "  2. Tentative d'acquisition du verrou 1\n",
        "```\n",
        "\n"
      ]
    }
  ]
}