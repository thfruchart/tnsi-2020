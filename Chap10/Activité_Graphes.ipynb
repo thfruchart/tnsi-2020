{
  "nbformat": 4,
  "nbformat_minor": 0,
  "metadata": {
    "colab": {
      "name": "Chap10_Activité-Graphes.ipynb",
      "provenance": [],
      "authorship_tag": "ABX9TyMYyfqHwM3Fus/q2jsHi0LB",
      "include_colab_link": true
    },
    "kernelspec": {
      "name": "python3",
      "display_name": "Python 3"
    }
  },
  "cells": [
    {
      "cell_type": "markdown",
      "metadata": {
        "id": "view-in-github",
        "colab_type": "text"
      },
      "source": [
        "<a href=\"https://colab.research.google.com/github/thfruchart/tnsi-2020/blob/master/Chap10/Activit%C3%A9_Graphes.ipynb\" target=\"_parent\"><img src=\"https://colab.research.google.com/assets/colab-badge.svg\" alt=\"Open In Colab\"/></a>"
      ]
    },
    {
      "cell_type": "markdown",
      "metadata": {
        "id": "Wf3TXoJoh_xO"
      },
      "source": [
        "# Notion de graphe"
      ]
    },
    {
      "cell_type": "markdown",
      "metadata": {
        "id": "-KBCTanxiKPb"
      },
      "source": [
        "La notion de graphe peut être présentée à partir de la notion de réseau de routeurs. \n",
        "\n",
        "![Image_de_reseau](https://github.com/thfruchart/tnsi-2020/blob/master/Chap10/reseau1.jpg)\n",
        "\n"
      ]
    },
    {
      "cell_type": "code",
      "metadata": {
        "id": "oKH6XQlXh4Iv"
      },
      "source": [
        ""
      ],
      "execution_count": null,
      "outputs": []
    }
  ]
}