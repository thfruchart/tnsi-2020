{
  "nbformat": 4,
  "nbformat_minor": 0,
  "metadata": {
    "colab": {
      "name": "Chap10_EXERCICES_Graphes_Représentation.ipynb",
      "provenance": [],
      "collapsed_sections": [
        "Eo0T1DL9dzf1"
      ],
      "authorship_tag": "ABX9TyOcHoK9XPWjAH7ChJ/ey5q6",
      "include_colab_link": true
    },
    "kernelspec": {
      "name": "python3",
      "display_name": "Python 3"
    }
  },
  "cells": [
    {
      "cell_type": "markdown",
      "metadata": {
        "id": "view-in-github",
        "colab_type": "text"
      },
      "source": [
        "<a href=\"https://colab.research.google.com/github/thfruchart/tnsi-2020/blob/master/Chap10/CORRECTION/EXERCICES_Graphes_Repr%C3%A9sentation.ipynb\" target=\"_parent\"><img src=\"https://colab.research.google.com/assets/colab-badge.svg\" alt=\"Open In Colab\"/></a>"
      ]
    },
    {
      "cell_type": "markdown",
      "metadata": {
        "id": "HNE1yauCGZn2"
      },
      "source": [
        "## Exercice 1\n",
        "Utiliser la classe Graphe ci-dessous pour représenter le graphe orienté suivant, qu'on nommera \"`graphex1`\"\n",
        "![image.png](data:image/png;base64,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)\n",
        "\n"
      ]
    },
    {
      "cell_type": "code",
      "metadata": {
        "id": "V8rWsLL53tSw"
      },
      "source": [
        "class Graphe:\n",
        "    ''' graphe représenté par une matrice d'adjacence\n",
        "    les sommets sont les entiers de 0 à n-1, avec n = ordre du graphe'''\n",
        "    def __init__(self, n):\n",
        "        self.n = n \n",
        "        self.tab = [ [0 for j in range(n)] for i in range(n)] \n",
        "\n",
        "    def ajouter_arc(self,s1,s2):\n",
        "        self.tab[s1][s2] = 1\n",
        "\n",
        "    def arc(self,s1,s2):\n",
        "        return self.tab[s1][s2] == 1\n",
        "    \n",
        "    def voisins(self,s):\n",
        "        return [j for j in range(self.n) if self.arc(s,j)]\n",
        "\n",
        "    def afficher(self):\n",
        "        for s in range(self.n):\n",
        "            print(s, '->', end=' ')\n",
        "            for v in self.voisins(s):\n",
        "                print(v, end=' ')\n",
        "            print()\n"
      ],
      "execution_count": null,
      "outputs": []
    },
    {
      "cell_type": "code",
      "metadata": {
        "id": "GF4GizREjO_0"
      },
      "source": [
        "graphex1 = Graphe(6)\r\n",
        "graphex1.ajouter_arc(0,1)\r\n",
        "graphex1.ajouter_arc(0,2)\r\n",
        "graphex1.ajouter_arc(1,2)\r\n",
        "graphex1.ajouter_arc(1,3)\r\n",
        "graphex1.ajouter_arc(1,5)\r\n",
        "graphex1.ajouter_arc(2,5)\r\n",
        "graphex1.ajouter_arc(3,4)\r\n",
        "graphex1.ajouter_arc(4,1)\r\n",
        "graphex1.ajouter_arc(5,3)"
      ],
      "execution_count": null,
      "outputs": []
    },
    {
      "cell_type": "code",
      "metadata": {
        "id": "6SWnecQ-jZwG"
      },
      "source": [
        "graphex1.tab"
      ],
      "execution_count": null,
      "outputs": []
    },
    {
      "cell_type": "markdown",
      "metadata": {
        "id": "Fxkw96jTG_Ri"
      },
      "source": [
        "## Exercice 2\n",
        "\n",
        "1. Ajouter à la classe Graphe de l'exercice 1 une méthode `Graphe.afficher()` qui affiche, pour chaque sommet du graphe, ses voisins sous la forme suivante :\n",
        "\n",
        "\n",
        "```\n",
        "0 -> 1 2\n",
        "1 -> 2 3 5\n",
        "```\n",
        "\n",
        "c'est à dire : une ligne par sommet, une flèche, et la liste des sommets voisins. \n",
        "2. Tester cette méthode sur le graphe `graphex1`"
      ]
    },
    {
      "cell_type": "code",
      "metadata": {
        "id": "OUqyD-CWlm0b",
        "colab": {
          "base_uri": "https://localhost:8080/"
        },
        "outputId": "85a461aa-e39e-4c7e-f178-49edae818866"
      },
      "source": [
        "graphex1.afficher()"
      ],
      "execution_count": null,
      "outputs": [
        {
          "output_type": "stream",
          "text": [
            "0 -> 1 2 \n",
            "1 -> 2 3 5 \n",
            "2 -> 5 \n",
            "3 -> 4 \n",
            "4 -> 1 \n",
            "5 -> 3 \n"
          ],
          "name": "stdout"
        }
      ]
    },
    {
      "cell_type": "markdown",
      "metadata": {
        "id": "pDM2lL0MFDOi"
      },
      "source": [
        "## Exercice 3\n",
        "\n",
        "1. Ecrire dans la classe ci-dessous, une méthode `Graphe.ajouter_arete(s1,s2)`  qui ajoute au graphe l'arête s1-s2 (c'est à dire les deux arc orientés s1-s2  et s2-s1)\n",
        "2. Utiliser cette méthode pour représenter le graphe non orienté suivant, qu'on nommera \"`graphex3`\"\n",
        "\n",
        "![graphex](https://pixees.fr/informatiquelycee/n_site/img/nsi_term_algo_graph_1.png)"
      ]
    },
    {
      "cell_type": "code",
      "metadata": {
        "id": "ZvNAmutJCmI0"
      },
      "source": [
        "class Graphe:\n",
        "    ''' graphe représenté par un dictionnaire d'adjacence'''\n",
        "    def __init__(self):\n",
        "        self.dico = {}\n",
        "    \n",
        "    def ajouter_sommet(self,s):\n",
        "        if s not in self.dico:\n",
        "            self.dico[s] = []\n",
        "    \n",
        "    def ajouter_arc(self,s1,s2):\n",
        "        self.ajouter_sommet(s1)\n",
        "        self.ajouter_sommet(s2)\n",
        "        self.dico[s1].append(s2)\n",
        "    \n",
        "    def arc(self,s1,s2):\n",
        "        return s2 in self.dico[s1]\n",
        "    \n",
        "    def sommets(self):\n",
        "        return list(self.dico)\n",
        "\n",
        "    def voisins(self,s):\n",
        "        return self.dico[s]"
      ],
      "execution_count": null,
      "outputs": []
    },
    {
      "cell_type": "markdown",
      "metadata": {
        "id": "Xy1ewPTQHyuz"
      },
      "source": [
        "## Exercice 4\n",
        "\n",
        "1. Ajouter à la classe Graphe de l'exercice 3 une méthode `Graphe.afficher()` qui affiche, pour chaque sommet du graphe, ses voisins sous la forme suivante :\n",
        "\n",
        "\n",
        "```\n",
        "0 -> 1 2\n",
        "1 -> 2 3 5\n",
        "```\n",
        "\n",
        "\n",
        "    \n",
        "\n",
        "c'est à dire : une ligne par sommet, une flèche, et la liste des sommets voisins. \n",
        "2. Tester cette méthode sur le graphe `graphex3`"
      ]
    }
  ]
}