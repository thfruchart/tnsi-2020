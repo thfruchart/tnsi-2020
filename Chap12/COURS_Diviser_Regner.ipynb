{
  "nbformat": 4,
  "nbformat_minor": 0,
  "metadata": {
    "colab": {
      "name": "Chap12_COURS_Diviser_Regner.ipynb",
      "provenance": [],
      "authorship_tag": "ABX9TyMX3vbugoFsSmGuhhi7na0P",
      "include_colab_link": true
    },
    "kernelspec": {
      "name": "python3",
      "display_name": "Python 3"
    }
  },
  "cells": [
    {
      "cell_type": "markdown",
      "metadata": {
        "id": "view-in-github",
        "colab_type": "text"
      },
      "source": [
        "<a href=\"https://colab.research.google.com/github/thfruchart/tnsi-2020/blob/master/Chap12/COURS_Diviser_Regner.ipynb\" target=\"_parent\"><img src=\"https://colab.research.google.com/assets/colab-badge.svg\" alt=\"Open In Colab\"/></a>"
      ]
    },
    {
      "cell_type": "markdown",
      "metadata": {
        "id": "oilBtkxAffG8"
      },
      "source": [
        "# Diviser pour Régner "
      ]
    },
    {
      "cell_type": "markdown",
      "metadata": {
        "id": "EGQfcQTDfr9a"
      },
      "source": [
        "#### Histoire"
      ]
    },
    {
      "cell_type": "markdown",
      "metadata": {
        "id": "zGAmGk2YZPpL"
      },
      "source": [
        "\n",
        "Le principe \"**diviser pour régner**\" (\"divide and conquer\") est un principe militaire ancestral. Cette stratégie était déjà mise en avant par Jules César \"divide et impera\", elle est reprise également dans les écrits politiques de Nicolas Machiavel ([article wikipédia sur Machiavel](https://fr.wikipedia.org/wiki/Nicolas_Machiavel))."
      ]
    },
    {
      "cell_type": "markdown",
      "metadata": {
        "id": "JV9yDQ9qfu7M"
      },
      "source": [
        "#### En algorithmique"
      ]
    },
    {
      "cell_type": "markdown",
      "metadata": {
        "id": "KvFsmdVdZdIO"
      },
      "source": [
        "\n",
        "Le **diviser pour régner** est une méthode  basée sur le principe suivant :\n",
        "On prend un problème (généralement complexe à résoudre), on **divise ce problème** en une multitude de petits problèmes, l'idée étant que les \"petits problèmes\" seront **plus simples à résoudre** que le problème original. Une fois les petits problèmes résolus, **on recombine** les \"petits problèmes résolus\" afin d'obtenir la solution du problème de départ.\n",
        "\n",
        "\n",
        "\n"
      ]
    },
    {
      "cell_type": "markdown",
      "metadata": {
        "id": "4XjujZksfy9Y"
      },
      "source": [
        "#### A savoir"
      ]
    },
    {
      "cell_type": "markdown",
      "metadata": {
        "id": "ZbV8-Sa9fxky"
      },
      "source": [
        "\n",
        "La méthode de \"Diviser pour régner\" en algorithmique se décompose en **trois étapes** :\n",
        "\n",
        "1. **Diviser** : le problème d'origine est divisé en un certain nombre de sous-problèmes.\n",
        "2. **Régner** : on résout les sous-problèmes (les sous-problèmes sont plus faciles à résoudre que le problème d'origine).\n",
        "3. **Fusionner ou Combiner** : on fusionne (ou combine) les solutions des sous-problèmes afin d'obtenir la solution du problème d'origine."
      ]
    },
    {
      "cell_type": "markdown",
      "metadata": {
        "id": "kjRw8giuZu22"
      },
      "source": [
        "# Un premier exemple : recherche du minimum des valeurs d'un tableau. "
      ]
    },
    {
      "cell_type": "markdown",
      "metadata": {
        "id": "UJ9Gc8GQZ1Ea"
      },
      "source": [
        "## 1. Algorithme \"classique\""
      ]
    },
    {
      "cell_type": "markdown",
      "metadata": {
        "id": "Tdf3qNmtaMZR"
      },
      "source": [
        "#### Compléter la fonction suivante, qui utilise l'algorithme classique de recherche d'un minimum"
      ]
    },
    {
      "cell_type": "code",
      "metadata": {
        "id": "QjQurlUOZB2e"
      },
      "source": [
        "def minimum(t):\n",
        "    if len(t) == 0:\n",
        "        return None\n",
        "    minimum_temporaire = t[0]\n",
        "    for i in range(1, len(t)):\n",
        "        if t[i] < minimum_temporaire  : \n",
        "            minimum_temporaire = t[i]\n",
        "    return minimum_temporaire\n",
        "\n",
        "assert minimum([10,20,30,40,50]) == 10\n",
        "assert minimum([50,40,30,20,10])== 10\n",
        "assert minimum([-10,-20,-30,40,50]) == -30"
      ],
      "execution_count": 1,
      "outputs": []
    },
    {
      "cell_type": "markdown",
      "metadata": {
        "id": "PwnOvy2sfSHa"
      },
      "source": [
        "#### Quelle est la complexité en temps d'un tel algorithme ? Expliquer!"
      ]
    },
    {
      "cell_type": "markdown",
      "metadata": {
        "id": "k7v_OSbvf6tn"
      },
      "source": [
        "Dans le pire des cas (et en fait dans tous les cas) la complexité de cette fonction est **linéaire** car on parcourt tout le tableau! "
      ]
    },
    {
      "cell_type": "markdown",
      "metadata": {
        "id": "qjDFO9mzgNuT"
      },
      "source": [
        "### Comment \"diviser\" le problème ?"
      ]
    },
    {
      "cell_type": "markdown",
      "metadata": {
        "id": "sY28VfAGgYi3"
      },
      "source": [
        "Exemple : on cherche quelle est la plus petite valeur d'un paquet de 8 cartes. \n",
        "\n",
        "* Pour un être humain, un simple coup d'oeil suffit, mais pour un ordinateur, la comparaison n'est possible qu'entre 2 cartes. \n",
        "* On va donc \"cacher\" les cartes, et chercher le minimum en ne découvrant au maximum que 2 cartes à la fois. \n",
        "* Proposer une \"division\" de ce problème pour un groupe de 4 élèves."
      ]
    },
    {
      "cell_type": "markdown",
      "metadata": {
        "id": "5RwXKGZ5tOdM"
      },
      "source": [
        "Chaque élève prend 2 carte, et garde la plus petite.\r\n",
        "Ensuite par groupe de 2, on compare les cartes les plus petites.\r\n",
        "Ensuite, par groupe de 4."
      ]
    },
    {
      "cell_type": "markdown",
      "metadata": {
        "id": "BU8kJfui2BVi"
      },
      "source": [
        "#### rappel : slice (tranche) extrait d'un tableau\r\n",
        "\r\n",
        "On utilisera cette syntaxe pour diviser le tableau en deux parties"
      ]
    },
    {
      "cell_type": "code",
      "metadata": {
        "id": "Iby90_YD2HYS"
      },
      "source": [
        "t = [0,11,22,33,44,55,66,77]"
      ],
      "execution_count": 2,
      "outputs": []
    },
    {
      "cell_type": "code",
      "metadata": {
        "id": "YfvhNLTK2LYs",
        "outputId": "63307db5-0489-4a32-e00d-cb448afd100e",
        "colab": {
          "base_uri": "https://localhost:8080/"
        }
      },
      "source": [
        "t[0]"
      ],
      "execution_count": 3,
      "outputs": [
        {
          "output_type": "execute_result",
          "data": {
            "text/plain": [
              "0"
            ]
          },
          "metadata": {
            "tags": []
          },
          "execution_count": 3
        }
      ]
    },
    {
      "cell_type": "code",
      "metadata": {
        "id": "saUAzHdJ2Miy",
        "outputId": "32fe8360-17a2-41ac-f896-9ffa313c163f",
        "colab": {
          "base_uri": "https://localhost:8080/"
        }
      },
      "source": [
        "t[6]"
      ],
      "execution_count": 4,
      "outputs": [
        {
          "output_type": "execute_result",
          "data": {
            "text/plain": [
              "66"
            ]
          },
          "metadata": {
            "tags": []
          },
          "execution_count": 4
        }
      ]
    },
    {
      "cell_type": "code",
      "metadata": {
        "id": "-4e0tYfD2NkT",
        "outputId": "fecbe87e-c3a5-4e1e-f5e4-4e147999b521",
        "colab": {
          "base_uri": "https://localhost:8080/"
        }
      },
      "source": [
        "t[2:4]"
      ],
      "execution_count": 5,
      "outputs": [
        {
          "output_type": "execute_result",
          "data": {
            "text/plain": [
              "[22, 33]"
            ]
          },
          "metadata": {
            "tags": []
          },
          "execution_count": 5
        }
      ]
    },
    {
      "cell_type": "code",
      "metadata": {
        "id": "PI2pivAC2Pwy",
        "outputId": "8a4c4c8e-91e4-4cf1-da36-9b715ea4ccfa",
        "colab": {
          "base_uri": "https://localhost:8080/"
        }
      },
      "source": [
        "t[3:len(t)]"
      ],
      "execution_count": 6,
      "outputs": [
        {
          "output_type": "execute_result",
          "data": {
            "text/plain": [
              "[33, 44, 55, 66, 77]"
            ]
          },
          "metadata": {
            "tags": []
          },
          "execution_count": 6
        }
      ]
    },
    {
      "cell_type": "code",
      "metadata": {
        "id": "hgVkGbry2SIa",
        "outputId": "ca15cfd8-5ca3-455a-a450-8bb1ec6f2332",
        "colab": {
          "base_uri": "https://localhost:8080/"
        }
      },
      "source": [
        "t[0:3]"
      ],
      "execution_count": 7,
      "outputs": [
        {
          "output_type": "execute_result",
          "data": {
            "text/plain": [
              "[0, 11, 22]"
            ]
          },
          "metadata": {
            "tags": []
          },
          "execution_count": 7
        }
      ]
    },
    {
      "cell_type": "code",
      "metadata": {
        "id": "H3_Wk3pu2biH",
        "outputId": "825aaf35-2142-463c-d609-b6fa56f9e2cd",
        "colab": {
          "base_uri": "https://localhost:8080/"
        }
      },
      "source": [
        "t[4:]"
      ],
      "execution_count": 8,
      "outputs": [
        {
          "output_type": "execute_result",
          "data": {
            "text/plain": [
              "[44, 55, 66, 77]"
            ]
          },
          "metadata": {
            "tags": []
          },
          "execution_count": 8
        }
      ]
    },
    {
      "cell_type": "code",
      "metadata": {
        "id": "luSZ9C0K2cue",
        "outputId": "03a9c844-e3ec-4f4f-a59f-4dc9dc0ac605",
        "colab": {
          "base_uri": "https://localhost:8080/"
        }
      },
      "source": [
        "t[:4]"
      ],
      "execution_count": 9,
      "outputs": [
        {
          "output_type": "execute_result",
          "data": {
            "text/plain": [
              "[0, 11, 22, 33]"
            ]
          },
          "metadata": {
            "tags": []
          },
          "execution_count": 9
        }
      ]
    },
    {
      "cell_type": "markdown",
      "metadata": {
        "id": "2yC4xnVSn5Ir"
      },
      "source": [
        "#### recherche d'un minimum par méthode \"diviser-régner\""
      ]
    },
    {
      "cell_type": "code",
      "metadata": {
        "id": "XlQfAwiGlml4"
      },
      "source": [
        "def minimum(liste):\n",
        "    taille = len(liste)\n",
        "    if taille == 1 :\n",
        "        return liste[0]\n",
        "    else :\n",
        "        milieu = taille // 2\n",
        "        x = minimum(liste[:milieu])\n",
        "        y = minimum(liste[milieu:])\n",
        "        if x < y :\n",
        "            return x\n",
        "        else :\n",
        "            return y\n",
        "\n",
        "print(minimum([23,12,4,56,35,57,3,11]))"
      ],
      "execution_count": null,
      "outputs": []
    },
    {
      "cell_type": "markdown",
      "metadata": {
        "id": "Mu_RK40VloN2"
      },
      "source": [
        "Observer l'exécution sur [PythonTutor](http://www.pythontutor.com/visualize.html#code=def%20minimum%28liste%29%3A%0A%20%20%20%20taille%20%3D%20len%28liste%29%0A%20%20%20%20if%20taille%20%3D%3D%201%20%3A%0A%20%20%20%20%20%20%20%20return%20liste%5B0%5D%0A%20%20%20%20else%20%3A%0A%20%20%20%20%20%20%20%20milieu%20%3D%20taille%20//%202%0A%20%20%20%20%20%20%20%20x%20%3D%20minimum%28liste%5B%3Amilieu%5D%29%0A%20%20%20%20%20%20%20%20y%20%3D%20minimum%28liste%5Bmilieu%3A%5D%29%0A%20%20%20%20%20%20%20%20if%20x%20%3C%20y%20%3A%0A%20%20%20%20%20%20%20%20%20%20%20%20return%20x%0A%20%20%20%20%20%20%20%20else%20%3A%0A%20%20%20%20%20%20%20%20%20%20%20%20return%20y%0A%0Aprint%28minimum%28%5B23,12,4,56,35,57,3,11%5D%29%29&cumulative=false&curInstr=0&heapPrimitives=nevernest&mode=display&origin=opt-frontend.js&py=3&rawInputLstJSON=%5B%5D&textReferences=false)"
      ]
    },
    {
      "cell_type": "markdown",
      "metadata": {
        "id": "r5LfioIHmZbI"
      },
      "source": [
        "#### Dans cet exemple, préciser quelles lignes de code correspondent à chacune des parties de la méthode : "
      ]
    },
    {
      "cell_type": "markdown",
      "metadata": {
        "id": "XPzq5haLl2ua"
      },
      "source": [
        "\n",
        "\n",
        "* diviser\n",
        "* régner\n",
        "* fusionner"
      ]
    },
    {
      "cell_type": "markdown",
      "metadata": {
        "id": "ExHEcU1qmcVr"
      },
      "source": [
        "#### La méthode Diviser-Régner permet-elle d'améliorer la complexité en temps de la recherche du minimum ?"
      ]
    },
    {
      "cell_type": "markdown",
      "metadata": {
        "id": "yAZzevFWm68S"
      },
      "source": [
        "# Deuxième exemple : trier un tableau"
      ]
    },
    {
      "cell_type": "markdown",
      "metadata": {
        "id": "_Kz9lLAAL_55"
      },
      "source": [
        "#### Rappels : tri par sélection"
      ]
    },
    {
      "cell_type": "code",
      "metadata": {
        "id": "SQF5DtUvnctn"
      },
      "source": [
        "def tri_par_selection(t):\n",
        "    # t[0:i] est trié et ses valeurs sont inférieurs ou égales à celles de t[i:]\n",
        "    for i in range(len(t)-1): \n",
        "        # on cherche l'indice du minimum de t[i:]\n",
        "        i_min = i \n",
        "        for k in range(i+1, len(t)): \n",
        "            if t[i_min] > t[k] :\n",
        "                i_min = k\n",
        "        # on range ce minimum à l'indice i (avant de poursuivre à l'indice i+1)\n",
        "        t[i], t[i_min] = t[i_min], t[i] \n",
        "    return t"
      ],
      "execution_count": null,
      "outputs": []
    },
    {
      "cell_type": "markdown",
      "metadata": {
        "id": "JfZjlQJOoHdd"
      },
      "source": [
        "#### approche de la complexité en temps du tri par sélection"
      ]
    },
    {
      "cell_type": "code",
      "metadata": {
        "id": "15794NeSMEsR",
        "colab": {
          "base_uri": "https://localhost:8080/",
          "height": 265
        },
        "outputId": "8b17ad72-cef2-4d67-f5b2-1b5c60a1f0ee"
      },
      "source": [
        "import numpy as np\r\n",
        "import matplotlib.pyplot as plt\r\n",
        "from time import perf_counter\r\n",
        "from random import random\r\n",
        "\r\n",
        "def chrono_tri_sur_taille(n):\r\n",
        "    ''' renvoie le temps (en milliseconde) d'exécution du tri par selection\r\n",
        "    sur un tableau aléatoire de 'n' nombres flottants'''\r\n",
        "    t = [random() for i in range(n)]\r\n",
        "    start = perf_counter()\r\n",
        "    tri_par_selection(t)\r\n",
        "    stop = perf_counter()\r\n",
        "    return 1000*(stop - start)\r\n",
        "\r\n",
        "# Tri sur des tableaux de taille 100, 200, ... 2000\r\n",
        "abs = []\r\n",
        "ord = []\r\n",
        "for n in range(100,2001,100):\r\n",
        "    abs.append(n)\r\n",
        "    ord.append(chrono_tri_sur_taille(n))\r\n",
        "# graphique\r\n",
        "x = np.array([1, 3, 4, 6])\r\n",
        "y = np.array([2, 3, 5, 1])\r\n",
        "plt.plot(np.array(abs), np.array(ord),  \"b:o\",label=\"tri par sélection\")\r\n",
        "\r\n",
        "# fonction carrée (k.x^2)\r\n",
        "abs = []\r\n",
        "ord = []\r\n",
        "k = 125/(4e6)\r\n",
        "for n in range(100,2001,100):\r\n",
        "    abs.append(n)\r\n",
        "    ord.append(k* n**2)\r\n",
        "plt.plot(np.array(abs), np.array(ord),label=\"y=k.x^2\")\r\n",
        "plt.legend()\r\n",
        "plt.show() # affiche la figure a l'ecran"
      ],
      "execution_count": null,
      "outputs": [
        {
          "output_type": "display_data",
          "data": {
            "image/png": "[encoded data removed]",
            "text/plain": [
              "<Figure size 432x288 with 1 Axes>"
            ]
          },
          "metadata": {
            "tags": [],
            "needs_background": "light"
          }
        }
      ]
    },
    {
      "cell_type": "markdown",
      "metadata": {
        "id": "xYyjKFyhMzV5"
      },
      "source": [
        "On dit que la complexité du tri par sélection est **quadratique**"
      ]
    },
    {
      "cell_type": "markdown",
      "metadata": {
        "id": "Z9Fpo9SArYQM"
      },
      "source": [
        "## Diviser"
      ]
    },
    {
      "cell_type": "markdown",
      "metadata": {
        "id": "LCZoR3TmrcbU"
      },
      "source": [
        "Quel est le rôle de cette fonction ? \n",
        "\n",
        "On pourra observer l'exécution d'un exemple sur [PythonTutor](http://www.pythontutor.com/visualize.html#code=def%20division%28liste%29%3A%0A%20%20%20%20taille%20%3D%20len%28liste%29%20%20%20%20%0A%20%20%20%20milieu%20%3D%20taille%20//%202%0A%20%20%20%20return%20liste%5B%3Amilieu%5D,%20liste%5Bmilieu%3A%5D%0A%0Aprint%28division%28%5B3,4,6,2,5,1,8,7,9%5D%29%29&cumulative=false&curInstr=0&heapPrimitives=nevernest&mode=display&origin=opt-frontend.js&py=3&rawInputLstJSON=%5B%5D&textReferences=false)"
      ]
    },
    {
      "cell_type": "code",
      "metadata": {
        "colab": {
          "base_uri": "https://localhost:8080/"
        },
        "id": "Mmvp89DjrbfH",
        "outputId": "a6a89afb-47bf-4e3c-cb62-97f55bd518d9"
      },
      "source": [
        "def division(liste):\n",
        "    taille = len(liste)    \n",
        "    milieu = taille // 2\n",
        "    return liste[:milieu], liste[milieu:]\n",
        "\n",
        "print(division([3,4,6,2,5,1,8,7,9]))"
      ],
      "execution_count": null,
      "outputs": [
        {
          "output_type": "stream",
          "text": [
            "([3, 4, 6, 2], [5, 1, 8, 7, 9])\n"
          ],
          "name": "stdout"
        }
      ]
    },
    {
      "cell_type": "markdown",
      "metadata": {
        "id": "rOi-4sAMsK2c"
      },
      "source": [
        "## Régner"
      ]
    },
    {
      "cell_type": "markdown",
      "metadata": {
        "id": "EiHV-I-OsM5f"
      },
      "source": [
        "A force de diviser une liste en listes \"deux fois plus petites\", on finit la \"division\" en obtenant des listes réduites à un seul élément : chacune de ces listes est donc triée ! "
      ]
    },
    {
      "cell_type": "markdown",
      "metadata": {
        "id": "xMn41fxzsHBl"
      },
      "source": [
        "## Fusionner"
      ]
    },
    {
      "cell_type": "markdown",
      "metadata": {
        "id": "B2-rIqQasvqK"
      },
      "source": [
        "Le problème principal consiste donc à fusionner deux listes. \n",
        "* chacune des listes à fusionner est déjà triée par ordre croissant\n",
        "* le résultat de la fusion doit être trié par ordre croissant. "
      ]
    },
    {
      "cell_type": "markdown",
      "metadata": {
        "id": "BZdqQ9tHtRcj"
      },
      "source": [
        "#### méthode"
      ]
    },
    {
      "cell_type": "markdown",
      "metadata": {
        "id": "3fbVZKhmtDfh"
      },
      "source": [
        "pour décrire la méthode de fusion, on peut comparer avec la situation suivante : \n",
        "\n",
        "\n",
        "* on possède deux piles de cartes.\n",
        "* chaque pile est triée par ordre croissant\n",
        "\n",
        "Comment fusionner ces deux piles de cartes ? "
      ]
    },
    {
      "cell_type": "code",
      "metadata": {
        "id": "BwKfgJnFtk5f"
      },
      "source": [
        "def fusion(gauche,droite):\n",
        "    if   gauche == []          : return droite\n",
        "    elif droite == []          : return gauche\n",
        "    elif gauche[0] < droite[0] : return [gauche[0]] + fusion(gauche[1:],droite)\n",
        "    else                       : return [droite[0]] + fusion(gauche,droite[1:])\n"
      ],
      "execution_count": null,
      "outputs": []
    },
    {
      "cell_type": "markdown",
      "metadata": {
        "id": "TQaH_A2wuZTU"
      },
      "source": [
        "Ecrire les appels récursifs exécutés par : \n",
        "`fusion([20,30,40,60],[10,50,70,80])`"
      ]
    },
    {
      "cell_type": "markdown",
      "metadata": {
        "id": "-rAX2W8mwXDI"
      },
      "source": [
        "#### réponse... "
      ]
    },
    {
      "cell_type": "markdown",
      "metadata": {
        "id": "KvtOdV11wpeG"
      },
      "source": [
        "\n",
        "\n",
        "```\n",
        "fusion([20,30,40,60],[10,50,70,80])\n",
        "=\n",
        " [10] + fusion( [20, 30, 40, 60] , [50, 70, 80] )\n",
        "        [20] + fusion( [30, 40, 60] , [50, 70, 80] )\n",
        "               [30] + fusion( [40, 60] , [50, 70, 80] )\n",
        "                      [40] + fusion( [60] , [50, 70, 80] )\n",
        "                             [50] + fusion( [60] , [70, 80] )\n",
        "                                    [60] + fusion( [] , [70, 80] )\n",
        "                                           [70, 80]\n",
        "= [10, 20, 30, 40, 50, 60, 70, 80]\n",
        "```\n",
        "\n"
      ]
    },
    {
      "cell_type": "code",
      "metadata": {
        "id": "_Y8If8VZulY2"
      },
      "source": [
        "def appels_recursifs_fusion(gauche,droite,prof=0):\n",
        "    if   gauche == []          : \n",
        "        print('       '*prof, droite)\n",
        "        return droite\n",
        "    elif droite == []          : \n",
        "        print('       '*prof, gauche)\n",
        "        return gauche\n",
        "    elif gauche[0] < droite[0] : \n",
        "        print('       '*prof, [gauche[0]], '+', \"fusion(\",gauche[1:],',',droite,\")\" )\n",
        "        return [gauche[0]] + appels_recursifs_fusion(gauche[1:],droite,prof+1)\n",
        "    else                       : \n",
        "        print('       '*prof, [droite[0]], '+', \"fusion(\",gauche,',',droite[1:],\")\" )\n",
        "        return [droite[0]] + appels_recursifs_fusion(gauche,droite[1:],prof+1)\n",
        "\n",
        "appels_recursifs_fusion([20,30,40,60],[10,50,70,80])"
      ],
      "execution_count": null,
      "outputs": []
    },
    {
      "cell_type": "markdown",
      "metadata": {
        "id": "OrTDM8q4wZzl"
      },
      "source": [
        "## Tri-fusion"
      ]
    },
    {
      "cell_type": "code",
      "metadata": {
        "id": "-nRQuP-SxPb4"
      },
      "source": [
        "def tri_fusion(liste):\n",
        "    if len(liste) <= 1 :\n",
        "        return liste\n",
        "    else :\n",
        "        gauche, droite = division(liste)\n",
        "        return fusion (tri_fusion(gauche), tri_fusion(droite))"
      ],
      "execution_count": null,
      "outputs": []
    },
    {
      "cell_type": "markdown",
      "metadata": {
        "id": "GSxSsBTZyOK3"
      },
      "source": [
        "Ecrire les appels récursifs exécutés par : \n",
        "`tri_fusion([3,4,6,2,5,1,8,7,9])`"
      ]
    },
    {
      "cell_type": "markdown",
      "metadata": {
        "id": "iokMUiv_y3Ki"
      },
      "source": [
        "#### réponse"
      ]
    },
    {
      "cell_type": "markdown",
      "metadata": {
        "id": "JweuECiQ0mr2"
      },
      "source": [
        "\n",
        "\n",
        "```\n",
        "tri_fusion([3,4,6,2,5,1,8,7,9])\n",
        "=\n",
        " fusion( [3, 4, 6, 2] , [5, 1, 8, 7, 9] )\n",
        "         fusion( [3, 4] , [6, 2] )\n",
        "                 fusion( [3] , [4] )\n",
        "                 => [3, 4]\n",
        "                 fusion( [6] , [2] )\n",
        "                 => [2, 6]\n",
        "         => [2, 3, 4, 6]\n",
        "         fusion( [5, 1] , [8, 7, 9] )\n",
        "                 fusion( [5] , [1] )\n",
        "                 => [1, 5]\n",
        "                 fusion( [8] , [7, 9] )\n",
        "                         fusion( [7] , [9] )\n",
        "                         => [7, 9]\n",
        "                 => [7, 8, 9]\n",
        "         => [1, 5, 7, 8, 9]\n",
        " => [1, 2, 3, 4, 5, 6, 7, 8, 9]\n",
        "```\n",
        "\n"
      ]
    },
    {
      "cell_type": "code",
      "metadata": {
        "id": "P-HWVNP7y4pg"
      },
      "source": [
        "space = '        '\n",
        "def appels_recursifs_tri_fusion(liste, prof=0):\n",
        "    if len(liste) <= 1 :\n",
        "        return liste\n",
        "    else :\n",
        "        gauche, droite = division(liste)\n",
        "        print(space*prof, 'fusion(', gauche, ',', droite, ')')\n",
        "        resu = fusion (appels_recursifs_tri_fusion(gauche, prof+1), \n",
        "                       appels_recursifs_tri_fusion(droite, prof+1))\n",
        "        print(space*prof, '=>', resu)\n",
        "        return resu\n",
        "\n",
        "appels_recursifs_tri_fusion([3,4,6,2,5,1,8,7,9])"
      ],
      "execution_count": null,
      "outputs": []
    },
    {
      "cell_type": "markdown",
      "metadata": {
        "id": "1YmOtVAy1Nlf"
      },
      "source": [
        "## Efficacité du tri-fusion"
      ]
    },
    {
      "cell_type": "markdown",
      "metadata": {
        "id": "-095t_vD11Ao"
      },
      "source": [
        "#### tri par sélection vs tri fusion"
      ]
    },
    {
      "cell_type": "code",
      "metadata": {
        "colab": {
          "base_uri": "https://localhost:8080/",
          "height": 282
        },
        "id": "DLjzCUom11A3",
        "outputId": "5a19077d-59e4-4c67-c789-c9e49b92221f"
      },
      "source": [
        "import numpy as np\r\n",
        "import matplotlib.pyplot as plt\r\n",
        "from time import perf_counter\r\n",
        "from random import random\r\n",
        "\r\n",
        "import sys\r\n",
        "sys.setrecursionlimit(2500)\r\n",
        "import gc\r\n",
        "gc.disable()\r\n",
        "\r\n",
        "def chrono_tri_sur_taille(n,f):\r\n",
        "    ''' renvoie le temps (en milliseconde) d'exécution du tri par selection\r\n",
        "    sur un tableau aléatoire de 'n' nombres flottants'''\r\n",
        "    t = [random() for i in range(n)]\r\n",
        "    start = perf_counter()\r\n",
        "    f(t)\r\n",
        "    stop = perf_counter()\r\n",
        "    return 1000*(stop - start)\r\n",
        "\r\n",
        "# Tri fusion sur des tableaux de taille 100, 200, ... 2000\r\n",
        "abs = []\r\n",
        "ord = []\r\n",
        "for n in range(100,2001,100):\r\n",
        "    abs.append(n)\r\n",
        "    ord.append(chrono_tri_sur_taille(n,tri_fusion))\r\n",
        "# graphique\r\n",
        "x = np.array([1, 3, 4, 6])\r\n",
        "y = np.array([2, 3, 5, 1])\r\n",
        "plt.plot(np.array(abs), np.array(ord),  \"b:o\",label=\"tri_fusion\")\r\n",
        "\r\n",
        "# Tri par sélection sur des tableaux de taille 100, 200, ... 2000\r\n",
        "abs = []\r\n",
        "ord = []\r\n",
        "for n in range(100,2001,100):\r\n",
        "    abs.append(n)\r\n",
        "    ord.append(chrono_tri_sur_taille(n,tri_par_selection))\r\n",
        "# graphique\r\n",
        "x = np.array([1, 3, 4, 6])\r\n",
        "y = np.array([2, 3, 5, 1])\r\n",
        "plt.plot(np.array(abs), np.array(ord),  \"r:o\",label=\"tri_par_selection\")\r\n",
        "\r\n",
        "\r\n",
        "\r\n",
        "plt.legend()\r\n",
        "plt.show() # affiche la figure a l'ecran\r\n",
        "gc.collect()"
      ],
      "execution_count": null,
      "outputs": [
        {
          "output_type": "display_data",
          "data": {
            "image/png": "[encoded data removed]",
            "text/plain": [
              "<Figure size 432x288 with 1 Axes>"
            ]
          },
          "metadata": {
            "tags": [],
            "needs_background": "light"
          }
        },
        {
          "output_type": "execute_result",
          "data": {
            "text/plain": [
              "2913"
            ]
          },
          "metadata": {
            "tags": []
          },
          "execution_count": 72
        }
      ]
    },
    {
      "cell_type": "markdown",
      "metadata": {
        "id": "91ukSVl57alH"
      },
      "source": [
        "#### approche de la complexité en temps du tri fusion"
      ]
    },
    {
      "cell_type": "code",
      "metadata": {
        "colab": {
          "base_uri": "https://localhost:8080/",
          "height": 282
        },
        "id": "Rc1Inipf7alY",
        "outputId": "9eb39b99-d900-4bed-e719-0002932b880c"
      },
      "source": [
        "import numpy as np\r\n",
        "import matplotlib.pyplot as plt\r\n",
        "from time import perf_counter\r\n",
        "from random import random\r\n",
        "\r\n",
        "import sys\r\n",
        "sys.setrecursionlimit(2500)\r\n",
        "import gc\r\n",
        "gc.disable()\r\n",
        "\r\n",
        "def chrono_tri_sur_taille(n,f):\r\n",
        "    ''' renvoie le temps (en milliseconde) d'exécution du tri par selection\r\n",
        "    sur un tableau aléatoire de 'n' nombres flottants'''\r\n",
        "    t = [random() for i in range(n)]\r\n",
        "    start = perf_counter()\r\n",
        "    f(t)\r\n",
        "    stop = perf_counter()\r\n",
        "    return 1000*(stop - start)\r\n",
        "\r\n",
        "# Tri fusion sur des tableaux de taille 100, 200, ... 2000\r\n",
        "abs = []\r\n",
        "ord = []\r\n",
        "for n in range(100,2001,100):\r\n",
        "    abs.append(n)\r\n",
        "    ord.append(chrono_tri_sur_taille(n,tri_fusion))\r\n",
        "# graphique\r\n",
        "x = np.array([1, 3, 4, 6])\r\n",
        "y = np.array([2, 3, 5, 1])\r\n",
        "plt.plot(np.array(abs), np.array(ord),  \"b:o\",label=\"tri_fusion\")\r\n",
        "\r\n",
        "\r\n",
        "from math import log2\r\n",
        "\r\n",
        "abs = []\r\n",
        "ord = []\r\n",
        "c=0.0015\r\n",
        "for n in range(100,2001,100):\r\n",
        "    abs.append(n)\r\n",
        "    ord.append(c* n*log2(n))\r\n",
        "plt.plot(np.array(abs), np.array(ord),label=\"y=C.x log2(x)\")\r\n",
        "\r\n",
        "plt.legend()\r\n",
        "plt.show() # affiche la figure a l'ecran\r\n",
        "gc.collect()"
      ],
      "execution_count": null,
      "outputs": [
        {
          "output_type": "display_data",
          "data": {
            "image/png": "[encoded data removed]",
            "text/plain": [
              "<Figure size 432x288 with 1 Axes>"
            ]
          },
          "metadata": {
            "tags": [],
            "needs_background": "light"
          }
        },
        {
          "output_type": "execute_result",
          "data": {
            "text/plain": [
              "2906"
            ]
          },
          "metadata": {
            "tags": []
          },
          "execution_count": 71
        }
      ]
    },
    {
      "cell_type": "markdown",
      "metadata": {
        "id": "n00AfFwO11A5"
      },
      "source": [
        "## **A RETENIR**\n",
        "\n",
        "La complexité du tri fusion est d'ordre n log2(n)\n",
        "\n",
        "Notation :  $O(n . log_2(n))$ \n",
        "\n",
        "#### **Justification**\n",
        "* Fusionner une liste de taille n et une liste de taille m, le coût est de l'ordre de n+m (puisque chaque terme de chaque liste est parcouru exactement une fois)\n",
        "* le tri fusion sur une liste de taille $n = 2^k$ nécessite : \n",
        "   * $2^0 = 1$ fusion de listes de taille $n/2$ soit  $n/2 + n/2 = n$\n",
        "   * $2^1 = 2$ fusions de listes de taille $n/4$ soit  $2(n/4 + n/4) = n$\n",
        "   * $2^2 = 4$ fusions de listes de taille $n/8$ soit  $4(n/8 + n/8) = n$\n",
        "   * ... \n",
        "   * $2^{k-1}$ fusions de listes de taille $n/{2^k}$ soit  $2^{k-1}(n/2^{k} + n/2^{k}) = n$\n",
        "\n",
        "On a un total de k étape, et chaque étape possède un coût d'ordre n, donc le total est d'ordre $k.n$  avec $k = log_2(n)$"
      ]
    },
    {
      "cell_type": "markdown",
      "metadata": {
        "id": "G5fxUEMTFUOE"
      },
      "source": [
        "![diviser pour régner en optimisant la complexité en taille](https://frederic-junier.org/wp/wp-content/uploads/2020/10/rotation-dragon-2.gif)"
      ]
    }
  ]
}