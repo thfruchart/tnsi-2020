{
  "nbformat": 4,
  "nbformat_minor": 0,
  "metadata": {
    "colab": {
      "name": "Chap12_ACTIVITE_Diviser_Régner.ipynb",
      "provenance": [],
      "authorship_tag": "ABX9TyOugN/Xzbk6z9vsqujj7ZQa",
      "include_colab_link": true
    },
    "kernelspec": {
      "name": "python3",
      "display_name": "Python 3"
    }
  },
  "cells": [
    {
      "cell_type": "markdown",
      "metadata": {
        "id": "view-in-github",
        "colab_type": "text"
      },
      "source": [
        "<a href=\"https://colab.research.google.com/github/thfruchart/tnsi-2020/blob/master/Chap12/CORRECTION/ACTIVITE_Diviser_R%C3%A9gner.ipynb\" target=\"_parent\"><img src=\"https://colab.research.google.com/assets/colab-badge.svg\" alt=\"Open In Colab\"/></a>"
      ]
    },
    {
      "cell_type": "markdown",
      "metadata": {
        "id": "0NCZOOSj2rwn"
      },
      "source": [
        "# Rechercher une valeur dans une liste"
      ]
    },
    {
      "cell_type": "markdown",
      "metadata": {
        "id": "LwbJo5rP3MU9"
      },
      "source": [
        "## Exemple 1"
      ]
    },
    {
      "cell_type": "markdown",
      "metadata": {
        "id": "6AfdSWuo2u0u"
      },
      "source": [
        "Exécuter \"à la main\" le programme suivant, puis vérifier avec Python"
      ]
    },
    {
      "cell_type": "code",
      "metadata": {
        "id": "iKQCE9Lp2rLd"
      },
      "source": [
        "def est_present(t, e) :\r\n",
        "    bingo = False\r\n",
        "    i = 0\r\n",
        "    n = len(t)\r\n",
        "    while (i < n) and (bingo == False) :\r\n",
        "        if t[i] == e :\r\n",
        "            bingo = True\r\n",
        "        i = i + 1\r\n",
        "    return bingo\r\n",
        "    \r\n",
        "print(est_present([3,5,12,15,48],4))\r\n",
        "print(est_present([3,5,12,15,48],3))"
      ],
      "execution_count": null,
      "outputs": []
    },
    {
      "cell_type": "markdown",
      "metadata": {
        "id": "26laApbM9Y-V"
      },
      "source": [
        "**réponse** : cette fonction parcourt le tableau `t` et renvoie `True` dès que `e` est trouvé dans `t`. Elle renvoie `False` sinon :\r\n",
        "\r\n",
        "[`est_present([3,5,12,15,48],4)`](http://www.pythontutor.com/visualize.html#code=def%20est_present%28t,%20e%29%20%3A%0A%20%20%20%20bingo%20%3D%20False%0A%20%20%20%20i%20%3D%200%0A%20%20%20%20n%20%3D%20len%28t%29%0A%20%20%20%20while%20%28i%20%3C%20n%29%20and%20%28bingo%20%3D%3D%20False%29%20%3A%0A%20%20%20%20%20%20%20%20if%20t%5Bi%5D%20%3D%3D%20e%20%3A%0A%20%20%20%20%20%20%20%20%20%20%20%20bingo%20%3D%20True%0A%20%20%20%20%20%20%20%20i%20%3D%20i%20%2B%201%0A%20%20%20%20return%20bingo%0A%20%20%20%20%0Aprint%28est_present%28%5B3,5,12,15,48%5D,4%29%29&cumulative=false&curInstr=0&heapPrimitives=nevernest&mode=display&origin=opt-frontend.js&py=3&rawInputLstJSON=%5B%5D&textReferences=false)\r\n",
        "\r\n",
        "[`est_present([3,5,12,15,48],3)`](http://www.pythontutor.com/visualize.html#code=def%20est_present%28t,%20e%29%20%3A%0A%20%20%20%20bingo%20%3D%20False%0A%20%20%20%20i%20%3D%200%0A%20%20%20%20n%20%3D%20len%28t%29%0A%20%20%20%20while%20%28i%20%3C%20n%29%20and%20%28bingo%20%3D%3D%20False%29%20%3A%0A%20%20%20%20%20%20%20%20if%20t%5Bi%5D%20%3D%3D%20e%20%3A%0A%20%20%20%20%20%20%20%20%20%20%20%20bingo%20%3D%20True%0A%20%20%20%20%20%20%20%20i%20%3D%20i%20%2B%201%0A%20%20%20%20return%20bingo%0A%20%20%20%20%0Aprint%28est_present%28%5B3,5,12,15,48%5D,3%29%29&cumulative=false&curInstr=0&heapPrimitives=nevernest&mode=display&origin=opt-frontend.js&py=3&rawInputLstJSON=%5B%5D&textReferences=false)"
      ]
    },
    {
      "cell_type": "markdown",
      "metadata": {
        "id": "p9E6lfcv28ua"
      },
      "source": [
        "#### Quelle est la complexité en temps de la fonction `est_present`:\r\n",
        "* dans le meilleur des cas ?\r\n",
        "* dans le pire des cas ?"
      ]
    },
    {
      "cell_type": "markdown",
      "metadata": {
        "id": "AtQ8AikAAEcm"
      },
      "source": [
        "Idée principale : \"plus le tableau est grand, plus l'exécution est longue\", dans le cas où e n'est PAS présent dans le tableau!\r\n",
        "* dans le **pire des cas** : e n'est pas dans t. La complexité est proportionnelle à la longueur du tableau. On dit qu'elle est **linéaire** et on la note $O(n)$ où n est la taille du tableau\r\n",
        "* dans le **meilleur de cas** : `e==t[0]` et la fonction s'exécute en temps constant. "
      ]
    },
    {
      "cell_type": "markdown",
      "metadata": {
        "id": "jCGdy2Zl3VSQ"
      },
      "source": [
        "## Exemple 2"
      ]
    },
    {
      "cell_type": "code",
      "metadata": {
        "id": "mGd5d1O23ZEu"
      },
      "source": [
        "def mystere(t, e):\r\n",
        "    bingo = False\r\n",
        "    indiceGauche = 0\r\n",
        "    indiceDroite = len(t) - 1\r\n",
        "    while (indiceGauche <= indiceDroite) and (bingo == False) :\r\n",
        "        indiceMedian = (indiceGauche + indiceDroite) // 2\r\n",
        "        if t[indiceMedian] == e:\r\n",
        "                bingo = True\r\n",
        "        elif t[indiceMedian] < e:\r\n",
        "                indiceGauche = indiceMedian + 1\r\n",
        "        else:\r\n",
        "                indiceDroite =indiceMedian - 1\r\n",
        "    return bingo\r\n",
        "\r\n",
        "\r\n",
        "print(mystere([2, 12, 17, 25, 33, 35, 44, 54, 77, 91], 35))\r\n",
        "print(mystere([2, 12, 17, 25, 33, 35, 44, 54, 77, 91], 50))"
      ],
      "execution_count": null,
      "outputs": []
    },
    {
      "cell_type": "markdown",
      "metadata": {
        "id": "CLlgl9643kAb"
      },
      "source": [
        "1. A quelle précondition sur le tableau t la fonction mystère permet-elle de détecter la présence d'un élément e dans t ?\r\n",
        "   * précondition : **le tableau t doit être trié par ordre croissant**.\r\n",
        "2. Dans quel cas l'exécution de `mystere(t, e)` est-elle la plus longue possible ? \r\n",
        "   * lorsque `e` n'est pas dans `t`, l'exécution est la plus longue possible => **pire des cas**"
      ]
    },
    {
      "cell_type": "markdown",
      "metadata": {
        "id": "3qiPIVJ74Q0Z"
      },
      "source": [
        "## Complexité de la fonction mystère"
      ]
    },
    {
      "cell_type": "code",
      "metadata": {
        "id": "DoMV8UQ94XPR"
      },
      "source": [
        "def nb_boucles_mystere(t, e):\r\n",
        "    cpt = 0\r\n",
        "    bingo = False\r\n",
        "    indiceGauche = 0\r\n",
        "    indiceDroite = len(t) - 1\r\n",
        "    while (indiceGauche <= indiceDroite) and (bingo == False) :\r\n",
        "        cpt += 1\r\n",
        "        indiceMedian = (indiceGauche + indiceDroite) // 2\r\n",
        "        if t[indiceMedian] == e:\r\n",
        "                bingo = True\r\n",
        "        elif t[indiceMedian] < e:\r\n",
        "                indiceGauche = indiceMedian + 1\r\n",
        "        else:\r\n",
        "                indiceDroite =indiceMedian - 1\r\n",
        "    return cpt"
      ],
      "execution_count": 1,
      "outputs": []
    },
    {
      "cell_type": "markdown",
      "metadata": {
        "id": "PE7pFQpH4mqp"
      },
      "source": [
        "1. Exécuter la fonction `nb_boucles_mystere` sur des tableaux de taille 32, 64, 128... $2^k$ pour différentes valeur de cas afin d'évaluer le nombre de boucles exécutées **dans le pire des cas**\r\n",
        "2. Que peut-on en conclure sur la complexité en temps de la fonction mystère."
      ]
    },
    {
      "cell_type": "markdown",
      "metadata": {
        "id": "yGGy1MqAV-SH"
      },
      "source": [
        "## Représentation graphique"
      ]
    },
    {
      "cell_type": "code",
      "metadata": {
        "colab": {
          "base_uri": "https://localhost:8080/",
          "height": 282
        },
        "id": "IADbQtVmWApK",
        "outputId": "2484f41e-a139-44f6-c7d1-efc9d191c249"
      },
      "source": [
        "import numpy as np\n",
        "import matplotlib.pyplot as plt\n",
        "\n",
        "# Recherche sur des tableaux de taille 2^k \n",
        "n = int(input('Entrer n :'))\n",
        "abs = []\n",
        "ord = []\n",
        "for k in range(1,n+1):\n",
        "    taille = 2**k\n",
        "    tab = [0 for i in range(taille)]\n",
        "    abs.append(taille)\n",
        "    ord.append(nb_boucles_mystere(tab,1))\n",
        "\n",
        "# graphique\n",
        "plt.plot(np.array(abs), np.array(ord),  \"b:o\",label=\"nombre de boucle d'une recherche dichotomique\")\n",
        "\n",
        "# fonction logarithme (k.x^2)\n",
        "from math import log2\n",
        "\n",
        "ord = []\n",
        "c = 1.2\n",
        "for k in range(1,n+1):\n",
        "    taille = 2**k\n",
        "    ord.append(c* log2(taille))\n",
        "plt.plot(np.array(abs), np.array(ord),label=\"y=C.log2(x)\")\n",
        "plt.legend()\n",
        "plt.show() # affiche la figure a l'ecran"
      ],
      "execution_count": 21,
      "outputs": [
        {
          "output_type": "stream",
          "text": [
            "Entrer n :5\n"
          ],
          "name": "stdout"
        },
        {
          "output_type": "display_data",
          "data": {
            "image/png": "[encoded data removed]",
            "text/plain": [
              "<Figure size 432x288 with 1 Axes>"
            ]
          },
          "metadata": {
            "tags": [],
            "needs_background": "light"
          }
        }
      ]
    },
    {
      "cell_type": "markdown",
      "metadata": {
        "id": "PUr_WLeO5jGg"
      },
      "source": [
        "## Rappel "
      ]
    },
    {
      "cell_type": "markdown",
      "metadata": {
        "id": "YtLyD3J15mgY"
      },
      "source": [
        "![](https://codimd.s3.shivering-isles.com/demo/uploads/upload_fafe470b6fda17b1b8bc77f58fc6408f.png)\r\n"
      ]
    },
    {
      "cell_type": "markdown",
      "metadata": {
        "id": "tlq4k0CZ8RvB"
      },
      "source": [
        "**Propriétés :** \n",
        "\n",
        "* si $n = 2^k$  alors $ log_2(n) = k$\n",
        "* autrement dit :  $log_2(2^k) = k$\n",
        "* pour tout entier n, $log_2(n)$ est **environ** égal au nombre de chiffres nécessaires pour écrire n en binaire. \n",
        "\n",
        "Sur 8 bits, on peut écrire $(11111111)_2 = 255$ \n",
        "\n",
        "donc \n",
        "\n",
        "$log_2(255) \\approx 8$\n"
      ]
    },
    {
      "cell_type": "code",
      "metadata": {
        "id": "9_v-q4xB8xuu",
        "outputId": "5c853e3a-24c3-483a-af79-7fdc1c76d211",
        "colab": {
          "base_uri": "https://localhost:8080/"
        }
      },
      "source": [
        "from math import log2\n",
        "log2(255)"
      ],
      "execution_count": 2,
      "outputs": [
        {
          "output_type": "execute_result",
          "data": {
            "text/plain": [
              "7.994353436858858"
            ]
          },
          "metadata": {
            "tags": []
          },
          "execution_count": 2
        }
      ]
    },
    {
      "cell_type": "code",
      "metadata": {
        "id": "IHw4c_k69K3L",
        "outputId": "713a07d9-fae8-4575-bf2f-b510240305ae",
        "colab": {
          "base_uri": "https://localhost:8080/"
        }
      },
      "source": [
        "log2(256)"
      ],
      "execution_count": 3,
      "outputs": [
        {
          "output_type": "execute_result",
          "data": {
            "text/plain": [
              "8.0"
            ]
          },
          "metadata": {
            "tags": []
          },
          "execution_count": 3
        }
      ]
    }
  ]
}