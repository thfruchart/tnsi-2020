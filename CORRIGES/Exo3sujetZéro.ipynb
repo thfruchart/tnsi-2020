{
  "nbformat": 4,
  "nbformat_minor": 0,
  "metadata": {
    "colab": {
      "name": "Exo3sujetZéro.ipynb",
      "provenance": [],
      "authorship_tag": "ABX9TyMqSMzT2oNdpRD50Y0Azfkk",
      "include_colab_link": true
    },
    "kernelspec": {
      "name": "python3",
      "display_name": "Python 3"
    }
  },
  "cells": [
    {
      "cell_type": "markdown",
      "metadata": {
        "id": "view-in-github",
        "colab_type": "text"
      },
      "source": [
        "<a href=\"https://colab.research.google.com/github/thfruchart/tnsi-2020/blob/master/CORRIGES/Exo3sujetZ%C3%A9ro.ipynb\" target=\"_parent\"><img src=\"https://colab.research.google.com/assets/colab-badge.svg\" alt=\"Open In Colab\"/></a>"
      ]
    },
    {
      "cell_type": "markdown",
      "metadata": {
        "id": "pLCxcuUAC3os"
      },
      "source": [
        "#### question 3.1"
      ]
    },
    {
      "cell_type": "code",
      "metadata": {
        "id": "F9td8uflBIJZ"
      },
      "source": [
        "arbre = [15,'A','B','C','D','E','F','G','H','I','J','K','L','M','N','O']"
      ],
      "execution_count": null,
      "outputs": []
    },
    {
      "cell_type": "markdown",
      "metadata": {
        "id": "KGwC5zscC8cb"
      },
      "source": [
        "#### question 3.2"
      ]
    },
    {
      "cell_type": "code",
      "metadata": {
        "colab": {
          "base_uri": "https://localhost:8080/"
        },
        "id": "vw3Y6IvUBhzj",
        "outputId": "0958e63b-867a-473d-cae6-ec709466d254"
      },
      "source": [
        "i = int(input('Entrer un indice de noeud : '))\r\n",
        "print('le noeud', arbre[i], 'a pour père : ', arbre[i//2])"
      ],
      "execution_count": null,
      "outputs": [
        {
          "output_type": "stream",
          "text": [
            "Entrer un indice de noeud : 5\n",
            "le noeud E a pour père :  B\n"
          ],
          "name": "stdout"
        }
      ]
    },
    {
      "cell_type": "code",
      "metadata": {
        "colab": {
          "base_uri": "https://localhost:8080/"
        },
        "id": "g7TWCDaQCZ20",
        "outputId": "b168cfe9-53c6-43a4-ab9f-6ee335da3791"
      },
      "source": [
        "for i in range(2, len(arbre)):\r\n",
        "    print('le noeud', arbre[i], 'a pour père : ', arbre[i//2])"
      ],
      "execution_count": null,
      "outputs": [
        {
          "output_type": "stream",
          "text": [
            "le noeud B a pour père :  A\n",
            "le noeud C a pour père :  A\n",
            "le noeud D a pour père :  B\n",
            "le noeud E a pour père :  B\n",
            "le noeud F a pour père :  C\n",
            "le noeud G a pour père :  C\n",
            "le noeud H a pour père :  D\n",
            "le noeud I a pour père :  D\n",
            "le noeud J a pour père :  E\n",
            "le noeud K a pour père :  E\n",
            "le noeud L a pour père :  F\n",
            "le noeud M a pour père :  F\n",
            "le noeud N a pour père :  G\n",
            "le noeud O a pour père :  G\n"
          ],
          "name": "stdout"
        }
      ]
    },
    {
      "cell_type": "markdown",
      "metadata": {
        "id": "KLunNwfmFhdi"
      },
      "source": [
        "#### transition : arbre binaire **de recherche**"
      ]
    },
    {
      "cell_type": "code",
      "metadata": {
        "id": "1ob5wYWtFmX5",
        "colab": {
          "base_uri": "https://localhost:8080/"
        },
        "outputId": "f59d3767-d9c4-4a55-b2e7-ce3bd5da7f39"
      },
      "source": [
        "abr  = [15,'h','d','l','c','f','j','n','a','b','e','g','i','k','m','o']\r\n",
        "\r\n",
        "for i in range(1, len(abr)//2):\r\n",
        "    print('(gauche) : ', abr[2*i], ' <  ', abr[i],' < ', abr[2*i+1],'(droit)')"
      ],
      "execution_count": 1,
      "outputs": [
        {
          "output_type": "stream",
          "text": [
            "(gauche) :  d  <   h  <  l (droit)\n",
            "(gauche) :  c  <   d  <  f (droit)\n",
            "(gauche) :  j  <   l  <  n (droit)\n",
            "(gauche) :  a  <   c  <  b (droit)\n",
            "(gauche) :  e  <   f  <  g (droit)\n",
            "(gauche) :  i  <   j  <  k (droit)\n",
            "(gauche) :  m  <   n  <  o (droit)\n"
          ],
          "name": "stdout"
        }
      ]
    },
    {
      "cell_type": "markdown",
      "metadata": {
        "id": "l4U97mmGDAGj"
      },
      "source": [
        "#### question 4"
      ]
    },
    {
      "cell_type": "markdown",
      "metadata": {
        "id": "7kaBVGZ9DB_7"
      },
      "source": [
        "le paramètre arbre est un **TABLEAU comme dans la question précédente**\r\n",
        "\r\n",
        "La recherche s'effectue depuis l'indice i = 1 en suivant le principe des arbres de recherche\r\n",
        "* si element == arbre[i] : renvoyer True\r\n",
        "* si element < arbre[i] : continuer la recherche pour le sous-arbre gauche\r\n",
        "* si element > arbre[i] : continuer la recherche pour le sous-arbre gauche"
      ]
    },
    {
      "cell_type": "markdown",
      "metadata": {
        "id": "yulKx3tSIa5p"
      },
      "source": [
        "#### avec une boucle"
      ]
    },
    {
      "cell_type": "code",
      "metadata": {
        "id": "Qn5nyAqaCbHj"
      },
      "source": [
        "def recherche(arbre, element):\r\n",
        "    i = 1\r\n",
        "    while i<=arbre[0] : \r\n",
        "        print(i)\r\n",
        "        if element == arbre[i]:\r\n",
        "            return True\r\n",
        "        if element < arbre[i]:\r\n",
        "            i = 2*i\r\n",
        "        elif element >arbre[i] :\r\n",
        "            i = 2*i+1\r\n",
        "    return False"
      ],
      "execution_count": 2,
      "outputs": []
    },
    {
      "cell_type": "code",
      "metadata": {
        "id": "cdvVm8QWHrYj",
        "colab": {
          "base_uri": "https://localhost:8080/"
        },
        "outputId": "3dad6e6b-13cf-4283-dd21-b44b4b0f47d5"
      },
      "source": [
        "abr  = [15,'h','d','l','c','f','j','n','a','b','e','g','i','k','m','o']\r\n",
        "\r\n",
        "assert recherche(abr,'h')\r\n",
        "assert recherche(abr,'a')\r\n",
        "assert recherche(abr,'o')\r\n",
        "assert not recherche(abr,'z')"
      ],
      "execution_count": 3,
      "outputs": [
        {
          "output_type": "stream",
          "text": [
            "1\n",
            "1\n",
            "2\n",
            "4\n",
            "8\n",
            "1\n",
            "3\n",
            "7\n",
            "15\n",
            "1\n",
            "3\n",
            "7\n",
            "15\n"
          ],
          "name": "stdout"
        }
      ]
    },
    {
      "cell_type": "markdown",
      "metadata": {
        "id": "gaOcfrQIIe9g"
      },
      "source": [
        "#### avec une fonction récursive... et un argument par défaut!"
      ]
    },
    {
      "cell_type": "code",
      "metadata": {
        "id": "MOtSjYmzIkzw"
      },
      "source": [
        ""
      ],
      "execution_count": null,
      "outputs": []
    }
  ]
}