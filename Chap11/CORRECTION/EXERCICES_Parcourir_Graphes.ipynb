{
  "nbformat": 4,
  "nbformat_minor": 0,
  "metadata": {
    "colab": {
      "name": "Chap11_EXERCICES_Parcourir_Graphes.ipynb",
      "provenance": [],
      "collapsed_sections": [
        "pBy7lyja4O9T"
      ],
      "authorship_tag": "ABX9TyMnlPf9XEi7LkdBGGcTu0OR",
      "include_colab_link": true
    },
    "kernelspec": {
      "name": "python3",
      "display_name": "Python 3"
    }
  },
  "cells": [
    {
      "cell_type": "markdown",
      "metadata": {
        "id": "view-in-github",
        "colab_type": "text"
      },
      "source": [
        "<a href=\"https://colab.research.google.com/github/thfruchart/tnsi-2020/blob/master/Chap11/CORRECTION/EXERCICES_Parcourir_Graphes.ipynb\" target=\"_parent\"><img src=\"https://colab.research.google.com/assets/colab-badge.svg\" alt=\"Open In Colab\"/></a>"
      ]
    },
    {
      "cell_type": "markdown",
      "metadata": {
        "id": "1sJ67hZc3kOB"
      },
      "source": [
        "## Exercice 1 : distance entre deux sommets"
      ]
    },
    {
      "cell_type": "markdown",
      "metadata": {
        "id": "U-xndtCb3mE_"
      },
      "source": [
        "En utilisant la fonction `parcours_largeur`, écrire une fonction `distance` qui:\r\n",
        "* prend en arguments \r\n",
        "   * un graphe `g`\r\n",
        "   * et deux sommets `s1`, `s2` du graphe `g`\r\n",
        "* renvoie la **distance entre `s1` et `s2`** lorsque `s2` est accessible depuis `s1`\r\n",
        "* renvoie `None` sinon."
      ]
    },
    {
      "cell_type": "markdown",
      "metadata": {
        "id": "pBy7lyja4O9T"
      },
      "source": [
        "#### code fourni (voir cours)"
      ]
    },
    {
      "cell_type": "code",
      "metadata": {
        "id": "6gY6Zulq4Kkj"
      },
      "source": [
        "from queue import Queue\r\n",
        "\r\n",
        "class Graphe:\r\n",
        "    ''' graphe représenté par un dictionnaire d'adjacence'''\r\n",
        "    def __init__(self):\r\n",
        "        self.dico = {}\r\n",
        "    \r\n",
        "    def ajouter_sommet(self,s):\r\n",
        "        if s not in self.dico:\r\n",
        "            self.dico[s] = []\r\n",
        "    \r\n",
        "    def ajouter_arc(self,s1,s2):\r\n",
        "        self.ajouter_sommet(s1)\r\n",
        "        self.ajouter_sommet(s2)\r\n",
        "        self.dico[s1].append(s2)\r\n",
        "    \r\n",
        "    def ajouter_arete(self,s1,s2):\r\n",
        "        self.ajouter_sommet(s1)\r\n",
        "        self.ajouter_sommet(s2)\r\n",
        "        self.dico[s1].append(s2)\r\n",
        "        self.dico[s2].append(s1)\r\n",
        "    \r\n",
        "    def arc(self,s1,s2):\r\n",
        "        return s2 in self.dico[s1]\r\n",
        "    \r\n",
        "    def sommets(self):\r\n",
        "        return list(self.dico)\r\n",
        "\r\n",
        "    def voisins(self,s):\r\n",
        "        return self.dico[s]\r\n",
        "    \r\n",
        "def parcours_largeur(g,depart):\r\n",
        "    '''parcours en largeur d'un graphe g depuis un sommet depart\r\n",
        "    la fonction renvoie un dictionnaire avec\r\n",
        "    - comme clés : les sommets accessibles depuis depart\r\n",
        "    - comme valeurs : la distance au sommet depart'''\r\n",
        "    dist = {depart:0}\r\n",
        "    file = Queue() #file vide\r\n",
        "    file.put(depart)\r\n",
        "    while not file.empty():\r\n",
        "        s = file.get()  #on retire un sommet de la file\r\n",
        "        for v in g.voisins(s): \r\n",
        "            if v not in dist:\r\n",
        "                #  v (voisin de s) est inscrit dans le dictionnaire\r\n",
        "                dist[v] = dist[s] + 1 \r\n",
        "                # et on ajoute v dans la file\r\n",
        "                file.put(v)\r\n",
        "    return dist\r\n",
        "\r\n",
        "graphex = Graphe()\r\n",
        "graphex.ajouter_arete('A','B')\r\n",
        "graphex.ajouter_arete('A','F')\r\n",
        "graphex.ajouter_arete('B','C')\r\n",
        "graphex.ajouter_arete('B','D')\r\n",
        "graphex.ajouter_arete('B','G')\r\n",
        "graphex.ajouter_arete('F','G')\r\n",
        "graphex.ajouter_arete('F','H')\r\n",
        "graphex.ajouter_arete('C','E')\r\n",
        "graphex.ajouter_arete('E','I')\r\n",
        "graphex.ajouter_arete('D','I')\r\n",
        "graphex.ajouter_arete('G','I')\r\n",
        "graphex.ajouter_arete('H','I')\r\n",
        "graphex.ajouter_sommet('isole')"
      ],
      "execution_count": 18,
      "outputs": []
    },
    {
      "cell_type": "code",
      "metadata": {
        "id": "AICz0JvHibwm",
        "outputId": "76078833-b0f3-44b3-9482-1d04d6bef1ea",
        "colab": {
          "base_uri": "https://localhost:8080/"
        }
      },
      "source": [
        "d = parcours_largeur(graphex,'H')\r\n",
        "print(d)\r\n",
        "print(d['A'])"
      ],
      "execution_count": 8,
      "outputs": [
        {
          "output_type": "stream",
          "text": [
            "{'H': 0, 'F': 1, 'I': 1, 'A': 2, 'G': 2, 'E': 2, 'D': 2, 'B': 3, 'C': 3}\n",
            "2\n"
          ],
          "name": "stdout"
        }
      ]
    },
    {
      "cell_type": "markdown",
      "metadata": {
        "id": "L9ezTgzC4mkS"
      },
      "source": [
        "#### réponse"
      ]
    },
    {
      "cell_type": "code",
      "metadata": {
        "id": "GXW-TEXi4bWg",
        "outputId": "25629ab1-ee31-44da-db5b-99da0f327ac8",
        "colab": {
          "base_uri": "https://localhost:8080/",
          "height": 313
        }
      },
      "source": [
        "def distance(g,s1,s2):\r\n",
        "    \r\n",
        "    d = parcours_largeur(g,s1)\r\n",
        "    return d[s2]\r\n",
        "distance(graphex,'H','isole')"
      ],
      "execution_count": 19,
      "outputs": [
        {
          "output_type": "error",
          "ename": "KeyError",
          "evalue": "ignored",
          "traceback": [
            "\u001b[0;31m---------------------------------------------------------------------------\u001b[0m",
            "\u001b[0;31mKeyError\u001b[0m                                  Traceback (most recent call last)",
            "\u001b[0;32m<ipython-input-19-e641c8bf66c6>\u001b[0m in \u001b[0;36m<module>\u001b[0;34m()\u001b[0m\n\u001b[1;32m      2\u001b[0m     \u001b[0md\u001b[0m \u001b[0;34m=\u001b[0m \u001b[0mparcours_largeur\u001b[0m\u001b[0;34m(\u001b[0m\u001b[0mg\u001b[0m\u001b[0;34m,\u001b[0m\u001b[0ms1\u001b[0m\u001b[0;34m)\u001b[0m\u001b[0;34m\u001b[0m\u001b[0;34m\u001b[0m\u001b[0m\n\u001b[1;32m      3\u001b[0m     \u001b[0;32mreturn\u001b[0m \u001b[0md\u001b[0m\u001b[0;34m[\u001b[0m\u001b[0ms2\u001b[0m\u001b[0;34m]\u001b[0m\u001b[0;34m\u001b[0m\u001b[0;34m\u001b[0m\u001b[0m\n\u001b[0;32m----> 4\u001b[0;31m \u001b[0mdistance\u001b[0m\u001b[0;34m(\u001b[0m\u001b[0mgraphex\u001b[0m\u001b[0;34m,\u001b[0m\u001b[0;34m'H'\u001b[0m\u001b[0;34m,\u001b[0m\u001b[0;34m'isole'\u001b[0m\u001b[0;34m)\u001b[0m\u001b[0;34m\u001b[0m\u001b[0;34m\u001b[0m\u001b[0m\n\u001b[0m",
            "\u001b[0;32m<ipython-input-19-e641c8bf66c6>\u001b[0m in \u001b[0;36mdistance\u001b[0;34m(g, s1, s2)\u001b[0m\n\u001b[1;32m      1\u001b[0m \u001b[0;32mdef\u001b[0m \u001b[0mdistance\u001b[0m\u001b[0;34m(\u001b[0m\u001b[0mg\u001b[0m\u001b[0;34m,\u001b[0m\u001b[0ms1\u001b[0m\u001b[0;34m,\u001b[0m\u001b[0ms2\u001b[0m\u001b[0;34m)\u001b[0m\u001b[0;34m:\u001b[0m\u001b[0;34m\u001b[0m\u001b[0;34m\u001b[0m\u001b[0m\n\u001b[1;32m      2\u001b[0m     \u001b[0md\u001b[0m \u001b[0;34m=\u001b[0m \u001b[0mparcours_largeur\u001b[0m\u001b[0;34m(\u001b[0m\u001b[0mg\u001b[0m\u001b[0;34m,\u001b[0m\u001b[0ms1\u001b[0m\u001b[0;34m)\u001b[0m\u001b[0;34m\u001b[0m\u001b[0;34m\u001b[0m\u001b[0m\n\u001b[0;32m----> 3\u001b[0;31m     \u001b[0;32mreturn\u001b[0m \u001b[0md\u001b[0m\u001b[0;34m[\u001b[0m\u001b[0ms2\u001b[0m\u001b[0;34m]\u001b[0m\u001b[0;34m\u001b[0m\u001b[0;34m\u001b[0m\u001b[0m\n\u001b[0m\u001b[1;32m      4\u001b[0m \u001b[0mdistance\u001b[0m\u001b[0;34m(\u001b[0m\u001b[0mgraphex\u001b[0m\u001b[0;34m,\u001b[0m\u001b[0;34m'H'\u001b[0m\u001b[0;34m,\u001b[0m\u001b[0;34m'isole'\u001b[0m\u001b[0;34m)\u001b[0m\u001b[0;34m\u001b[0m\u001b[0;34m\u001b[0m\u001b[0m\n",
            "\u001b[0;31mKeyError\u001b[0m: 'isole'"
          ]
        }
      ]
    },
    {
      "cell_type": "code",
      "metadata": {
        "id": "woc5lr7EkAh2",
        "outputId": "a8701f98-f123-444d-e5fb-cb95fb4542a4",
        "colab": {
          "base_uri": "https://localhost:8080/"
        }
      },
      "source": [
        "assert distance(graphex,'H','A')==2\r\n",
        "assert distance(graphex,'H','B')==3\r\n",
        "assert distance(graphex,'E','B')==2\r\n",
        "assert distance(graphex,'A','F')==1\r\n",
        "assert distance(graphex,'B','B')==0\r\n",
        "print('test ok')"
      ],
      "execution_count": 16,
      "outputs": [
        {
          "output_type": "stream",
          "text": [
            "test ok\n"
          ],
          "name": "stdout"
        }
      ]
    },
    {
      "cell_type": "markdown",
      "metadata": {
        "id": "-XpyCCCM3-l3"
      },
      "source": [
        "## Exercice 2"
      ]
    },
    {
      "cell_type": "markdown",
      "metadata": {
        "id": "yO1_hPTB4D83"
      },
      "source": [
        "La méthode proposée dans l'exercice 1 peut être améliorée!\r\n",
        "\r\n",
        "En effet, si on cherche uniquement la distance entre s1 et s2, il est inutile de compléter le dictionnaire donnant la distance entre s1 et **tous** les sommets du graphe... il suffit de s'interrompre dès qu'on arrive à s2!\r\n",
        "\r\n",
        "Ré-écrire la fonction distance, en tenant compte de cette observation."
      ]
    },
    {
      "cell_type": "code",
      "metadata": {
        "id": "5djJ6wwO3gbx"
      },
      "source": [
        "def distance(g,s1,s2):\r\n",
        "    return"
      ],
      "execution_count": null,
      "outputs": []
    },
    {
      "cell_type": "markdown",
      "metadata": {
        "id": "0-gNrD-VaREQ"
      },
      "source": [
        "# Exercice 3 : plus court chemin (nombre d'arêtes)"
      ]
    },
    {
      "cell_type": "markdown",
      "metadata": {
        "id": "GP_8NoyMaREb"
      },
      "source": [
        "**1)** En s'inspirant de l'exercice 1, écrire une fonction `optimal_predecesseurs(g,depart)` qui:\n",
        "* prend en arguments :\n",
        "   * un graphe `g`\n",
        "   * un sommet `depart`\n",
        "* et qui renvoie :\n",
        "   * un dictionnaire indiquant, pour chaque sommet, le prédécesseur optimal permettant d'atteindre ce sommet en partant de `depart`. \n",
        "   * dans ce dictionnaire, la valeur `None` sera associé à la clé `depart`"
      ]
    },
    {
      "cell_type": "code",
      "metadata": {
        "id": "bJQE4So0aacu"
      },
      "source": [
        "def optimal_predecesseurs(g,depart):\n",
        "    '''renvoie un dictionnaire donnant un prédécesseur optimal\n",
        "    depuis le sommet 'depart'  '''\n",
        "    predecesseur = {depart:None}\n",
        "    \n",
        "    return predecesseur"
      ],
      "execution_count": null,
      "outputs": []
    },
    {
      "cell_type": "markdown",
      "metadata": {
        "id": "1Ry1cnBoVshd"
      },
      "source": [
        "**2)** En déduire une fonction `chemin(g,s1,s2)` qui\n",
        "* prend en arguments \n",
        "   * un graphe `g`\n",
        "   * et deux sommets `s1`, `s2` du graphe `g`\n",
        "* renvoie un **plus court chemin entre `s1` et `s2`** lorsque `s2` est accessible depuis `s1`\n",
        "* renvoie `None` sinon."
      ]
    },
    {
      "cell_type": "code",
      "metadata": {
        "id": "89n2y6mFajAu"
      },
      "source": [
        "def chemin(g,s1,s2):\n",
        "    '''renvoie un (plus court) chemin entre s1 et s2,\n",
        "    ou None si s2 n'est pas accessible depuis s1'''\n",
        "    return"
      ],
      "execution_count": null,
      "outputs": []
    }
  ]
}