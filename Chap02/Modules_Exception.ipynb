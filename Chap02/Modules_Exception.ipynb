{
  "nbformat": 4,
  "nbformat_minor": 0,
  "metadata": {
    "colab": {
      "name": "02-Modules_Exception.ipynb",
      "provenance": [],
      "collapsed_sections": [],
      "authorship_tag": "ABX9TyM7b09A1AL65BWdRModErdg",
      "include_colab_link": true
    },
    "kernelspec": {
      "name": "python3",
      "display_name": "Python 3"
    }
  },
  "cells": [
    {
      "cell_type": "markdown",
      "metadata": {
        "id": "view-in-github",
        "colab_type": "text"
      },
      "source": [
        "<a href=\"https://colab.research.google.com/github/thfruchart/tnsi-2020/blob/master/Chap02/Modules_Exception.ipynb\" target=\"_parent\"><img src=\"https://colab.research.google.com/assets/colab-badge.svg\" alt=\"Open In Colab\"/></a>"
      ]
    },
    {
      "cell_type": "markdown",
      "metadata": {
        "id": "CWv7UrjhS-6x",
        "colab_type": "text"
      },
      "source": [
        "# Un premier exemple"
      ]
    },
    {
      "cell_type": "markdown",
      "metadata": {
        "id": "AUlhH7qwTCtl",
        "colab_type": "text"
      },
      "source": [
        "Reprenons l'exemple du module `ensemble1`."
      ]
    },
    {
      "cell_type": "markdown",
      "metadata": {
        "id": "FWX7xxe7rwsf",
        "colab_type": "text"
      },
      "source": [
        "###Contenu du module ensemble1.py"
      ]
    },
    {
      "cell_type": "code",
      "metadata": {
        "id": "oxv92K_Y6dSR",
        "colab_type": "code",
        "colab": {}
      },
      "source": [
        "def cree_ensemble():\n",
        "    ''' crée un ensemble vide, pouvant contenir des entiers entre 0 et 366\n",
        "    implémenté sous la forme d'un tableau de booléens'''\n",
        "    return [False for i in range(367)]\n",
        "\n",
        "def appartient(v,s):\n",
        "    ''' teste si une valeur v (de 0 à 366) appartient à l'ensemble s'''\n",
        "    return s[v]\n",
        "\n",
        "def ajoute(v,s):\n",
        "    ''' ajoute la valeur v (de 0 à 366) à l'ensemble s'''\n",
        "    s[v]=True"
      ],
      "execution_count": 1,
      "outputs": []
    },
    {
      "cell_type": "markdown",
      "metadata": {
        "id": "HO_-NPgfTLNT",
        "colab_type": "text"
      },
      "source": [
        "Que se passe-t-il si un utilisateur utilise ce module de la manière suivante :"
      ]
    },
    {
      "cell_type": "code",
      "metadata": {
        "id": "SPeNmJIOS2wd",
        "colab_type": "code",
        "colab": {
          "base_uri": "https://localhost:8080/",
          "height": 284
        },
        "outputId": "312fc28d-77e3-42ab-8d44-0be892805d35"
      },
      "source": [
        "s1 = cree_ensemble()\n",
        "ajoute(31, s1)\n",
        "ajoute(399, s1)"
      ],
      "execution_count": 2,
      "outputs": [
        {
          "output_type": "error",
          "ename": "IndexError",
          "evalue": "ignored",
          "traceback": [
            "\u001b[0;31m---------------------------------------------------------------------------\u001b[0m",
            "\u001b[0;31mIndexError\u001b[0m                                Traceback (most recent call last)",
            "\u001b[0;32m<ipython-input-2-156ad8b24142>\u001b[0m in \u001b[0;36m<module>\u001b[0;34m()\u001b[0m\n\u001b[1;32m      1\u001b[0m \u001b[0ms1\u001b[0m \u001b[0;34m=\u001b[0m \u001b[0mcree_ensemble\u001b[0m\u001b[0;34m(\u001b[0m\u001b[0;34m)\u001b[0m\u001b[0;34m\u001b[0m\u001b[0;34m\u001b[0m\u001b[0m\n\u001b[1;32m      2\u001b[0m \u001b[0majoute\u001b[0m\u001b[0;34m(\u001b[0m\u001b[0;36m31\u001b[0m\u001b[0;34m,\u001b[0m \u001b[0ms1\u001b[0m\u001b[0;34m)\u001b[0m\u001b[0;34m\u001b[0m\u001b[0;34m\u001b[0m\u001b[0m\n\u001b[0;32m----> 3\u001b[0;31m \u001b[0majoute\u001b[0m\u001b[0;34m(\u001b[0m\u001b[0;36m399\u001b[0m\u001b[0;34m,\u001b[0m \u001b[0ms1\u001b[0m\u001b[0;34m)\u001b[0m\u001b[0;34m\u001b[0m\u001b[0;34m\u001b[0m\u001b[0m\n\u001b[0m",
            "\u001b[0;32m<ipython-input-1-da50510757c7>\u001b[0m in \u001b[0;36majoute\u001b[0;34m(v, s)\u001b[0m\n\u001b[1;32m     10\u001b[0m \u001b[0;32mdef\u001b[0m \u001b[0majoute\u001b[0m\u001b[0;34m(\u001b[0m\u001b[0mv\u001b[0m\u001b[0;34m,\u001b[0m\u001b[0ms\u001b[0m\u001b[0;34m)\u001b[0m\u001b[0;34m:\u001b[0m\u001b[0;34m\u001b[0m\u001b[0;34m\u001b[0m\u001b[0m\n\u001b[1;32m     11\u001b[0m     \u001b[0;34m''' ajoute la valeur v (de 0 à 366) à l'ensemble s'''\u001b[0m\u001b[0;34m\u001b[0m\u001b[0;34m\u001b[0m\u001b[0m\n\u001b[0;32m---> 12\u001b[0;31m     \u001b[0ms\u001b[0m\u001b[0;34m[\u001b[0m\u001b[0mv\u001b[0m\u001b[0;34m]\u001b[0m\u001b[0;34m=\u001b[0m\u001b[0;32mTrue\u001b[0m\u001b[0;34m\u001b[0m\u001b[0;34m\u001b[0m\u001b[0m\n\u001b[0m",
            "\u001b[0;31mIndexError\u001b[0m: list assignment index out of range"
          ]
        }
      ]
    },
    {
      "cell_type": "markdown",
      "metadata": {
        "id": "41FbNFfOTdAs",
        "colab_type": "text"
      },
      "source": [
        "Les deux premières instructions sont correctement exécutées, mais la troisième renvoie un message d'erreur... qui convient mal : expliquer pourquoi !"
      ]
    },
    {
      "cell_type": "markdown",
      "metadata": {
        "id": "XGGmn8z2ToS9",
        "colab_type": "text"
      },
      "source": [
        "Le message est lié à **l'implémentation**\n",
        "\n",
        "Dans l'interface des ensembles, la notion d'index de figure pas."
      ]
    },
    {
      "cell_type": "markdown",
      "metadata": {
        "id": "OlfI930BTq-k",
        "colab_type": "text"
      },
      "source": [
        "# Notion d'exception"
      ]
    },
    {
      "cell_type": "markdown",
      "metadata": {
        "id": "gslWD5bxTvu0",
        "colab_type": "text"
      },
      "source": [
        "Un module bien écrit doit pouvoir donner une information claire à l'utilisateur qui en a fait une utilisation incorrecte : les exceptions sont destinées à cet usage."
      ]
    },
    {
      "cell_type": "markdown",
      "metadata": {
        "id": "UgEcfd6eWmxE",
        "colab_type": "text"
      },
      "source": [
        "Liste de quelques exceptions courantes de python\n",
        "\n",
        "|exception|contexte|\n",
        "|:--------:|:------:|\n",
        "|NameError|nom de variable inexistant|\n",
        "|IndexError|accès à un indice invalide dans une liste ou un objet indexé |\n",
        "|ValueError|valeur incorrecte dans le contexte |\n",
        "|KeyError|accès à une clé inexistante dans un dictionnaire|\n",
        "|ZeroDivisionError|division par zéro|\n",
        "|TypeError|opération appliquée à des valeurs dont le type ne correspond pas|"
      ]
    },
    {
      "cell_type": "markdown",
      "metadata": {
        "id": "IVLEbzexWTH7",
        "colab_type": "text"
      },
      "source": [
        "# Lever une exception"
      ]
    },
    {
      "cell_type": "markdown",
      "metadata": {
        "id": "kNUSK23WYTt3",
        "colab_type": "text"
      },
      "source": [
        "Une exception \n",
        "* met fin au programme en cours\n",
        "* informe du motif pour lequel le programme est interrompu"
      ]
    },
    {
      "cell_type": "markdown",
      "metadata": {
        "colab_type": "text",
        "id": "E1OnfBwxUEmC"
      },
      "source": [
        "###Contenu du module ensemble1.py avec EXCEPTION"
      ]
    },
    {
      "cell_type": "code",
      "metadata": {
        "colab_type": "code",
        "id": "wNE1rVr9UEmF",
        "colab": {}
      },
      "source": [
        "def cree_ensemble():\n",
        "    ''' crée un ensemble vide, pouvant contenir des entiers entre 0 et 366\n",
        "    implémenté sous la forme d'un tableau de booléens'''\n",
        "    return [False for i in range(367)]\n",
        "\n",
        "def appartient(v,s):\n",
        "    ''' teste si une valeur v (de 0 à 366) appartient à l'ensemble s'''\n",
        "    return s[v]\n",
        "\n",
        "def ajoute(v,s):\n",
        "    ''' ajoute la valeur v (de 0 à 366) à l'ensemble s'''\n",
        "    if type(v) != int :\n",
        "        raise TypeError(\"la valeur n'est pas de type int\")\n",
        "    if v<0 or v>366 :\n",
        "        raise ValueError(\"valeurs entre 0 et 366 uniquement\")\n",
        "    s[v]=True"
      ],
      "execution_count": 11,
      "outputs": []
    },
    {
      "cell_type": "markdown",
      "metadata": {
        "colab_type": "text",
        "id": "hVt4mUB6UEmW"
      },
      "source": [
        "Observer l'exécution du code suivant :"
      ]
    },
    {
      "cell_type": "code",
      "metadata": {
        "id": "cabFxzTGVqR4",
        "colab_type": "code",
        "colab": {
          "base_uri": "https://localhost:8080/",
          "height": 300
        },
        "outputId": "5c48b729-ddf7-47c8-d67c-02f44f72ba01"
      },
      "source": [
        "s1 = cree_ensemble()\n",
        "ajoute(31, s1)\n",
        "ajoute(399, s1)"
      ],
      "execution_count": 5,
      "outputs": [
        {
          "output_type": "error",
          "ename": "ValueError",
          "evalue": "ignored",
          "traceback": [
            "\u001b[0;31m---------------------------------------------------------------------------\u001b[0m",
            "\u001b[0;31mValueError\u001b[0m                                Traceback (most recent call last)",
            "\u001b[0;32m<ipython-input-5-156ad8b24142>\u001b[0m in \u001b[0;36m<module>\u001b[0;34m()\u001b[0m\n\u001b[1;32m      1\u001b[0m \u001b[0ms1\u001b[0m \u001b[0;34m=\u001b[0m \u001b[0mcree_ensemble\u001b[0m\u001b[0;34m(\u001b[0m\u001b[0;34m)\u001b[0m\u001b[0;34m\u001b[0m\u001b[0;34m\u001b[0m\u001b[0m\n\u001b[1;32m      2\u001b[0m \u001b[0majoute\u001b[0m\u001b[0;34m(\u001b[0m\u001b[0;36m31\u001b[0m\u001b[0;34m,\u001b[0m \u001b[0ms1\u001b[0m\u001b[0;34m)\u001b[0m\u001b[0;34m\u001b[0m\u001b[0;34m\u001b[0m\u001b[0m\n\u001b[0;32m----> 3\u001b[0;31m \u001b[0majoute\u001b[0m\u001b[0;34m(\u001b[0m\u001b[0;36m399\u001b[0m\u001b[0;34m,\u001b[0m \u001b[0ms1\u001b[0m\u001b[0;34m)\u001b[0m\u001b[0;34m\u001b[0m\u001b[0;34m\u001b[0m\u001b[0m\n\u001b[0m",
            "\u001b[0;32m<ipython-input-4-03816534a046>\u001b[0m in \u001b[0;36majoute\u001b[0;34m(v, s)\u001b[0m\n\u001b[1;32m     13\u001b[0m         \u001b[0;32mraise\u001b[0m \u001b[0mTypeError\u001b[0m\u001b[0;34m(\u001b[0m\u001b[0;34m\"la valeur n'est pas de type int\"\u001b[0m\u001b[0;34m)\u001b[0m\u001b[0;34m\u001b[0m\u001b[0;34m\u001b[0m\u001b[0m\n\u001b[1;32m     14\u001b[0m     \u001b[0;32mif\u001b[0m \u001b[0mv\u001b[0m\u001b[0;34m<\u001b[0m\u001b[0;36m0\u001b[0m \u001b[0;32mor\u001b[0m \u001b[0mv\u001b[0m\u001b[0;34m>\u001b[0m\u001b[0;36m366\u001b[0m \u001b[0;34m:\u001b[0m\u001b[0;34m\u001b[0m\u001b[0;34m\u001b[0m\u001b[0m\n\u001b[0;32m---> 15\u001b[0;31m         \u001b[0;32mraise\u001b[0m \u001b[0mValueError\u001b[0m\u001b[0;34m(\u001b[0m\u001b[0;34m\"valeurs entre 0 et 366 uniquement\"\u001b[0m\u001b[0;34m)\u001b[0m\u001b[0;34m\u001b[0m\u001b[0;34m\u001b[0m\u001b[0m\n\u001b[0m\u001b[1;32m     16\u001b[0m     \u001b[0ms\u001b[0m\u001b[0;34m[\u001b[0m\u001b[0mv\u001b[0m\u001b[0;34m]\u001b[0m\u001b[0;34m=\u001b[0m\u001b[0;32mTrue\u001b[0m\u001b[0;34m\u001b[0m\u001b[0;34m\u001b[0m\u001b[0m\n",
            "\u001b[0;31mValueError\u001b[0m: valeurs entre 0 et 366 uniquement"
          ]
        }
      ]
    },
    {
      "cell_type": "code",
      "metadata": {
        "id": "FWz9caiCYxDr",
        "colab_type": "code",
        "colab": {
          "base_uri": "https://localhost:8080/",
          "height": 283
        },
        "outputId": "de37512c-bf53-487f-96a2-f655406fde30"
      },
      "source": [
        "ajoute(15.78, s1)"
      ],
      "execution_count": 6,
      "outputs": [
        {
          "output_type": "error",
          "ename": "TypeError",
          "evalue": "ignored",
          "traceback": [
            "\u001b[0;31m---------------------------------------------------------------------------\u001b[0m",
            "\u001b[0;31mTypeError\u001b[0m                                 Traceback (most recent call last)",
            "\u001b[0;32m<ipython-input-6-cd27dd8810cf>\u001b[0m in \u001b[0;36m<module>\u001b[0;34m()\u001b[0m\n\u001b[0;32m----> 1\u001b[0;31m \u001b[0majoute\u001b[0m\u001b[0;34m(\u001b[0m\u001b[0;36m15.78\u001b[0m\u001b[0;34m,\u001b[0m \u001b[0ms1\u001b[0m\u001b[0;34m)\u001b[0m\u001b[0;34m\u001b[0m\u001b[0;34m\u001b[0m\u001b[0m\n\u001b[0m",
            "\u001b[0;32m<ipython-input-4-03816534a046>\u001b[0m in \u001b[0;36majoute\u001b[0;34m(v, s)\u001b[0m\n\u001b[1;32m     11\u001b[0m     \u001b[0;34m''' ajoute la valeur v (de 0 à 366) à l'ensemble s'''\u001b[0m\u001b[0;34m\u001b[0m\u001b[0;34m\u001b[0m\u001b[0m\n\u001b[1;32m     12\u001b[0m     \u001b[0;32mif\u001b[0m \u001b[0mtype\u001b[0m\u001b[0;34m(\u001b[0m\u001b[0mv\u001b[0m\u001b[0;34m)\u001b[0m \u001b[0;34m!=\u001b[0m \u001b[0mint\u001b[0m \u001b[0;34m:\u001b[0m\u001b[0;34m\u001b[0m\u001b[0;34m\u001b[0m\u001b[0m\n\u001b[0;32m---> 13\u001b[0;31m         \u001b[0;32mraise\u001b[0m \u001b[0mTypeError\u001b[0m\u001b[0;34m(\u001b[0m\u001b[0;34m\"la valeur n'est pas de type int\"\u001b[0m\u001b[0;34m)\u001b[0m\u001b[0;34m\u001b[0m\u001b[0;34m\u001b[0m\u001b[0m\n\u001b[0m\u001b[1;32m     14\u001b[0m     \u001b[0;32mif\u001b[0m \u001b[0mv\u001b[0m\u001b[0;34m<\u001b[0m\u001b[0;36m0\u001b[0m \u001b[0;32mor\u001b[0m \u001b[0mv\u001b[0m\u001b[0;34m>\u001b[0m\u001b[0;36m366\u001b[0m \u001b[0;34m:\u001b[0m\u001b[0;34m\u001b[0m\u001b[0;34m\u001b[0m\u001b[0m\n\u001b[1;32m     15\u001b[0m         \u001b[0;32mraise\u001b[0m \u001b[0mValueError\u001b[0m\u001b[0;34m(\u001b[0m\u001b[0;34m\"valeurs entre 0 et 366 uniquement\"\u001b[0m\u001b[0;34m)\u001b[0m\u001b[0;34m\u001b[0m\u001b[0;34m\u001b[0m\u001b[0m\n",
            "\u001b[0;31mTypeError\u001b[0m: la valeur n'est pas de type int"
          ]
        }
      ]
    },
    {
      "cell_type": "markdown",
      "metadata": {
        "id": "dnqiDHdwV1xC",
        "colab_type": "text"
      },
      "source": [
        "## reste à modifier la fonction `appartient`"
      ]
    },
    {
      "cell_type": "code",
      "metadata": {
        "colab_type": "code",
        "id": "J4VhyOTbWCoq",
        "colab": {}
      },
      "source": [
        "def cree_ensemble():\n",
        "    ''' crée un ensemble vide, pouvant contenir des entiers entre 0 et 366\n",
        "    implémenté sous la forme d'un tableau de booléens'''\n",
        "    return [False for i in range(367)]\n",
        "\n",
        "def appartient(v,s):\n",
        "    ''' teste si une valeur v (de 0 à 366) appartient à l'ensemble s'''\n",
        "    if type(v) != int :\n",
        "        return False\n",
        "    if v<0 or v>366 :\n",
        "        return False\n",
        "    return s[v]\n",
        "\n",
        "def ajoute(v,s):\n",
        "    ''' ajoute la valeur v (de 0 à 366) à l'ensemble s'''\n",
        "    if type(v) != int :\n",
        "        raise TypeError(\"la valeur n'est pas de type int\")\n",
        "    if v<1 or v>366 :\n",
        "        raise ValueError(\"valeurs entre 1 et 366 uniquement\")\n",
        "    s[v]=True"
      ],
      "execution_count": 13,
      "outputs": []
    },
    {
      "cell_type": "code",
      "metadata": {
        "id": "VXiZfuc0Y_Ar",
        "colab_type": "code",
        "colab": {
          "base_uri": "https://localhost:8080/",
          "height": 334
        },
        "outputId": "e5c0619d-ace2-4506-ad90-3e6a76584c25"
      },
      "source": [
        "s2 = cree_ensemble()\n",
        "ajoute(310, s2)\n",
        "ajoute(57,s2)\n",
        "print(appartient(5899, s2))\n",
        "print(appartient(58.3, s2))"
      ],
      "execution_count": 12,
      "outputs": [
        {
          "output_type": "error",
          "ename": "IndexError",
          "evalue": "ignored",
          "traceback": [
            "\u001b[0;31m---------------------------------------------------------------------------\u001b[0m",
            "\u001b[0;31mIndexError\u001b[0m                                Traceback (most recent call last)",
            "\u001b[0;32m<ipython-input-12-c36b95c47933>\u001b[0m in \u001b[0;36m<module>\u001b[0;34m()\u001b[0m\n\u001b[1;32m      2\u001b[0m \u001b[0majoute\u001b[0m\u001b[0;34m(\u001b[0m\u001b[0;36m310\u001b[0m\u001b[0;34m,\u001b[0m \u001b[0ms2\u001b[0m\u001b[0;34m)\u001b[0m\u001b[0;34m\u001b[0m\u001b[0;34m\u001b[0m\u001b[0m\n\u001b[1;32m      3\u001b[0m \u001b[0majoute\u001b[0m\u001b[0;34m(\u001b[0m\u001b[0;36m57\u001b[0m\u001b[0;34m,\u001b[0m\u001b[0ms2\u001b[0m\u001b[0;34m)\u001b[0m\u001b[0;34m\u001b[0m\u001b[0;34m\u001b[0m\u001b[0m\n\u001b[0;32m----> 4\u001b[0;31m \u001b[0mprint\u001b[0m\u001b[0;34m(\u001b[0m\u001b[0mappartient\u001b[0m\u001b[0;34m(\u001b[0m\u001b[0;36m5899\u001b[0m\u001b[0;34m,\u001b[0m \u001b[0ms2\u001b[0m\u001b[0;34m)\u001b[0m\u001b[0;34m)\u001b[0m\u001b[0;34m\u001b[0m\u001b[0;34m\u001b[0m\u001b[0m\n\u001b[0m\u001b[1;32m      5\u001b[0m \u001b[0mprint\u001b[0m\u001b[0;34m(\u001b[0m\u001b[0mappartient\u001b[0m\u001b[0;34m(\u001b[0m\u001b[0;36m58.3\u001b[0m\u001b[0;34m,\u001b[0m \u001b[0ms2\u001b[0m\u001b[0;34m)\u001b[0m\u001b[0;34m)\u001b[0m\u001b[0;34m\u001b[0m\u001b[0;34m\u001b[0m\u001b[0m\n",
            "\u001b[0;32m<ipython-input-11-03816534a046>\u001b[0m in \u001b[0;36mappartient\u001b[0;34m(v, s)\u001b[0m\n\u001b[1;32m      6\u001b[0m \u001b[0;32mdef\u001b[0m \u001b[0mappartient\u001b[0m\u001b[0;34m(\u001b[0m\u001b[0mv\u001b[0m\u001b[0;34m,\u001b[0m\u001b[0ms\u001b[0m\u001b[0;34m)\u001b[0m\u001b[0;34m:\u001b[0m\u001b[0;34m\u001b[0m\u001b[0;34m\u001b[0m\u001b[0m\n\u001b[1;32m      7\u001b[0m     \u001b[0;34m''' teste si une valeur v (de 0 à 366) appartient à l'ensemble s'''\u001b[0m\u001b[0;34m\u001b[0m\u001b[0;34m\u001b[0m\u001b[0m\n\u001b[0;32m----> 8\u001b[0;31m     \u001b[0;32mreturn\u001b[0m \u001b[0ms\u001b[0m\u001b[0;34m[\u001b[0m\u001b[0mv\u001b[0m\u001b[0;34m]\u001b[0m\u001b[0;34m\u001b[0m\u001b[0;34m\u001b[0m\u001b[0m\n\u001b[0m\u001b[1;32m      9\u001b[0m \u001b[0;34m\u001b[0m\u001b[0m\n\u001b[1;32m     10\u001b[0m \u001b[0;32mdef\u001b[0m \u001b[0majoute\u001b[0m\u001b[0;34m(\u001b[0m\u001b[0mv\u001b[0m\u001b[0;34m,\u001b[0m\u001b[0ms\u001b[0m\u001b[0;34m)\u001b[0m\u001b[0;34m:\u001b[0m\u001b[0;34m\u001b[0m\u001b[0;34m\u001b[0m\u001b[0m\n",
            "\u001b[0;31mIndexError\u001b[0m: list index out of range"
          ]
        }
      ]
    },
    {
      "cell_type": "code",
      "metadata": {
        "id": "JYz3lV9SUI9j",
        "colab_type": "code",
        "colab": {
          "base_uri": "https://localhost:8080/",
          "height": 34
        },
        "outputId": "b1dd6629-23f3-41b9-8dff-fb2dea49f9a8"
      },
      "source": [
        "print(appartient(57,s2))"
      ],
      "execution_count": 10,
      "outputs": [
        {
          "output_type": "stream",
          "text": [
            "True\n"
          ],
          "name": "stdout"
        }
      ]
    },
    {
      "cell_type": "markdown",
      "metadata": {
        "id": "tDcUklosZcC8",
        "colab_type": "text"
      },
      "source": [
        "# Mise à jour de l'interface du module `ensemble1`"
      ]
    },
    {
      "cell_type": "markdown",
      "metadata": {
        "id": "NMbRfgQ6uhPU",
        "colab_type": "text"
      },
      "source": [
        "\n",
        "|fonction           |description|\n",
        "| :--------------- :| :-------- :|\n",
        "|  `cree_ensemble()` |  crée un ensemble vide de dates|\n",
        "| `appartient(v,s)`  | renvoie `True` si et seulement si la date `v` est dans l'ensemble `s` |\n",
        "| `ajoute(v,s)`      | ajoute la date `v` (de type `int`) dans l'ensemble `s` si $0\\leq v \\leq 366$ et renvoie une exception `ValeurError` sinon|\n",
        "\n"
      ]
    },
    {
      "cell_type": "markdown",
      "metadata": {
        "id": "x9KWChrVWMHj",
        "colab_type": "text"
      },
      "source": [
        "# Rattraper une exception"
      ]
    },
    {
      "cell_type": "markdown",
      "metadata": {
        "id": "pcGhf3xGWWyH",
        "colab_type": "text"
      },
      "source": [
        "Un programme peut prévoir quoi faire dans le cas où certaines exceptions surviennent. "
      ]
    },
    {
      "cell_type": "markdown",
      "metadata": {
        "id": "-zhf3Pziao_u",
        "colab_type": "text"
      },
      "source": [
        "## Exemple 1 : saisie d'un entier"
      ]
    },
    {
      "cell_type": "code",
      "metadata": {
        "id": "_bqePULTad2C",
        "colab_type": "code",
        "colab": {
          "base_uri": "https://localhost:8080/",
          "height": 51
        },
        "outputId": "d1444f43-bb00-4c76-fba8-6c08815564cb"
      },
      "source": [
        "try:\n",
        "    n = int(input('entrer un entier'))\n",
        "except ValueError :\n",
        "    print(\"Entrer un nombre entier valide\")"
      ],
      "execution_count": 18,
      "outputs": [
        {
          "output_type": "stream",
          "text": [
            "entrer un entier12.3\n",
            "Entrer un nombre entier valide\n"
          ],
          "name": "stdout"
        }
      ]
    },
    {
      "cell_type": "code",
      "metadata": {
        "id": "oWtrQaZdWMrN",
        "colab_type": "code",
        "colab": {
          "base_uri": "https://localhost:8080/",
          "height": 34
        },
        "outputId": "30eab7ad-535a-4b34-85d1-e0e3b09def1c"
      },
      "source": [
        "n"
      ],
      "execution_count": 17,
      "outputs": [
        {
          "output_type": "execute_result",
          "data": {
            "text/plain": [
              "75"
            ]
          },
          "metadata": {
            "tags": []
          },
          "execution_count": 17
        }
      ]
    },
    {
      "cell_type": "markdown",
      "metadata": {
        "id": "28SozfOvbLMd",
        "colab_type": "text"
      },
      "source": [
        "## Exemple 2 : saisie répétée, jusqu'à obtenir un entier valide"
      ]
    },
    {
      "cell_type": "code",
      "metadata": {
        "id": "Vsle7f-CbUY2",
        "colab_type": "code",
        "colab": {
          "base_uri": "https://localhost:8080/",
          "height": 136
        },
        "outputId": "df436678-6eda-4fcf-c755-45212f77e155"
      },
      "source": [
        "print('entrer un entier')\n",
        "boucle = True\n",
        "while boucle==True :\n",
        "    try:\n",
        "        n = int(input())\n",
        "        boucle = False\n",
        "    except ValueError :\n",
        "        print(\"Entrer un nombre entier valide\")\n",
        "print(\"entier saisi : \", n )"
      ],
      "execution_count": 19,
      "outputs": [
        {
          "output_type": "stream",
          "text": [
            "entrer un entier\n",
            "ljkhgljhl\n",
            "Entrer un nombre entier valide\n",
            "10.5\n",
            "Entrer un nombre entier valide\n",
            "123\n",
            "entier saisi :  123\n"
          ],
          "name": "stdout"
        }
      ]
    },
    {
      "cell_type": "markdown",
      "metadata": {
        "id": "HU4KMB0HcZVu",
        "colab_type": "text"
      },
      "source": [
        "On peut également utiliser la syntaxe : "
      ]
    },
    {
      "cell_type": "code",
      "metadata": {
        "id": "30Knbb-Icc_G",
        "colab_type": "code",
        "colab": {
          "base_uri": "https://localhost:8080/",
          "height": 102
        },
        "outputId": "0051bbc4-39f9-4167-e616-555fa1679f90"
      },
      "source": [
        "print('entrer un entier')\n",
        "while True:\n",
        "    try:\n",
        "        n = int(input())\n",
        "        break\n",
        "    except ValueError :\n",
        "        print(\"Entrer un nombre entier valide\")\n",
        "\n",
        "print(\"entier saisi : \", n )"
      ],
      "execution_count": null,
      "outputs": [
        {
          "output_type": "stream",
          "text": [
            "entrer un entier\n",
            "1.5\n",
            "Entrer un nombre entier valide\n",
            "12\n",
            "entier saisi :  12\n"
          ],
          "name": "stdout"
        }
      ]
    }
  ]
}