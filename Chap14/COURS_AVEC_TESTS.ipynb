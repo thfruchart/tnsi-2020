{
  "nbformat": 4,
  "nbformat_minor": 0,
  "metadata": {
    "colab": {
      "name": "Chap14_COURS.ipynb",
      "provenance": [],
      "collapsed_sections": [],
      "authorship_tag": "ABX9TyOW0yX7BoDpbusmCJLZwz41",
      "include_colab_link": true
    },
    "kernelspec": {
      "name": "python3",
      "display_name": "Python 3"
    }
  },
  "cells": [
    {
      "cell_type": "markdown",
      "metadata": {
        "id": "view-in-github",
        "colab_type": "text"
      },
      "source": [
        "<a href=\"https://colab.research.google.com/github/thfruchart/tnsi-2020/blob/master/Chap14/COURS_AVEC_TESTS.ipynb\" target=\"_parent\"><img src=\"https://colab.research.google.com/assets/colab-badge.svg\" alt=\"Open In Colab\"/></a>"
      ]
    },
    {
      "cell_type": "markdown",
      "metadata": {
        "id": "jFZB0kpvmRjz"
      },
      "source": [
        "# Amélioration de la recherche : l'algorithme de Boyer-Moore"
      ]
    },
    {
      "cell_type": "markdown",
      "metadata": {
        "id": "hTkY58D6CZcR"
      },
      "source": [
        "[Principe de l'algorithme et premier exemple](https://pixees.fr/informatiquelycee/n_site/nsi_term_algo_boyer.html)"
      ]
    },
    {
      "cell_type": "markdown",
      "metadata": {
        "id": "1XFHFhrgGvnY"
      },
      "source": [
        "             0            i    i+j             len(t)\n",
        "        t   |............| | | |c| | | .......| \n",
        "                        m| | | |x| | | \n",
        "                          0     j     len(m)"
      ]
    },
    {
      "cell_type": "markdown",
      "metadata": {
        "id": "qsluWjoiDqkl"
      },
      "source": [
        "* on recherche un motif `m` dans un texte `t`\n",
        "* on va comparer les caractères de `m` avec ceux de `t` avec deux boucles imbriquées\n",
        "   * cela signifie qu'on va tester si `m[j]==t[i+j]` \n",
        "   * avec  `j` indice du motif `m` donc `0<=j<len(m)`\n",
        "   * et  `i+j` indice du texte `t` donc `0<=i+j<len(t)`\n",
        "* on commence par tester le **dernier caractère** du motif, et on \"remonte\" vers le premier caractère du motif : `for j in range(len(m)-1,-1,-1)`\n",
        "   * si aucune différence n'existe, alors le motif apparaît dans le texte\n",
        "   * si au moins une différence existe, alors le motif n'apparaît **pas à cet endroit** du texte.\n",
        "   * on peut \"décaler\" le motif dans le texte pour démarrer une nouvelle recherche. \n",
        "   * par défaut, le décalage est `k=1`, mais ce décalage peut être plus grand dans certains cas \n",
        "   * on incrémente `i` avant le prochain \"tour de boucle\" :   `i = i+k`"
      ]
    },
    {
      "cell_type": "markdown",
      "metadata": {
        "id": "4K_RqYPzCelW"
      },
      "source": [
        "## Prétraitement du motif"
      ]
    },
    {
      "cell_type": "markdown",
      "metadata": {
        "id": "7OF-mvcWP8Zr"
      },
      "source": [
        "### Exemple"
      ]
    },
    {
      "cell_type": "markdown",
      "metadata": {
        "id": "gz6mICOsKa6O"
      },
      "source": [
        "    motif   : a b r a c a d a b r a\n",
        "    indices   0 1 2 3 4 5 6 7 8 9 10\n",
        "\n",
        "Tableau des \"indices précédents\" pour chaque valeur k et chaque caractère du motif\n",
        "\n",
        "| caractère|0 |1 |2 |3 |4 |5 |6 |7 |8 |9 |10|\n",
        "|:--------:|:-|:-|:-|:-|:-|:-|:-|:-|:-|:-|:-|\n",
        "|        a |  | 0| 0|0 | 3|3 |5 |5 |7 |7 |7 |  \n",
        "|        b |  |  | | | | | | | | | |\n",
        "|        r |  |  |  |2 |2 |2 |2 |2 |2 |2 |9 |\n",
        "|        c |  |  |  |  |  |4 |4 |4 |4 |4 |4 |\n",
        "|        d |  |  |  |  |  |  |  |7 |7 |7 |7 |\n"
      ]
    },
    {
      "cell_type": "markdown",
      "metadata": {
        "id": "5JzDxVdxP_W9"
      },
      "source": [
        "### Travail à faire"
      ]
    },
    {
      "cell_type": "markdown",
      "metadata": {
        "id": "2GNz2QiOKa0w"
      },
      "source": [
        "1. COMPLÉTER la  ligne incomplète du tableau ci-dessus\n",
        "2. Compléter le code de la cellule suivante pour définir la fonction `table_boyer_moore` qui implémente le tableau des indices \"de Boyer-Moore\" sous forme d'une liste de dictionnaires. \n",
        "3. Tester votre code avec les assertions données en dessous."
      ]
    },
    {
      "cell_type": "code",
      "metadata": {
        "id": "SXil2aFsmd0B"
      },
      "source": [
        "def table_boyer_moore(m):\n",
        "    \"\"\"construit la table des indices de Boyer-Moore dans une liste de dictionnaires\n",
        "    dico_list[j][c] est le plus grand indice du caractère c dans m[0:j] s'il existe\n",
        "    et n'est pas défini sinon\"\"\"\n",
        "    dico_list = [ {} for j in range(len(m))]\n",
        "\n",
        "    for j in range(len(m)):\n",
        "        for k in range(j):\n",
        "            c = m[k]\n",
        "            dico_list[j][c]= k  # ligne à compléter\n",
        "    return dico_list\n",
        "    "
      ],
      "execution_count": 2,
      "outputs": []
    },
    {
      "cell_type": "code",
      "metadata": {
        "colab": {
          "base_uri": "https://localhost:8080/"
        },
        "id": "iV0N9JiQQehW",
        "outputId": "7206e93e-4903-4933-dbcd-d961bacab5ee"
      },
      "source": [
        "tbm = table_boyer_moore('abracadabra')\n",
        "assert tbm[1]['a']==0\n",
        "assert tbm[4]['a']==3\n",
        "assert tbm[6]['a']==5\n",
        "assert tbm[8]['a']==7\n",
        "assert tbm[5]['b']==1\n",
        "assert tbm[9]['b']==8\n",
        "assert tbm[5]['c']==4\n",
        "assert tbm[7]['d']==6\n",
        "assert tbm[10]['a']==7\n",
        "assert 'a' not in tbm[0]\n",
        "assert 'b' not in tbm[1]\n",
        "assert 'r' not in tbm[2]\n",
        "assert 'c' not in tbm[4]\n",
        "assert 'd' not in tbm[6]\n",
        "print('test ok')"
      ],
      "execution_count": 3,
      "outputs": [
        {
          "output_type": "stream",
          "text": [
            "test ok\n"
          ],
          "name": "stdout"
        }
      ]
    },
    {
      "cell_type": "markdown",
      "metadata": {
        "id": "xMLEjoTBSirV"
      },
      "source": [
        "### Calcul du décalage"
      ]
    },
    {
      "cell_type": "markdown",
      "metadata": {
        "id": "NHZ50FbDS3v0"
      },
      "source": [
        "\n",
        "*  Dans le cas où le texte contient  le caractère `'b'`  en face de `m[5]`,  vérifier que le **décalage** à opérer vaut **4**. \n",
        "*  Donner la valeur du décalage à opérer lorsque le texte contient :\n",
        "   1.  `'r'` en face de `m[5]`  : 3\n",
        "   2.  `'c'` en face de `m[5]`  : 1\n",
        "   3.  `'d'` en face de `m[5]`  : 6"
      ]
    },
    {
      "cell_type": "markdown",
      "metadata": {
        "id": "7hElkfsdSro-"
      },
      "source": [
        "    texte   ....................b......................\n",
        "                                *\n",
        "            motif   : a b r a c a d a b r a\n",
        "            indices   0 1 2 3 4 5 6 7 8 9 10\n",
        "\n",
        "Tableau des \"indices précédents\" pour chaque valeur k et chaque caractère du motif\n",
        "\n",
        "| caractère|0 |1 |2 |3 |4 |5 |6 |7 |8 |9 |10|\n",
        "|:--------:|:-|:-|:-|:-|:-|:-|:-|:-|:-|:-|:-|\n",
        "|        a |  | 0| 0|0 | 3|3 |5 |5 |7 |7 |7 |  \n",
        "|        b |  |  |1 |1 |1 |1 |1 |1 |1 |8 |8 |\n",
        "|        r |  |  |  |2 |2 |2 |2 |2 |2 |2 |9 |\n",
        "|        c |  |  |  |  |  |4 |4 |4 |4 |4 |4 |\n",
        "|        d |  |  |  |  |  |  |  |7 |7 |7 |7 |\n"
      ]
    },
    {
      "cell_type": "code",
      "metadata": {
        "id": "Q5Grk0XCV-GE"
      },
      "source": [
        "def decalage(table,j,c):\n",
        "    \"\"\"Renvoie le décalage à effectuer lorsque le caractère c \n",
        "    est différent du caractère d'indice j dans le motif recherché.\n",
        "    Le décalage est obtenu avec la table des indices de Boyer-Moore\"\"\"\n",
        "    if c in table[j]:\n",
        "        return j - table[j][c]\n",
        "    else :\n",
        "        return j+1"
      ],
      "execution_count": 4,
      "outputs": []
    },
    {
      "cell_type": "markdown",
      "metadata": {
        "id": "3hZ5U3GvXt4J"
      },
      "source": [
        "# Fonction recherche"
      ]
    },
    {
      "cell_type": "code",
      "metadata": {
        "id": "i-2aKoDhXw9E"
      },
      "source": [
        "def recherche(m, t):\n",
        "    \"\"\"affiche tous les indices des occurrences du motif m dans le texte t\n",
        "    avec l'algorithme de Boyer-Moore\"\"\"\n",
        "    table = table_boyer_moore(m)\n",
        "    i = 0 #premier indice du texte t\n",
        "    while i <= len(t)-len(m):\n",
        "        k = 0 #le décalage est initialisé à 0\n",
        "        for j in range(len(m)-1,-1,-1): #parcours depuis la fin du motif\n",
        "            if t[i+j] != m[j]:\n",
        "                k = decalage(table, j, t[i+j])\n",
        "                break\n",
        "        # fin de la boucle for\n",
        "        if k==0 :\n",
        "            print('occurrence à la position',i)\n",
        "            k = 1\n",
        "        i = i+k"
      ],
      "execution_count": null,
      "outputs": []
    },
    {
      "cell_type": "markdown",
      "metadata": {
        "id": "tRopLpy1nmtK"
      },
      "source": [
        "## différents cas à tester\n"
      ]
    },
    {
      "cell_type": "markdown",
      "metadata": {
        "id": "wG6TkqmQpQ1V"
      },
      "source": [
        "0. le motif n'apparaît aucune fois"
      ]
    },
    {
      "cell_type": "code",
      "metadata": {
        "id": "fkg7mkB3pVuS"
      },
      "source": [
        "recherche('BBB', 'ATGTCACGTATCGACGTAG')"
      ],
      "execution_count": null,
      "outputs": []
    },
    {
      "cell_type": "markdown",
      "metadata": {
        "id": "qA8PVyifpPuS"
      },
      "source": [
        "1. le motif apparaît une fois"
      ]
    },
    {
      "cell_type": "code",
      "metadata": {
        "id": "6s7Zp_O9mZ2k",
        "colab": {
          "base_uri": "https://localhost:8080/"
        },
        "outputId": "113ea833-f48e-4c1a-81d7-fded6ce2a16c"
      },
      "source": [
        "recherche('ATCG', 'ATGTCACGTATCGACGTAG')"
      ],
      "execution_count": null,
      "outputs": [
        {
          "output_type": "stream",
          "text": [
            "occurrence à la position 9\n"
          ],
          "name": "stdout"
        }
      ]
    },
    {
      "cell_type": "markdown",
      "metadata": {
        "id": "hsyCi992nwRH"
      },
      "source": [
        "2. Le motif apparaît plusieurs fois"
      ]
    },
    {
      "cell_type": "code",
      "metadata": {
        "id": "kelhc-vtnkY5",
        "colab": {
          "base_uri": "https://localhost:8080/"
        },
        "outputId": "246f40dd-c0e7-4b56-f863-e5df05e34e51"
      },
      "source": [
        "recherche('ATCG', 'ATGTCACGTATCGACGTATCGA')"
      ],
      "execution_count": null,
      "outputs": [
        {
          "output_type": "stream",
          "text": [
            "occurrence à la position 9\n",
            "occurrence à la position 17\n"
          ],
          "name": "stdout"
        }
      ]
    },
    {
      "cell_type": "markdown",
      "metadata": {
        "id": "Vu2yTcR_pCRx"
      },
      "source": [
        "3. Le motif apparaît en DÉBUT de texte"
      ]
    },
    {
      "cell_type": "code",
      "metadata": {
        "id": "-Udi-ESHphPr",
        "colab": {
          "base_uri": "https://localhost:8080/"
        },
        "outputId": "fb7be7a4-76d3-44f4-fdd8-4aa3d898a633"
      },
      "source": [
        "recherche('ATGT', 'ATGTCACGTATCGACGTATCGAG')"
      ],
      "execution_count": null,
      "outputs": [
        {
          "output_type": "stream",
          "text": [
            "occurrence à la position 0\n"
          ],
          "name": "stdout"
        }
      ]
    },
    {
      "cell_type": "markdown",
      "metadata": {
        "id": "m_hF6NOHpJD0"
      },
      "source": [
        "4. Le motif apparaît en FIN de texte\n",
        "**PROBLÈME** => corrigé avec `while i <= len(t)-len(m)`"
      ]
    },
    {
      "cell_type": "code",
      "metadata": {
        "id": "kMqnmCRopltY",
        "colab": {
          "base_uri": "https://localhost:8080/"
        },
        "outputId": "754e09a9-0953-4f86-d82c-83afb92025a3"
      },
      "source": [
        "recherche('TCGAG', 'ATGTCACGTATCGACGTATCGAG')"
      ],
      "execution_count": null,
      "outputs": [
        {
          "output_type": "stream",
          "text": [
            "occurrence à la position 18\n"
          ],
          "name": "stdout"
        }
      ]
    },
    {
      "cell_type": "markdown",
      "metadata": {
        "id": "m8K7XtuiZUTn"
      },
      "source": [
        "#### Travail à faire : tester cette fonction\n",
        "Attention ... il y a une \"petite\" erreur à corriger"
      ]
    },
    {
      "cell_type": "markdown",
      "metadata": {
        "id": "aDSOlnd8swJI"
      },
      "source": [
        "# Version 2 de la fonction recherche"
      ]
    },
    {
      "cell_type": "code",
      "metadata": {
        "id": "3m4PclZgsu1c"
      },
      "source": [
        "def recherche(m, t):\n",
        "    \"\"\"RENVOIE une liste avec tous les indices des occurrences \n",
        "    du motif m dans le texte t avec l'algorithme de Boyer-Moore\"\"\"\n",
        "    resu = [] #résultat initialement vide\n",
        "    table = table_boyer_moore(m)\n",
        "    i = 0 #premier indice du texte t\n",
        "    while i <= len(t)-len(m):\n",
        "        k = 0 #le décalage est initialisé à 0\n",
        "        for j in range(len(m)-1,-1,-1): #parcours depuis la fin du motif\n",
        "            if t[i+j] != m[j]:\n",
        "                k = decalage(table, j, t[i+j])\n",
        "                break # met fin à la boucle FOR\n",
        "        # fin de la boucle for\n",
        "        if k==0 :\n",
        "            resu.append(i)\n",
        "            k = 1\n",
        "        i = i+k\n",
        "    return resu"
      ],
      "execution_count": 1,
      "outputs": []
    },
    {
      "cell_type": "code",
      "metadata": {
        "id": "P71gldQiu3yn",
        "outputId": "a9a0312f-c925-4dc7-ab5d-b92af06115b6",
        "colab": {
          "base_uri": "https://localhost:8080/"
        }
      },
      "source": [
        "assert recherche('BBB', 'ATGTCACGTATCGACGTAG')==[]\n",
        "assert recherche('ATGT', 'ATGTCACGTATCGACGTAG')==[0]\n",
        "assert recherche('CGTAG', 'ATGTCACGTATCGACGTAG')==[14]\n",
        "assert recherche('TCA', 'ATGTCACGTATCTCAGACGTTCAAG')==[3,12,20]\n",
        "assert recherche ('AAAAA', 'AAA')==[]\n",
        "print('test OK')\n"
      ],
      "execution_count": 10,
      "outputs": [
        {
          "output_type": "stream",
          "text": [
            "test OK\n"
          ],
          "name": "stdout"
        }
      ]
    }
  ]
}