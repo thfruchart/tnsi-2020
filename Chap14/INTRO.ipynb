{
  "nbformat": 4,
  "nbformat_minor": 0,
  "metadata": {
    "colab": {
      "name": "Chap14_INTRO.ipynb",
      "provenance": [],
      "collapsed_sections": [],
      "authorship_tag": "ABX9TyNNCj0iJfwUMj7Hw8vVtJJe",
      "include_colab_link": true
    },
    "kernelspec": {
      "name": "python3",
      "display_name": "Python 3"
    }
  },
  "cells": [
    {
      "cell_type": "markdown",
      "metadata": {
        "id": "view-in-github",
        "colab_type": "text"
      },
      "source": [
        "<a href=\"https://colab.research.google.com/github/thfruchart/tnsi-2020/blob/master/Chap14/INTRO.ipynb\" target=\"_parent\"><img src=\"https://colab.research.google.com/assets/colab-badge.svg\" alt=\"Open In Colab\"/></a>"
      ]
    },
    {
      "cell_type": "markdown",
      "metadata": {
        "id": "UsKYyU4ovjqr"
      },
      "source": [
        "# Introduction"
      ]
    },
    {
      "cell_type": "code",
      "metadata": {
        "id": "qWpH_zdavK4v"
      },
      "source": [
        "def recherche(gene, seq_adn):\n",
        "    n = len(seq_adn)\n",
        "    g = len(gene)\n",
        "    i = 0\n",
        "    trouve = False\n",
        "    while i < n-g+1 and trouve == False :\n",
        "        j = 0\n",
        "        while j < g and gene[j] == seq_adn[i+j]:\n",
        "            j = j+1\n",
        "        if j == g:\n",
        "            trouve = True\n",
        "        i = i+1\n",
        "    return trouve"
      ],
      "execution_count": null,
      "outputs": []
    },
    {
      "cell_type": "markdown",
      "metadata": {
        "id": "vdF0whgVkXCr"
      },
      "source": [
        "#### [Observer l'exécution du code sur PythonTutor](http://www.pythontutor.com/visualize.html#code=def%20recherche%28gene,%20seq_adn%29%3A%0A%20%20%20%20n%20%3D%20len%28seq_adn%29%0A%20%20%20%20g%20%3D%20len%28gene%29%0A%20%20%20%20i%20%3D%200%0A%20%20%20%20trouve%20%3D%20False%0A%20%20%20%20while%20i%20%3C%20n-g%2B1%20and%20trouve%20%3D%3D%20False%20%3A%0A%20%20%20%20%20%20%20%20j%20%3D%200%0A%20%20%20%20%20%20%20%20while%20j%20%3C%20g%20and%20gene%5Bj%5D%20%3D%3D%20seq_adn%5Bi%2Bj%5D%3A%0A%20%20%20%20%20%20%20%20%20%20%20%20j%20%3D%20j%2B1%0A%20%20%20%20%20%20%20%20if%20j%20%3D%3D%20g%3A%0A%20%20%20%20%20%20%20%20%20%20%20%20trouve%20%3D%20True%0A%20%20%20%20%20%20%20%20i%20%3D%20i%2B1%0A%20%20%20%20return%20trouve%0A%0Aprint%28recherche%28%22AGTC%22,%20%22GTAACAGTCTCGAAGTCGA%22%29%29&cumulative=false&curInstr=0&heapPrimitives=nevernest&mode=display&origin=opt-frontend.js&py=3&rawInputLstJSON=%5B%5D&textReferences=false) et expliquer le rôle de la fonction recherche."
      ]
    },
    {
      "cell_type": "markdown",
      "metadata": {
        "id": "P2UNowjLvlcL"
      },
      "source": [
        "La fonction recherche prend en paramètres deux chaines de caractères `gene` et `seq_adn` et renvoie `True` si on retrouve `gene` dans `seq_adn` et `False` sinon.\n",
        "\n",
        "\n",
        "\n",
        "```\n",
        ">>> recherche(\"AATC\", \"GTAACAGTCTCGAAGTCGA\")\n",
        "True\n",
        ">>> recherche(\"AGTC\", \"GTACAAATCTTGCC\")\n",
        "False\n",
        "```\n",
        "\n",
        "\n"
      ]
    },
    {
      "cell_type": "markdown",
      "metadata": {
        "id": "1XFHFhrgGvnY"
      },
      "source": [
        "             0            i    i+j             n\n",
        "     seq_adn|............| | | |c| | | .......| \n",
        "                     gene| | | |x| | | \n",
        "                          0     j     g"
      ]
    },
    {
      "cell_type": "markdown",
      "metadata": {
        "id": "SIh_WftkkvBT"
      },
      "source": [
        "## Estimation de la complexité de cette fonction, dans le pire des cas. \n",
        "En observant l'algorithme de la fonction ci-dessus :\n"
      ]
    },
    {
      "cell_type": "markdown",
      "metadata": {
        "id": "eZiRPvGUlgNG"
      },
      "source": [
        "#### estimer le nombre de fois où est exécutée la boucle `while i < n-g+1 and trouve == False`, dans le pire des cas"
      ]
    },
    {
      "cell_type": "markdown",
      "metadata": {
        "id": "NVFZYH3mlrkD"
      },
      "source": [
        "réponse : "
      ]
    },
    {
      "cell_type": "markdown",
      "metadata": {
        "id": "Bkxw4NvzltDT"
      },
      "source": [
        "#### estimer le nombre de fois où est exécutée la boucle `while j < g and gene[j] == seq_adn[i+j]:`, dans le pire des cas"
      ]
    },
    {
      "cell_type": "markdown",
      "metadata": {
        "id": "CyLym8y6lwpL"
      },
      "source": [
        "réponse : "
      ]
    },
    {
      "cell_type": "markdown",
      "metadata": {
        "id": "QQMUUcytlyMT"
      },
      "source": [
        "#### en déduire une estimation de la complexité en temps de cette fonction `recherche(gene, seq_adn)`, dans le pire des cas"
      ]
    },
    {
      "cell_type": "markdown",
      "metadata": {
        "id": "k-FncjgImPSr"
      },
      "source": [
        "réponse : "
      ]
    }
  ]
}