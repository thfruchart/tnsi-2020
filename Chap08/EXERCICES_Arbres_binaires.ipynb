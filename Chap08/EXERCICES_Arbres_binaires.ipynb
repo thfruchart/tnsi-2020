{
  "nbformat": 4,
  "nbformat_minor": 0,
  "metadata": {
    "colab": {
      "name": "Chap08_EXERCICES_Arbres_binaires.ipynb",
      "provenance": [],
      "collapsed_sections": [
        "sQG4TQcAslQT"
      ],
      "authorship_tag": "ABX9TyPr0/0ZDpO6pfWQC8ZmHYmk",
      "include_colab_link": true
    },
    "kernelspec": {
      "name": "python3",
      "display_name": "Python 3"
    }
  },
  "cells": [
    {
      "cell_type": "markdown",
      "metadata": {
        "id": "view-in-github",
        "colab_type": "text"
      },
      "source": [
        "<a href=\"https://colab.research.google.com/github/thfruchart/tnsi-2020/blob/master/Chap08/EXERCICES_Arbres_binaires.ipynb\" target=\"_parent\"><img src=\"https://colab.research.google.com/assets/colab-badge.svg\" alt=\"Open In Colab\"/></a>"
      ]
    },
    {
      "cell_type": "markdown",
      "metadata": {
        "id": "Vb2rlvmZoVyv"
      },
      "source": [
        "## Exercice 1"
      ]
    },
    {
      "cell_type": "markdown",
      "metadata": {
        "id": "NtPW-zvuoX9Q"
      },
      "source": [
        "Ecrire une fonction `affiche(a)` qui imprime un arbre binaire a sous la forme suivante :\n",
        "* pour un arbre vide, on n'imprime rien\n",
        "* pour un noeud, on imprime :\n",
        "  * un parenthèse ouvrante `(`\n",
        "  * le sous-arbre gauche (récursivement)\n",
        "  * la valeur du noeud\n",
        "  * le sous-arbre droit du noeud\n",
        "  * une parenthèse fermante `)`\n",
        "\n",
        "Par **exemple**, un arbre binaire de taille 4 tel que :\n",
        "* la racine R possède deux fils : \n",
        "  * D (à droite)\n",
        "  * G (à gauche)   qui possède lui même \n",
        "    * un fils droit F \n",
        "\n",
        "sera affiché : \n",
        "`((G(F))R(D))`"
      ]
    },
    {
      "cell_type": "code",
      "metadata": {
        "id": "kfuwruR_qWqe",
        "outputId": "504ce0a7-de41-4b52-9e55-2f71c5d0e915",
        "colab": {
          "base_uri": "https://localhost:8080/",
          "height": 35
        }
      },
      "source": [
        "class Noeud:\n",
        "    def __init__(self, g, v, d):\n",
        "        self.gauche = g\n",
        "        self.valeur = v        \n",
        "        self.droit  = d\n",
        "\n",
        "arb = Noeud(Noeud( None,'G' ,Noeud(None,'F', None) ) ,\"R\" , Noeud( None,'D' ,None ) )\n",
        "\n",
        "def affiche(a):\n",
        "    # cas de base\n",
        "    if a is None : \n",
        "        return ''\n",
        "    # appel récursif\n",
        "    else : \n",
        "        return '('+ affiche(a.gauche)+ str(a.valeur)+ affiche(a.droit)+')'\n",
        "\n",
        "affiche(arb)"
      ],
      "execution_count": 3,
      "outputs": [
        {
          "output_type": "execute_result",
          "data": {
            "application/vnd.google.colaboratory.intrinsic+json": {
              "type": "string"
            },
            "text/plain": [
              "'((G(F))R(D))'"
            ]
          },
          "metadata": {
            "tags": []
          },
          "execution_count": 3
        }
      ]
    },
    {
      "cell_type": "code",
      "metadata": {
        "id": "tTHGH5rUaq5O",
        "outputId": "353e972e-216d-4835-dab8-e3dd797392ab",
        "colab": {
          "base_uri": "https://localhost:8080/",
          "height": 35
        }
      },
      "source": [
        "# affiche comme méthode de la classe Noeud\n",
        "class Noeud:\n",
        "    def __init__(self, g, v, d):\n",
        "        self.gauche = g\n",
        "        self.valeur = v        \n",
        "        self.droit  = d\n",
        "    def affiche(self):\n",
        "        # cas de base\n",
        "        if self is None : \n",
        "            return ''\n",
        "        # appel récursif\n",
        "        else : \n",
        "            return '('+ affiche(self.gauche)+ str(self.valeur)+ affiche(self.droit)+')'\n",
        "\n",
        "arb = Noeud(Noeud( None,'G' ,Noeud(None,'F', None) ) ,\"R\" , Noeud( None,'D' ,None ) )\n",
        "\n",
        "\n",
        "arb.affiche()"
      ],
      "execution_count": 4,
      "outputs": [
        {
          "output_type": "execute_result",
          "data": {
            "application/vnd.google.colaboratory.intrinsic+json": {
              "type": "string"
            },
            "text/plain": [
              "'((G(F))R(D))'"
            ]
          },
          "metadata": {
            "tags": []
          },
          "execution_count": 4
        }
      ]
    },
    {
      "cell_type": "markdown",
      "metadata": {
        "id": "xY8ucGJFq36r"
      },
      "source": [
        "# Exercice 2\n",
        "\n",
        "1. Dessiner l'arbre binaire dont l'affichage avec la fonction de l'exercice précédent est : `(1((2)3))`\n",
        "2. Vérifier votre réponse en saisissant cet arbre dans un variable, et en l'affichant avec la fonction de l'exercice 1. \n"
      ]
    },
    {
      "cell_type": "markdown",
      "metadata": {
        "id": "7CpRegOesHJX"
      },
      "source": [
        "# Exercice 3"
      ]
    },
    {
      "cell_type": "markdown",
      "metadata": {
        "id": "kdkVjgDysJQD"
      },
      "source": [
        "Ecrire une fonction identiques(a1, a2) qui permet de tester si les deux arbres a1 et a2 sont identiques. "
      ]
    },
    {
      "cell_type": "markdown",
      "metadata": {
        "id": "sQG4TQcAslQT"
      },
      "source": [
        "# Exercice 4"
      ]
    },
    {
      "cell_type": "markdown",
      "metadata": {
        "id": "qjdAoJKasm-F"
      },
      "source": [
        "Ecrire une fonction `miroir(a)` qui renvoie un nouvel arbre binaire, symétrique de `a` au sens où les sous-arbres gauche et droit de `a` sont inversés dans `miroir(a)`."
      ]
    },
    {
      "cell_type": "markdown",
      "metadata": {
        "id": "5rShG3k3tNRn"
      },
      "source": [
        "#### pour tester le code, on pourra utiliser l'affichage suivant :"
      ]
    },
    {
      "cell_type": "code",
      "metadata": {
        "id": "KWIFYAa1tLsq"
      },
      "source": [
        "def parcours_infixe_indent(arbre,n=0):\n",
        "    '''affiche le contenu d'un arbre :\n",
        "    - d'abord le sous-arbre droit, \n",
        "    - puis la racine, \n",
        "    - puis le sous-arbre gauche'''\n",
        "    if arbre is not None:\n",
        "        parcours_infixe_indent(arbre.droit,n+1)\n",
        "        print('    '*n+'-', arbre.valeur)\n",
        "        parcours_infixe_indent(arbre.gauche,n+1)"
      ],
      "execution_count": null,
      "outputs": []
    }
  ]
}