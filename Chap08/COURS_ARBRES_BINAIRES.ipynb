{
  "nbformat": 4,
  "nbformat_minor": 0,
  "metadata": {
    "colab": {
      "name": "Copie de Chap08_COURS_ARBRES_BINAIRES.ipynb",
      "provenance": [],
      "collapsed_sections": [
        "jQFSLPc7k67K",
        "mwuaRiHKkusV"
      ],
      "authorship_tag": "ABX9TyP4BgmKVa1ZyJotkhMeZcoc",
      "include_colab_link": true
    },
    "kernelspec": {
      "name": "python3",
      "display_name": "Python 3"
    }
  },
  "cells": [
    {
      "cell_type": "markdown",
      "metadata": {
        "id": "view-in-github",
        "colab_type": "text"
      },
      "source": [
        "<a href=\"https://colab.research.google.com/github/thfruchart/tnsi-2020/blob/master/Chap08/COURS_ARBRES_BINAIRES.ipynb\" target=\"_parent\"><img src=\"https://colab.research.google.com/assets/colab-badge.svg\" alt=\"Open In Colab\"/></a>"
      ]
    },
    {
      "cell_type": "markdown",
      "metadata": {
        "id": "inglW8Sj1H5B"
      },
      "source": [
        "# Arborescence, arbre binaire"
      ]
    },
    {
      "cell_type": "markdown",
      "metadata": {
        "id": "t3tO4iz91Ox9"
      },
      "source": [
        "Lire le document : [https://pixees.fr/informatiquelycee/n_site/nsi_term_structDo_arbre.html](https://pixees.fr/informatiquelycee/n_site/nsi_term_structDo_arbre.html)"
      ]
    },
    {
      "cell_type": "markdown",
      "metadata": {
        "id": "FauHAYhW1rOW"
      },
      "source": [
        "###Activité 1"
      ]
    },
    {
      "cell_type": "markdown",
      "metadata": {
        "id": "3Z0YfJb01t9l"
      },
      "source": [
        "Représenter graphiquement\n",
        "1. tous les arbres binaires comportant 3 noeuds\n",
        "2. tous les arbres binaires comportant 4 noeuds\n",
        "3. un arbre binaire de hauteur 3, comportant 7 noeuds\n",
        "4. un arbre binaire de hauteur 4, comportant 20 noeuds... \n",
        "\n",
        "ATTENTION : un arbre de hauteur 4 compte au maximum 15 noeuds ! Donc la consigne 4 est impossible"
      ]
    },
    {
      "cell_type": "markdown",
      "metadata": {
        "id": "EXCQPj8x3ZGw"
      },
      "source": [
        "# Représentation d'un arbre binaire en Python"
      ]
    },
    {
      "cell_type": "markdown",
      "metadata": {
        "id": "eBNI8hRk3dT5"
      },
      "source": [
        "## avec des tuples"
      ]
    },
    {
      "cell_type": "markdown",
      "metadata": {
        "id": "9LbS8oBF3Qhd"
      },
      "source": [
        "On peut convenir de représenter un arbre binaire par un tuple \n",
        "* de longueur 0 pour un arbre vide\n",
        "* de longueur 3  sinon : \n",
        "`( sous_arbre_gauche, valeur, sous_arbre_droit)` "
      ]
    },
    {
      "cell_type": "code",
      "metadata": {
        "id": "Z0z08vLS1BU4",
        "colab": {
          "base_uri": "https://localhost:8080/"
        },
        "outputId": "fd5b11fb-9ee4-4f83-d8b1-ba9d3c06db7e"
      },
      "source": [
        "# arbre vide (hauteur 0)\n",
        "() \n",
        "\n",
        "# arbre réduit à un noeud racine (hauteur 1)\n",
        "( (), \"racine\", () ) \n",
        "\n",
        "# arbre de hauteur 2 où la racine possède un fils gauche A et un fils droit B\n",
        "( ((),\"A\",()), \"racine\", (((),\"B\",())) )  "
      ],
      "execution_count": null,
      "outputs": [
        {
          "output_type": "execute_result",
          "data": {
            "text/plain": [
              "(((), 'A', ()), 'racine', ((), 'B', ()))"
            ]
          },
          "metadata": {
            "tags": []
          },
          "execution_count": 1
        }
      ]
    },
    {
      "cell_type": "markdown",
      "metadata": {
        "id": "c9gQmtcy4aPD"
      },
      "source": [
        "## programmation orientée objet"
      ]
    },
    {
      "cell_type": "markdown",
      "metadata": {
        "id": "WoS1alpm4dNq"
      },
      "source": [
        "Comme pour les listes chaînées, les files et les piles, on peut définir un arbre comme une structure récursive : \n",
        "* soit un arbre vide, qui sera représenté par `None`\n",
        "* soit un noeud : `Noeud()` qui possède une valeur, et deux attributs gauche et droit, qui seront eux-mêmes des arbres  : \n",
        "  * soit vide : `None`\n",
        "  * soit un nouveau noeud :  `Noeud()`"
      ]
    },
    {
      "cell_type": "code",
      "metadata": {
        "id": "V4rkE_4f4-Wm"
      },
      "source": [
        "class Noeud:\n",
        "    def __init__(self, g, v, d):\n",
        "        self.gauche = g\n",
        "        self.valeur = v        \n",
        "        self.droit  = d"
      ],
      "execution_count": null,
      "outputs": []
    },
    {
      "cell_type": "markdown",
      "metadata": {
        "id": "yKV6l1OH6LUe"
      },
      "source": [
        "Un arbre dont la racine possède un fils gauche A et un fils droit B peut alors s'écrire :"
      ]
    },
    {
      "cell_type": "code",
      "metadata": {
        "id": "5i5959iE6SJN"
      },
      "source": [
        "arbre = Noeud( Noeud(None,'A',None), 'racine', Noeud(None,'B',None) )"
      ],
      "execution_count": null,
      "outputs": []
    },
    {
      "cell_type": "markdown",
      "metadata": {
        "id": "2vEGpdFk7YXi"
      },
      "source": [
        "## Activité 2"
      ]
    },
    {
      "cell_type": "markdown",
      "metadata": {
        "id": "F43haUPv7aO7"
      },
      "source": [
        "Représenter graphiquement les arbres obtenus avec les codes suivants :"
      ]
    },
    {
      "cell_type": "code",
      "metadata": {
        "id": "muit29397f00"
      },
      "source": [
        "arbre1 = Noeud( Noeud(None,'A',None), 'racine', Noeud(None,'B',None) )\n",
        "arbre1.gauche.droit = Noeud(None,'C',None)"
      ],
      "execution_count": null,
      "outputs": []
    },
    {
      "cell_type": "markdown",
      "metadata": {
        "id": "HMTSxhg08ibF"
      },
      "source": [
        "[visualiser sur PythonTutor](http://www.pythontutor.com/visualize.html#code=class%20Noeud%3A%0A%20%20%20%20def%20__init__%28self,%20g,%20v,%20d%29%3A%0A%20%20%20%20%20%20%20%20self.gauche%20%3D%20g%0A%20%20%20%20%20%20%20%20self.valeur%20%3D%20v%20%20%20%20%20%20%20%20%0A%20%20%20%20%20%20%20%20self.droit%20%20%3D%20d%0A%0Aarbre1%20%3D%20Noeud%28%20Noeud%28None,'A',None%29,%20'racine',%20Noeud%28None,'B',None%29%20%29%0Aarbre1.gauche.droit%20%3D%20Noeud%28None,'C',None%29&cumulative=false&curInstr=23&heapPrimitives=nevernest&mode=display&origin=opt-frontend.js&py=3&rawInputLstJSON=%5B%5D&textReferences=false)"
      ]
    },
    {
      "cell_type": "code",
      "metadata": {
        "id": "XvNCUUNa7qQa"
      },
      "source": [
        "arbre2 = Noeud( Noeud(None,'A',None), 'racine', Noeud(None,'B',None) )\n",
        "arbre2.droit.gauche = Noeud(None,'C', Noeud(None,'D',None))"
      ],
      "execution_count": null,
      "outputs": []
    },
    {
      "cell_type": "markdown",
      "metadata": {
        "id": "lgg_3n3x8p1_"
      },
      "source": [
        "[visualiser sur PythonTutor](http://www.pythontutor.com/visualize.html#code=class%20Noeud%3A%0A%20%20%20%20def%20__init__%28self,%20g,%20v,%20d%29%3A%0A%20%20%20%20%20%20%20%20self.gauche%20%3D%20g%0A%20%20%20%20%20%20%20%20self.valeur%20%3D%20v%20%20%20%20%20%20%20%20%0A%20%20%20%20%20%20%20%20self.droit%20%20%3D%20d%0A%0Aarbre2%20%3D%20Noeud%28%20Noeud%28None,'A',None%29,%20'racine',%20Noeud%28None,'B',None%29%20%29%0Aarbre2.droit.gauche%20%3D%20Noeud%28None,'C',%20Noeud%28None,'D',None%29%29&cumulative=false&curInstr=28&heapPrimitives=nevernest&mode=display&origin=opt-frontend.js&py=3&rawInputLstJSON=%5B%5D&textReferences=false)"
      ]
    },
    {
      "cell_type": "markdown",
      "metadata": {
        "id": "uTjkQ5Ra87v4"
      },
      "source": [
        "# Taille d'un arbre binaire"
      ]
    },
    {
      "cell_type": "markdown",
      "metadata": {
        "id": "wlR2aA239FOo"
      },
      "source": [
        "La taille d'un arbre est le nombre de noeuds qu'il contient. \n",
        "\n",
        "On peut programmer simplement le calcul de la taille d'un arbre de manière récursive\n",
        "* la taille d'un arbre vide `None`  vaut 0\n",
        "* la taille d'un arbre non vide vaut : \n",
        "  * 1 , pour le noeud racine \n",
        "  * plus la taille du sous-arbre gauche de ce noeud racine\n",
        "  * plus la taille du sous-arbre droit de ce même noeud racine"
      ]
    },
    {
      "cell_type": "code",
      "metadata": {
        "id": "34idc1s3-xkj"
      },
      "source": [
        "def taille(arbre):\n",
        "    if arbre is None:\n",
        "        return 0\n",
        "    else:\n",
        "        return 1 + taille(arbre.gauche) + taille(arbre.droit)"
      ],
      "execution_count": null,
      "outputs": []
    },
    {
      "cell_type": "code",
      "metadata": {
        "id": "QWZiJJ6i_Efx",
        "colab": {
          "base_uri": "https://localhost:8080/"
        },
        "outputId": "e80c2813-9916-454e-8329-ec29da8b756d"
      },
      "source": [
        "taille(arbre1)"
      ],
      "execution_count": null,
      "outputs": [
        {
          "output_type": "execute_result",
          "data": {
            "text/plain": [
              "4"
            ]
          },
          "metadata": {
            "tags": []
          },
          "execution_count": 7
        }
      ]
    },
    {
      "cell_type": "code",
      "metadata": {
        "id": "EdoTWksL_J56",
        "colab": {
          "base_uri": "https://localhost:8080/"
        },
        "outputId": "86ed5ea5-5689-4690-aaae-5991e3ee77b2"
      },
      "source": [
        "taille(arbre2)"
      ],
      "execution_count": null,
      "outputs": [
        {
          "output_type": "execute_result",
          "data": {
            "text/plain": [
              "5"
            ]
          },
          "metadata": {
            "tags": []
          },
          "execution_count": 8
        }
      ]
    },
    {
      "cell_type": "markdown",
      "metadata": {
        "id": "kBJdc9xD_PeS"
      },
      "source": [
        "# Hauteur d'un arbre binaire"
      ]
    },
    {
      "cell_type": "markdown",
      "metadata": {
        "id": "RrQWqeAP_SAq"
      },
      "source": [
        "La hauteur d'un arbre est le plus grand nombre de noeuds rencontrés en descendant de la racine jusqu'à une feuille (ou à un sous-arbre vide).\n",
        "\n",
        "Cette notion est simple à définir de manière récursive : \n",
        "* la hauteur d'un arbre vide vaut 0,\n",
        "* la hauteur d'un arbre non vide vaut :\n",
        "  * 1 (pour la racine)\n",
        "  * plus la plus grande hauteur des sous-arbres gauche et droit\n",
        "  "
      ]
    },
    {
      "cell_type": "code",
      "metadata": {
        "id": "zDFfVpRx_OwL"
      },
      "source": [
        "def hauteur(arbre):\n",
        "    if arbre is None : \n",
        "        return 0\n",
        "    else : return 1 + max(hauteur(arbre.gauche), hauteur(arbre.droit))"
      ],
      "execution_count": null,
      "outputs": []
    },
    {
      "cell_type": "code",
      "metadata": {
        "id": "8aha-tkbAJc_",
        "colab": {
          "base_uri": "https://localhost:8080/"
        },
        "outputId": "9f4a3ce8-b52e-4822-973b-f0c71da4d00c"
      },
      "source": [
        "hauteur(arbre1)"
      ],
      "execution_count": null,
      "outputs": [
        {
          "output_type": "execute_result",
          "data": {
            "text/plain": [
              "3"
            ]
          },
          "metadata": {
            "tags": []
          },
          "execution_count": 10
        }
      ]
    },
    {
      "cell_type": "code",
      "metadata": {
        "id": "lVTikgqEAL1g",
        "colab": {
          "base_uri": "https://localhost:8080/"
        },
        "outputId": "7bc1c76b-bf31-4695-b732-7c636c1a9527"
      },
      "source": [
        "hauteur(arbre2)"
      ],
      "execution_count": null,
      "outputs": [
        {
          "output_type": "execute_result",
          "data": {
            "text/plain": [
              "4"
            ]
          },
          "metadata": {
            "tags": []
          },
          "execution_count": 11
        }
      ]
    },
    {
      "cell_type": "markdown",
      "metadata": {
        "id": "KDWZRqHFH58Q"
      },
      "source": [
        "**Remarque** : la fonction taille et la fonction hauteur explorent tous les noeuds de l'arbre. \n",
        "\n",
        "Leur complexité est linéaire en fonction du nombre `n` de noeuds de l'arbre: notation **O(`n`)**."
      ]
    },
    {
      "cell_type": "markdown",
      "metadata": {
        "id": "E9d_k81WEWG3"
      },
      "source": [
        "# Affichage des noeuds d'un arbre"
      ]
    },
    {
      "cell_type": "markdown",
      "metadata": {
        "id": "9WCAFE649RHt"
      },
      "source": [
        "## Parcours \"en profondeur\""
      ]
    },
    {
      "cell_type": "markdown",
      "metadata": {
        "id": "KWnF0_4MlGqP"
      },
      "source": [
        "### Parcours infixe"
      ]
    },
    {
      "cell_type": "code",
      "metadata": {
        "id": "O5JXPMnQEVsK"
      },
      "source": [
        "def parcours_infixe(arbre):\n",
        "    '''affiche le contenu d'un arbre :\n",
        "    - d'abord le sous-arbre gauche, \n",
        "    - puis la racine, \n",
        "    - puis le sous-arbre droit'''\n",
        "    if arbre is not None:\n",
        "        parcours_infixe(arbre.gauche)\n",
        "        print(arbre.valeur)\n",
        "        parcours_infixe(arbre.droit)\n"
      ],
      "execution_count": null,
      "outputs": []
    },
    {
      "cell_type": "code",
      "metadata": {
        "id": "jVAq9Z8tOueA",
        "colab": {
          "base_uri": "https://localhost:8080/"
        },
        "outputId": "2f03a5b4-784e-4338-9a86-986f8d632dcc"
      },
      "source": [
        "parcours_infixe(arbre1)"
      ],
      "execution_count": null,
      "outputs": [
        {
          "output_type": "stream",
          "text": [
            "A\n",
            "C\n",
            "racine\n",
            "B\n"
          ],
          "name": "stdout"
        }
      ]
    },
    {
      "cell_type": "markdown",
      "metadata": {
        "id": "YcbRYyRmmh-j"
      },
      "source": [
        "#### EXERCICE (infixe)\n",
        "\n",
        "Donner cinq arbres binaires de taille 3 dont l'affichage avec la fonction `parcours_infixe` ci-dessus produira : \n",
        "```\n",
        "1\n",
        "2\n",
        "3\n",
        "```\n"
      ]
    },
    {
      "cell_type": "markdown",
      "metadata": {
        "id": "tBTIHnjJlCbM"
      },
      "source": [
        "#### avec indentation"
      ]
    },
    {
      "cell_type": "code",
      "metadata": {
        "id": "hdTLzoI8Qm6I",
        "colab": {
          "base_uri": "https://localhost:8080/"
        },
        "outputId": "568b21a5-6bf8-4592-cb13-d188d5d5e3a5"
      },
      "source": [
        "def parcours_infixe_indent(arbre,n=0):\n",
        "    '''affiche le contenu d'un arbre :\n",
        "    - d'abord le sous-arbre droit, \n",
        "    - puis la racine, \n",
        "    - puis le sous-arbre gauche'''\n",
        "    if arbre is not None:\n",
        "        parcours_infixe_indent(arbre.droit,n+1)\n",
        "        print('    '*n+'-', arbre.valeur)\n",
        "        parcours_infixe_indent(arbre.gauche,n+1)\n",
        "\n",
        "parcours_infixe_indent(arbre1)\n",
        "print('\\n------------------\\n')\n",
        "parcours_infixe_indent(Noeud(Noeud(Noeud(None,'Ga',None),'A',Noeud(None,'Da',None)), 'R', Noeud(Noeud(None,'Gb',None),'B',Noeud(None,'Db',None))))"
      ],
      "execution_count": null,
      "outputs": [
        {
          "output_type": "stream",
          "text": [
            "    - B\n",
            "- racine\n",
            "        - C\n",
            "    - A\n",
            "\n",
            "------------------\n",
            "\n",
            "        - Db\n",
            "    - B\n",
            "        - Gb\n",
            "- R\n",
            "        - Da\n",
            "    - A\n",
            "        - Ga\n"
          ],
          "name": "stdout"
        }
      ]
    },
    {
      "cell_type": "markdown",
      "metadata": {
        "id": "UtorKt9Mk97i"
      },
      "source": [
        "### Parcours préfixe"
      ]
    },
    {
      "cell_type": "code",
      "metadata": {
        "id": "ULHedreFSMzA",
        "colab": {
          "base_uri": "https://localhost:8080/"
        },
        "outputId": "5c86becd-db11-4344-e4cd-4c5c32ac6b07"
      },
      "source": [
        "def parcours_prefixe(arbre):\n",
        "    '''affiche le contenu d'un arbre :\n",
        "    - la racine,\n",
        "    - puis le sous-arbre droit, \n",
        "    - puis le sous-arbre gauche'''\n",
        "    if arbre is not None:\n",
        "        print(arbre.valeur)\n",
        "        parcours_prefixe(arbre.droit)\n",
        "        parcours_prefixe(arbre.gauche)\n",
        "\n",
        "\n",
        "\n",
        "parcours_prefixe(Noeud(Noeud(Noeud(None,'Ga',None),'A',Noeud(None,'Da',None)), 'R', Noeud(Noeud(None,'Gb',None),'B',Noeud(None,'Db',None))))"
      ],
      "execution_count": null,
      "outputs": [
        {
          "output_type": "stream",
          "text": [
            "R\n",
            "B\n",
            "Db\n",
            "Gb\n",
            "A\n",
            "Da\n",
            "Ga\n"
          ],
          "name": "stdout"
        }
      ]
    },
    {
      "cell_type": "markdown",
      "metadata": {
        "id": "a9x_JnHjnM9G"
      },
      "source": [
        "#### EXERCICE (préfixe)\n",
        "\n",
        "Donner tous les arbres binaires de taille 3 dont l'affichage avec la fonction `parcours_prefixe` ci-dessus produira : \n",
        "```\n",
        "1\n",
        "2\n",
        "3\n",
        "```\n"
      ]
    },
    {
      "cell_type": "markdown",
      "metadata": {
        "id": "jQFSLPc7k67K"
      },
      "source": [
        "#### avec indentation"
      ]
    },
    {
      "cell_type": "code",
      "metadata": {
        "id": "qsPxhIqckgdT",
        "colab": {
          "base_uri": "https://localhost:8080/"
        },
        "outputId": "c5dd16b0-3179-4a31-c984-a4270fee7f77"
      },
      "source": [
        "def parcours_prefixe_indent(arbre,n=0):\n",
        "    '''affiche le contenu d'un arbre :\n",
        "    - la racine,\n",
        "    - puis le sous-arbre droit, \n",
        "    - puis le sous-arbre gauche'''\n",
        "    if arbre is not None:\n",
        "        print('    '*n+'-', arbre.valeur)\n",
        "        parcours_prefixe_indent(arbre.droit,n+1)\n",
        "        parcours_prefixe_indent(arbre.gauche,n+1)\n",
        "\n",
        "\n",
        "\n",
        "parcours_prefixe_indent(Noeud(Noeud(Noeud(None,'Ga',None),'A',Noeud(None,'Da',None)), 'R', Noeud(Noeud(None,'Gb',None),'B',Noeud(None,'Db',None))))"
      ],
      "execution_count": null,
      "outputs": [
        {
          "output_type": "stream",
          "text": [
            "- R\n",
            "    - B\n",
            "        - Db\n",
            "        - Gb\n",
            "    - A\n",
            "        - Da\n",
            "        - Ga\n"
          ],
          "name": "stdout"
        }
      ]
    },
    {
      "cell_type": "markdown",
      "metadata": {
        "id": "2ATBFmDtk4lM"
      },
      "source": [
        "### Parcours suffixe"
      ]
    },
    {
      "cell_type": "code",
      "metadata": {
        "id": "UyFzMvE78Txc",
        "colab": {
          "base_uri": "https://localhost:8080/"
        },
        "outputId": "0246f35a-82f0-4f6a-9b66-d48c68c7042f"
      },
      "source": [
        "def parcours_suffixe(arbre):\n",
        "    '''affiche le contenu d'un arbre :\n",
        "    - le sous-arbre droit, \n",
        "    - puis le sous-arbre gauche\n",
        "    - puis la racine,'''\n",
        "    if arbre is not None:\n",
        "        parcours_suffixe(arbre.droit)\n",
        "        parcours_suffixe(arbre.gauche)\n",
        "        print(arbre.valeur)\n",
        "\n",
        "\n",
        "\n",
        "parcours_suffixe(Noeud(Noeud(Noeud(None,'Ga',None),'A',Noeud(None,'Da',None)), 'R', Noeud(Noeud(None,'Gb',None),'B',Noeud(None,'Db',None))))"
      ],
      "execution_count": null,
      "outputs": [
        {
          "output_type": "stream",
          "text": [
            "Db\n",
            "Gb\n",
            "B\n",
            "Da\n",
            "Ga\n",
            "A\n",
            "R\n"
          ],
          "name": "stdout"
        }
      ]
    },
    {
      "cell_type": "markdown",
      "metadata": {
        "id": "TG4ZK0UOnjDe"
      },
      "source": [
        "#### EXERCICE (suffixe)\n",
        "\n",
        "Donner tous les arbres binaires de taille 3 dont l'affichage avec la fonction `parcours_suffixe` ci-dessus produira : \n",
        "```\n",
        "1\n",
        "2\n",
        "3\n",
        "```\n"
      ]
    },
    {
      "cell_type": "markdown",
      "metadata": {
        "id": "mwuaRiHKkusV"
      },
      "source": [
        "#### avec indentation"
      ]
    },
    {
      "cell_type": "code",
      "metadata": {
        "id": "CYdjqW1GkqMa",
        "colab": {
          "base_uri": "https://localhost:8080/"
        },
        "outputId": "48a08ca3-5624-4754-d847-0c1bfd5edea6"
      },
      "source": [
        "def parcours_suffixe_indent(arbre,n=0):\n",
        "    '''affiche le contenu d'un arbre :\n",
        "    - la racine,\n",
        "    - puis le sous-arbre droit, \n",
        "    - puis le sous-arbre gauche'''\n",
        "    if arbre is not None:\n",
        "        parcours_suffixe_indent(arbre.droit,n+1)\n",
        "        parcours_suffixe_indent(arbre.gauche,n+1)\n",
        "        print('    '*n+'-', arbre.valeur)\n",
        "\n",
        "\n",
        "\n",
        "parcours_suffixe_indent(Noeud(Noeud(Noeud(None,'Ga',None),'A',Noeud(None,'Da',None)), 'R', Noeud(Noeud(None,'Gb',None),'B',Noeud(None,'Db',None))))"
      ],
      "execution_count": null,
      "outputs": [
        {
          "output_type": "stream",
          "text": [
            "        - Db\n",
            "        - Gb\n",
            "    - B\n",
            "        - Da\n",
            "        - Ga\n",
            "    - A\n",
            "- R\n"
          ],
          "name": "stdout"
        }
      ]
    },
    {
      "cell_type": "markdown",
      "metadata": {
        "id": "qr7xRmOc9VXo"
      },
      "source": [
        "## Parcours \"en largeur\""
      ]
    },
    {
      "cell_type": "markdown",
      "metadata": {
        "id": "EBT4ES_R-dUL"
      },
      "source": [
        "L'idée est de parcourir les sommets, par ordre de profondeur\n",
        "* d'abord la racine = profondeur 1\n",
        "* puis les sommets de profondeur 2\n",
        "* et ainsi de suite...\n",
        "\n",
        "Autant le passage de la racine à la profondeur 2 est simple (il suffit d'explorer les sous-arbres gauche et droit), autant le passage d'une profondeur n>1 à n+1 peut s'avérer complexe.\n",
        "\n",
        "Plutôt que de démarrer à chaque fois depuis la racine, on peut stocker dans une **file** l'ensemble des noeuds de profondeur n, pour explorer plus facilement ceux de profondeur n+1 "
      ]
    },
    {
      "cell_type": "markdown",
      "metadata": {
        "id": "ZaQWR8uqCQKN"
      },
      "source": [
        "#### On utilise donc la classe File déjà étudiée"
      ]
    },
    {
      "cell_type": "code",
      "metadata": {
        "id": "6hce7x2ECTr1"
      },
      "source": [
        "class Maillon:\n",
        "    def __init__(self, val, suiv=None):\n",
        "        self.valeur = val\n",
        "        self.suivant = suiv\n",
        "\n",
        "    def __str__(self):\n",
        "        if self.suivant is None:\n",
        "            return str(self.valeur)\n",
        "        return str(self.valeur) + '-' + str(self.suivant)\n",
        "\n",
        "class File:\n",
        "    def __init__(self):\n",
        "        self.debut = None\n",
        "        self.fin = None \n",
        "\n",
        "    def est_vide(self):\n",
        "        return self.debut is None\n",
        "\n",
        "    def __str__(self):\n",
        "        return str(self.debut)\n",
        "\n",
        "    def ajouter(self, v):\n",
        "        m = Maillon(v)\n",
        "        # cas d'une file vide\n",
        "        if self.est_vide():\n",
        "            self.debut = m\n",
        "            self.fin = m\n",
        "        else: # cas d'une file avec au moins un maillon\n",
        "            self.fin.suivant = m\n",
        "            self.fin = m\n",
        "\n",
        "    def retirer(self):\n",
        "        if self.est_vide():\n",
        "            raise ValueError(\"impossible de retirer : la file est vide\")\n",
        "        premier_maillon = self.debut\n",
        "        self.debut = premier_maillon.suivant\n",
        "        if self.debut is None:\n",
        "            self.fin = None\n",
        "        return premier_maillon.valeur\n",
        "\n"
      ],
      "execution_count": null,
      "outputs": []
    },
    {
      "cell_type": "markdown",
      "metadata": {
        "id": "S63ZPibZCVTK"
      },
      "source": [
        "#### on peut alors programmer la fonction de manière itérative :"
      ]
    },
    {
      "cell_type": "code",
      "metadata": {
        "id": "44s6FGKj7pGC"
      },
      "source": [
        "arbre = Noeud(Noeud(Noeud(None,'Ga',None),'A',Noeud(None,'Da',None)), 'R', Noeud(Noeud(None,'Gb',None),'B',Noeud(None,'Db',None)))"
      ],
      "execution_count": null,
      "outputs": []
    },
    {
      "cell_type": "code",
      "metadata": {
        "id": "NtUrKqXF_UcX",
        "colab": {
          "base_uri": "https://localhost:8080/"
        },
        "outputId": "c13bac40-a49b-447c-bb90-cb2fbc503ab8"
      },
      "source": [
        "def parcours_en_largeur(arbre):\n",
        "    file = File() # file vide\n",
        "    file.ajouter(arbre)\n",
        "    while not file.est_vide():\n",
        "        n = file.retirer()\n",
        "        if n is not None:\n",
        "            print(n.valeur)\n",
        "            file.ajouter(n.gauche)\n",
        "            file.ajouter(n.droit)\n",
        "\n",
        "parcours_en_largeur(Noeud(Noeud(Noeud(None,'Ga',None),'A',Noeud(None,'Da',None)), 'R', Noeud(Noeud(None,'Gb',None),'B',Noeud(None,'Db',None))))"
      ],
      "execution_count": null,
      "outputs": [
        {
          "output_type": "stream",
          "text": [
            "R\n",
            "A\n",
            "B\n",
            "Ga\n",
            "Da\n",
            "Gb\n",
            "Db\n"
          ],
          "name": "stdout"
        }
      ]
    },
    {
      "cell_type": "markdown",
      "metadata": {
        "id": "QOWsgidc5DHV"
      },
      "source": [
        "## Activité : parcours en largeur avec deux ensembles"
      ]
    },
    {
      "cell_type": "markdown",
      "metadata": {
        "id": "xHGcL5nj5Epj"
      },
      "source": [
        "Programmer une nouvelle fonction `parcours_en_largeur(arbre)` qui n'utilise pas de file.\n",
        "\n",
        "On utilisera à la place deux ensembles ([type set](https://docs.python.org/fr/3/library/stdtypes.html#set)): \n",
        "* l'ensemble des sommets de profondeur n \n",
        "* l'ensemble des sommets de profondeur n+1\n",
        "\n",
        "    `add(elem)`\n",
        "    Ajoute l'élément elem au set.\n",
        "\n",
        "    `pop()`\n",
        "    Retire et renvoie un élément arbitraire de l'ensemble. Lève une exception KeyError si l'ensemble est vide."
      ]
    },
    {
      "cell_type": "code",
      "metadata": {
        "id": "zbxr6jrY5W8t",
        "colab": {
          "base_uri": "https://localhost:8080/"
        },
        "outputId": "4d9ff468-ca70-4468-a9a4-7eb5809beba2"
      },
      "source": [
        "# rappel des commandes sur le type set\n",
        "s = set() # ensemble vide\n",
        "s.add(2)\n",
        "s.add(3)\n",
        "print(\"s = \", s)\n",
        "print(\"len(s) =\",len(s))\n",
        "print(\"s.pop() =  \", s.pop())\n",
        "print(\"s = \", s)\n",
        "print(\"s.pop() =  \", s.pop())\n",
        "print(\"len(s) =\",len(s))\n",
        "print(\"s = \", s)"
      ],
      "execution_count": null,
      "outputs": [
        {
          "output_type": "stream",
          "text": [
            "s =  {2, 3}\n",
            "len(s) = 2\n",
            "s.pop() =   2\n",
            "s =  {3}\n",
            "s.pop() =   3\n",
            "len(s) = 0\n",
            "s =  set()\n"
          ],
          "name": "stdout"
        }
      ]
    },
    {
      "cell_type": "markdown",
      "metadata": {
        "id": "_Ky_KIgQ68zw"
      },
      "source": [
        "#### utilisation pour le parcours en largeur"
      ]
    },
    {
      "cell_type": "markdown",
      "metadata": {
        "id": "t20HiVVODVF9"
      },
      "source": [
        "* tant qu'il y a quelque chose à afficher au niveau n : \n",
        "  * récupérer un élément de profondeur n\n",
        "  * afficher sa valeur\n",
        "  * stocker les éléments gauche et droit dans le niveau supérieur\n",
        "  * passer au suivant... de profondeur n\n",
        "* mettre les éléments de niveau n+1 au niveau n ! "
      ]
    },
    {
      "cell_type": "code",
      "metadata": {
        "id": "p8sazEOc5XOu"
      },
      "source": [
        "class Noeud:\n",
        "    def __init__(self, g, v, d):\n",
        "        self.gauche = g\n",
        "        self.valeur = v        \n",
        "        self.droit  = d\n",
        "\n",
        "def parcours_en_largeur(arbre):\n",
        "    profondeur_n = set() # ensemble vide\n",
        "    profondeur_n_plus_1 = set() # ensemble vide\n",
        "    \n",
        "    # initialement, profondeur_n contient le noeud racine : \n",
        "    profondeur_n.add(arbre)\n",
        "    while len(profondeur_n)>0 :\n",
        "        node = profondeur_n.pop() # on extrait un noeud de profondeur n\n",
        "        print(node.valeur)\n",
        "        if node.gauche is not None : \n",
        "            profondeur_n_plus_1.add(node.gauche)\n",
        "        if node.droit is not None : \n",
        "            profondeur_n_plus_1.add(node.droit)\n",
        "        # si on a épuisé les noeuds de profondeur n, \n",
        "        # on passe à ceux de profondeur n+1\n",
        "        if len(profondeur_n)==0:\n",
        "            profondeur_n = profondeur_n_plus_1\n",
        "            profondeur_n_plus_1 = set()"
      ],
      "execution_count": null,
      "outputs": []
    },
    {
      "cell_type": "code",
      "metadata": {
        "id": "SIhAtQoPIYzt",
        "colab": {
          "base_uri": "https://localhost:8080/"
        },
        "outputId": "94c8c40c-5e93-4e7f-eb14-7a865d99a179"
      },
      "source": [
        "parcours_en_largeur(Noeud(Noeud(Noeud(None,'Ga',None),'A',Noeud(None,'Da',None)), 'R', Noeud(Noeud(None,'Gb',None),'B',Noeud(None,'Db',None))))"
      ],
      "execution_count": null,
      "outputs": [
        {
          "output_type": "stream",
          "text": [
            "R\n",
            "A\n",
            "B\n",
            "Db\n",
            "Ga\n",
            "Gb\n",
            "Da\n"
          ],
          "name": "stdout"
        }
      ]
    },
    {
      "cell_type": "markdown",
      "metadata": {
        "id": "RKI2dqn-P6YO"
      },
      "source": [
        "# Bonus : parcours en largeur avec deux listes"
      ]
    },
    {
      "cell_type": "markdown",
      "metadata": {
        "id": "-mlW9IeqQV_V"
      },
      "source": [
        "#### en \"zig-zag\""
      ]
    },
    {
      "cell_type": "code",
      "metadata": {
        "colab": {
          "base_uri": "https://localhost:8080/"
        },
        "id": "C-lFWzDjP9kY",
        "outputId": "10b04f2e-a77d-4d70-e223-afae6d42f5ec"
      },
      "source": [
        "class Noeud:\n",
        "    def __init__(self, g, v, d):\n",
        "        self.gauche = g\n",
        "        self.valeur = v        \n",
        "        self.droit  = d\n",
        "\n",
        "def parcours_en_largeur(arbre):\n",
        "    # initialement, profondeur_n contient le noeud racine : \n",
        "    profondeur_n = [arbre] \n",
        "    profondeur_n_plus_1 = []  \n",
        "    \n",
        "    while len(profondeur_n)>0 :\n",
        "        node = profondeur_n.pop() # on extrait un noeud de profondeur n\n",
        "        print(node.valeur)\n",
        "        if node.gauche is not None : \n",
        "            profondeur_n_plus_1.append(node.gauche)\n",
        "        if node.droit is not None : \n",
        "            profondeur_n_plus_1.append(node.droit)\n",
        "        # si on a épuisé les noeuds de profondeur n, \n",
        "        # on passe à ceux de profondeur n+1\n",
        "        if len(profondeur_n)==0:\n",
        "            profondeur_n = profondeur_n_plus_1\n",
        "            profondeur_n_plus_1 = []\n",
        "\n",
        "parcours_en_largeur(Noeud(Noeud(Noeud(None,'Ga',None),'A',Noeud(None,'Da',None)), \n",
        "                          'R', \n",
        "                          Noeud(Noeud(None,'Gb',None),'B',Noeud(None,'Db',None))))"
      ],
      "execution_count": null,
      "outputs": [
        {
          "output_type": "stream",
          "text": [
            "R\n",
            "B\n",
            "A\n",
            "Da\n",
            "Ga\n",
            "Db\n",
            "Gb\n"
          ],
          "name": "stdout"
        }
      ]
    },
    {
      "cell_type": "markdown",
      "metadata": {
        "id": "eNvZ5lthQab2"
      },
      "source": [
        "#### de gauche à droite"
      ]
    },
    {
      "cell_type": "code",
      "metadata": {
        "colab": {
          "base_uri": "https://localhost:8080/"
        },
        "id": "ufldOfg4Qab2",
        "outputId": "203648ff-0dc1-4c20-e1e3-af4125f7d596"
      },
      "source": [
        "class Noeud:\n",
        "    def __init__(self, g, v, d):\n",
        "        self.gauche = g\n",
        "        self.valeur = v        \n",
        "        self.droit  = d\n",
        "\n",
        "def parcours_en_largeur(arbre):\n",
        "    # initialement, profondeur_n contient le noeud racine : \n",
        "    profondeur_n = [arbre] \n",
        "    profondeur_n_plus_1 = []  \n",
        "    \n",
        "    while len(profondeur_n)>0 :\n",
        "        node = profondeur_n.pop() # on extrait un noeud de profondeur n\n",
        "        print(node.valeur)\n",
        "        if node.gauche is not None : \n",
        "            profondeur_n_plus_1.append(node.gauche)\n",
        "        if node.droit is not None : \n",
        "            profondeur_n_plus_1.append(node.droit)\n",
        "        # si on a épuisé les noeuds de profondeur n, \n",
        "        # on passe à ceux de profondeur n+1\n",
        "        if len(profondeur_n)==0:\n",
        "            profondeur_n_plus_1.reverse()\n",
        "            profondeur_n = profondeur_n_plus_1\n",
        "            profondeur_n_plus_1 = []\n",
        "\n",
        "parcours_en_largeur(Noeud(Noeud(Noeud(None,'Ga',None),'A',Noeud(None,'Da',None)), \n",
        "                          'R', \n",
        "                          Noeud(Noeud(None,'Gb',None),'B',Noeud(None,'Db',None))))"
      ],
      "execution_count": 5,
      "outputs": [
        {
          "output_type": "stream",
          "text": [
            "R\n",
            "A\n",
            "B\n",
            "Ga\n",
            "Da\n",
            "Gb\n",
            "Db\n"
          ],
          "name": "stdout"
        }
      ]
    }
  ]
}