{
  "nbformat": 4,
  "nbformat_minor": 0,
  "metadata": {
    "colab": {
      "name": "Chap08_COURS_ARBRES_BINAIRES.ipynb",
      "provenance": [],
      "collapsed_sections": [
        "jQFSLPc7k67K",
        "mwuaRiHKkusV"
      ],
      "authorship_tag": "ABX9TyOrgJyHlK2XkRSvpDZkqjZk",
      "include_colab_link": true
    },
    "kernelspec": {
      "name": "python3",
      "display_name": "Python 3"
    }
  },
  "cells": [
    {
      "cell_type": "markdown",
      "metadata": {
        "id": "view-in-github",
        "colab_type": "text"
      },
      "source": [
        "<a href=\"https://colab.research.google.com/github/thfruchart/tnsi-2020/blob/master/Chap08/COURS_ARBRES_BINAIRES.ipynb\" target=\"_parent\"><img src=\"https://colab.research.google.com/assets/colab-badge.svg\" alt=\"Open In Colab\"/></a>"
      ]
    },
    {
      "cell_type": "markdown",
      "metadata": {
        "id": "inglW8Sj1H5B"
      },
      "source": [
        "# Arborescence, arbre binaire"
      ]
    },
    {
      "cell_type": "markdown",
      "metadata": {
        "id": "t3tO4iz91Ox9"
      },
      "source": [
        "Lire le document : [https://pixees.fr/informatiquelycee/n_site/nsi_term_structDo_arbre.html](https://pixees.fr/informatiquelycee/n_site/nsi_term_structDo_arbre.html)"
      ]
    },
    {
      "cell_type": "markdown",
      "metadata": {
        "id": "FauHAYhW1rOW"
      },
      "source": [
        "###Activité 1"
      ]
    },
    {
      "cell_type": "markdown",
      "metadata": {
        "id": "3Z0YfJb01t9l"
      },
      "source": [
        "Représenter graphiquement\n",
        "1. tous les arbres binaires comportant 3 noeuds\n",
        "2. tous les arbres binaires comportant 4 noeuds\n",
        "3. un arbre binaire de hauteur 3, comportant 7 noeuds\n",
        "4. un arbre binaire de hauteur 4, comportant 20 noeuds... \n",
        "\n",
        "ATTENTION : un arbre de hauteur 4 compte au maximum 15 noeuds ! Donc la consigne 4 est impossible"
      ]
    },
    {
      "cell_type": "markdown",
      "metadata": {
        "id": "EXCQPj8x3ZGw"
      },
      "source": [
        "# Représentation d'un arbre binaire en Python"
      ]
    },
    {
      "cell_type": "markdown",
      "metadata": {
        "id": "eBNI8hRk3dT5"
      },
      "source": [
        "## avec des tuples"
      ]
    },
    {
      "cell_type": "markdown",
      "metadata": {
        "id": "9LbS8oBF3Qhd"
      },
      "source": [
        "On peut convenir de représenter un arbre binaire par un tuple \n",
        "* de longueur 0 pour un arbre vide\n",
        "* de longueur 3  sinon : \n",
        "`( sous_arbre_gauche, valeur, sous_arbre_droit)` "
      ]
    },
    {
      "cell_type": "code",
      "metadata": {
        "id": "Z0z08vLS1BU4",
        "outputId": "656b09dd-d9d7-4a7b-914f-e89f7db3b72f",
        "colab": {
          "base_uri": "https://localhost:8080/"
        }
      },
      "source": [
        "# arbre vide (hauteur 0)\n",
        "() \n",
        "\n",
        "# arbre réduit à un noeud racine (hauteur 1)\n",
        "( (), \"racine\", () ) \n",
        "\n",
        "# arbre de hauteur 2 où la racine possède un fils gauche A et un fils droit B\n",
        "( ((),\"A\",()), \"racine\", (((),\"B\",())) )  "
      ],
      "execution_count": 1,
      "outputs": [
        {
          "output_type": "execute_result",
          "data": {
            "text/plain": [
              "(((), 'A', ()), 'racine', ((), 'B', ()))"
            ]
          },
          "metadata": {
            "tags": []
          },
          "execution_count": 1
        }
      ]
    },
    {
      "cell_type": "markdown",
      "metadata": {
        "id": "c9gQmtcy4aPD"
      },
      "source": [
        "## programmation orientée objet"
      ]
    },
    {
      "cell_type": "markdown",
      "metadata": {
        "id": "WoS1alpm4dNq"
      },
      "source": [
        "Comme pour les listes chaînées, les files et les piles, on peut définir un arbre comme une structure récursive : \n",
        "* soit un arbre vide, qui sera représenté par `None`\n",
        "* soit un noeud : `Noeud()` qui possède une valeur, et deux attributs gauche et droit, qui seront eux-mêmes des arbres  : \n",
        "  * soit vide : `None`\n",
        "  * soit un nouveau noeud :  `Noeud()`"
      ]
    },
    {
      "cell_type": "code",
      "metadata": {
        "id": "V4rkE_4f4-Wm"
      },
      "source": [
        "class Noeud:\n",
        "    def __init__(self, g, v, d):\n",
        "        self.gauche = g\n",
        "        self.valeur = v        \n",
        "        self.droit  = d"
      ],
      "execution_count": 2,
      "outputs": []
    },
    {
      "cell_type": "markdown",
      "metadata": {
        "id": "yKV6l1OH6LUe"
      },
      "source": [
        "Un arbre dont la racine possède un fils gauche A et un fils droit B peut alors s'écrire :"
      ]
    },
    {
      "cell_type": "code",
      "metadata": {
        "id": "5i5959iE6SJN"
      },
      "source": [
        "arbre = Noeud( Noeud(None,'A',None), 'racine', Noeud(None,'B',None) )"
      ],
      "execution_count": 3,
      "outputs": []
    },
    {
      "cell_type": "markdown",
      "metadata": {
        "id": "2vEGpdFk7YXi"
      },
      "source": [
        "## Activité 2"
      ]
    },
    {
      "cell_type": "markdown",
      "metadata": {
        "id": "F43haUPv7aO7"
      },
      "source": [
        "Représenter graphiquement les arbres obtenus avec les codes suivants :"
      ]
    },
    {
      "cell_type": "code",
      "metadata": {
        "id": "muit29397f00"
      },
      "source": [
        "arbre1 = Noeud( Noeud(None,'A',None), 'racine', Noeud(None,'B',None) )\n",
        "arbre1.gauche.droit = Noeud(None,'C',None)"
      ],
      "execution_count": 4,
      "outputs": []
    },
    {
      "cell_type": "markdown",
      "metadata": {
        "id": "HMTSxhg08ibF"
      },
      "source": [
        "[visualiser sur PythonTutor](http://www.pythontutor.com/visualize.html#code=class%20Noeud%3A%0A%20%20%20%20def%20__init__%28self,%20g,%20v,%20d%29%3A%0A%20%20%20%20%20%20%20%20self.gauche%20%3D%20g%0A%20%20%20%20%20%20%20%20self.valeur%20%3D%20v%20%20%20%20%20%20%20%20%0A%20%20%20%20%20%20%20%20self.droit%20%20%3D%20d%0A%0Aarbre1%20%3D%20Noeud%28%20Noeud%28None,'A',None%29,%20'racine',%20Noeud%28None,'B',None%29%20%29%0Aarbre1.gauche.droit%20%3D%20Noeud%28None,'C',None%29&cumulative=false&curInstr=23&heapPrimitives=nevernest&mode=display&origin=opt-frontend.js&py=3&rawInputLstJSON=%5B%5D&textReferences=false)"
      ]
    },
    {
      "cell_type": "code",
      "metadata": {
        "id": "XvNCUUNa7qQa"
      },
      "source": [
        "arbre2 = Noeud( Noeud(None,'A',None), 'racine', Noeud(None,'B',None) )\n",
        "arbre2.droit.gauche = Noeud(None,'C', Noeud(None,'D',None))"
      ],
      "execution_count": 5,
      "outputs": []
    },
    {
      "cell_type": "markdown",
      "metadata": {
        "id": "lgg_3n3x8p1_"
      },
      "source": [
        "[visualiser sur PythonTutor](http://www.pythontutor.com/visualize.html#code=class%20Noeud%3A%0A%20%20%20%20def%20__init__%28self,%20g,%20v,%20d%29%3A%0A%20%20%20%20%20%20%20%20self.gauche%20%3D%20g%0A%20%20%20%20%20%20%20%20self.valeur%20%3D%20v%20%20%20%20%20%20%20%20%0A%20%20%20%20%20%20%20%20self.droit%20%20%3D%20d%0A%0Aarbre2%20%3D%20Noeud%28%20Noeud%28None,'A',None%29,%20'racine',%20Noeud%28None,'B',None%29%20%29%0Aarbre2.droit.gauche%20%3D%20Noeud%28None,'C',%20Noeud%28None,'D',None%29%29&cumulative=false&curInstr=28&heapPrimitives=nevernest&mode=display&origin=opt-frontend.js&py=3&rawInputLstJSON=%5B%5D&textReferences=false)"
      ]
    },
    {
      "cell_type": "markdown",
      "metadata": {
        "id": "uTjkQ5Ra87v4"
      },
      "source": [
        "# Taille d'un arbre binaire"
      ]
    },
    {
      "cell_type": "markdown",
      "metadata": {
        "id": "wlR2aA239FOo"
      },
      "source": [
        "La taille d'un arbre est le nombre de noeuds qu'il contient. \n",
        "\n",
        "On peut programmer simplement le calcul de la taille d'un arbre de manière récursive\n",
        "* la taille d'un arbre vide `None`  vaut 0\n",
        "* la taille d'un arbre non vide vaut : \n",
        "  * 1 , pour le noeud racine \n",
        "  * plus la taille du sous-arbre gauche de ce noeud racine\n",
        "  * plus la taille du sous-arbre droit de ce même noeud racine"
      ]
    },
    {
      "cell_type": "code",
      "metadata": {
        "id": "34idc1s3-xkj"
      },
      "source": [
        "def taille(arbre):\n",
        "    if arbre is None:\n",
        "        return 0\n",
        "    else:\n",
        "        return 1 + taille(arbre.gauche) + taille(arbre.droit)"
      ],
      "execution_count": 6,
      "outputs": []
    },
    {
      "cell_type": "code",
      "metadata": {
        "id": "QWZiJJ6i_Efx",
        "outputId": "bd71fbdd-8f82-4137-d4a9-b686dd24c27e",
        "colab": {
          "base_uri": "https://localhost:8080/"
        }
      },
      "source": [
        "taille(arbre1)"
      ],
      "execution_count": 7,
      "outputs": [
        {
          "output_type": "execute_result",
          "data": {
            "text/plain": [
              "4"
            ]
          },
          "metadata": {
            "tags": []
          },
          "execution_count": 7
        }
      ]
    },
    {
      "cell_type": "code",
      "metadata": {
        "id": "EdoTWksL_J56",
        "outputId": "03b9666f-7524-46db-f5b6-af8154134ddc",
        "colab": {
          "base_uri": "https://localhost:8080/"
        }
      },
      "source": [
        "taille(arbre2)"
      ],
      "execution_count": 8,
      "outputs": [
        {
          "output_type": "execute_result",
          "data": {
            "text/plain": [
              "5"
            ]
          },
          "metadata": {
            "tags": []
          },
          "execution_count": 8
        }
      ]
    },
    {
      "cell_type": "markdown",
      "metadata": {
        "id": "kBJdc9xD_PeS"
      },
      "source": [
        "# Hauteur d'un arbre binaire"
      ]
    },
    {
      "cell_type": "markdown",
      "metadata": {
        "id": "RrQWqeAP_SAq"
      },
      "source": [
        "La hauteur d'un arbre est le plus grand nombre de noeuds rencontrés en descendant de la racine jusqu'à une feuille (ou à un sous-arbre vide).\n",
        "\n",
        "Cette notion est simple à définir de manière récursive : \n",
        "* la hauteur d'un arbre vide vaut 0,\n",
        "* la hauteur d'un arbre non vide vaut :\n",
        "  * 1 (pour la racine)\n",
        "  * plus la plus grande hauteur des sous-arbres gauche et droit\n",
        "  "
      ]
    },
    {
      "cell_type": "code",
      "metadata": {
        "id": "zDFfVpRx_OwL"
      },
      "source": [
        "def hauteur(arbre):\n",
        "    if arbre is None : \n",
        "        return 0\n",
        "    else : return 1 + max(hauteur(arbre.gauche), hauteur(arbre.droit))"
      ],
      "execution_count": 9,
      "outputs": []
    },
    {
      "cell_type": "code",
      "metadata": {
        "id": "8aha-tkbAJc_",
        "outputId": "cb4be54b-8fc6-4bc8-fc33-290a3924aaf5",
        "colab": {
          "base_uri": "https://localhost:8080/"
        }
      },
      "source": [
        "hauteur(arbre1)"
      ],
      "execution_count": 10,
      "outputs": [
        {
          "output_type": "execute_result",
          "data": {
            "text/plain": [
              "3"
            ]
          },
          "metadata": {
            "tags": []
          },
          "execution_count": 10
        }
      ]
    },
    {
      "cell_type": "code",
      "metadata": {
        "id": "lVTikgqEAL1g",
        "outputId": "09a094e3-c950-4364-9c83-52fb87df0c53",
        "colab": {
          "base_uri": "https://localhost:8080/"
        }
      },
      "source": [
        "hauteur(arbre2)"
      ],
      "execution_count": 11,
      "outputs": [
        {
          "output_type": "execute_result",
          "data": {
            "text/plain": [
              "4"
            ]
          },
          "metadata": {
            "tags": []
          },
          "execution_count": 11
        }
      ]
    },
    {
      "cell_type": "markdown",
      "metadata": {
        "id": "KDWZRqHFH58Q"
      },
      "source": [
        "**Remarque** : la fonction taille et la fonction hauteur explorent tous les noeuds de l'arbre. \n",
        "\n",
        "Leur complexité est linéaire en fonction du nombre `n` de noeuds de l'arbre: notation **O(`n`)**."
      ]
    },
    {
      "cell_type": "markdown",
      "metadata": {
        "id": "E9d_k81WEWG3"
      },
      "source": [
        "# Affichage des noeuds d'un arbre"
      ]
    },
    {
      "cell_type": "markdown",
      "metadata": {
        "id": "9WCAFE649RHt"
      },
      "source": [
        "## Parcours \"en profondeur\""
      ]
    },
    {
      "cell_type": "markdown",
      "metadata": {
        "id": "KWnF0_4MlGqP"
      },
      "source": [
        "### Parcours infixe"
      ]
    },
    {
      "cell_type": "code",
      "metadata": {
        "id": "O5JXPMnQEVsK"
      },
      "source": [
        "def parcours_infixe(arbre):\n",
        "    '''affiche le contenu d'un arbre :\n",
        "    - d'abord le sous-arbre gauche, \n",
        "    - puis la racine, \n",
        "    - puis le sous-arbre droit'''\n",
        "    if arbre is not None:\n",
        "        parcours_infixe(arbre.gauche)\n",
        "        print(arbre.valeur)\n",
        "        parcours_infixe(arbre.droit)\n"
      ],
      "execution_count": 12,
      "outputs": []
    },
    {
      "cell_type": "code",
      "metadata": {
        "id": "jVAq9Z8tOueA",
        "outputId": "09c43ea5-735a-4c04-82b6-10b8668e373f",
        "colab": {
          "base_uri": "https://localhost:8080/"
        }
      },
      "source": [
        "parcours_infixe(arbre1)"
      ],
      "execution_count": 13,
      "outputs": [
        {
          "output_type": "stream",
          "text": [
            "A\n",
            "C\n",
            "racine\n",
            "B\n"
          ],
          "name": "stdout"
        }
      ]
    },
    {
      "cell_type": "markdown",
      "metadata": {
        "id": "YcbRYyRmmh-j"
      },
      "source": [
        "#### EXERCICE (infixe)\n",
        "\n",
        "Donner cinq arbres binaires de taille 3 dont l'affichage avec la fonction `parcours_infixe` ci-dessus produira : \n",
        "```\n",
        "1\n",
        "2\n",
        "3\n",
        "```\n"
      ]
    },
    {
      "cell_type": "markdown",
      "metadata": {
        "id": "tBTIHnjJlCbM"
      },
      "source": [
        "#### avec indentation"
      ]
    },
    {
      "cell_type": "code",
      "metadata": {
        "id": "hdTLzoI8Qm6I",
        "outputId": "cedabd17-93b7-495c-ef61-22e774f338ac",
        "colab": {
          "base_uri": "https://localhost:8080/"
        }
      },
      "source": [
        "def parcours_infixe_indent(arbre,n=0):\n",
        "    '''affiche le contenu d'un arbre :\n",
        "    - d'abord le sous-arbre droit, \n",
        "    - puis la racine, \n",
        "    - puis le sous-arbre gauche'''\n",
        "    if arbre is not None:\n",
        "        parcours_infixe_indent(arbre.droit,n+1)\n",
        "        print('    '*n+'-', arbre.valeur)\n",
        "        parcours_infixe_indent(arbre.gauche,n+1)\n",
        "\n",
        "parcours_infixe_indent(arbre1)\n",
        "print('\\n------------------\\n')\n",
        "parcours_infixe_indent(Noeud(Noeud(Noeud(None,'Ga',None),'A',Noeud(None,'Da',None)), 'R', Noeud(Noeud(None,'Gb',None),'B',Noeud(None,'Db',None))))"
      ],
      "execution_count": 15,
      "outputs": [
        {
          "output_type": "stream",
          "text": [
            "    - B\n",
            "- racine\n",
            "        - C\n",
            "    - A\n",
            "\n",
            "------------------\n",
            "\n",
            "        - Db\n",
            "    - B\n",
            "        - Gb\n",
            "- R\n",
            "        - Da\n",
            "    - A\n",
            "        - Ga\n"
          ],
          "name": "stdout"
        }
      ]
    },
    {
      "cell_type": "markdown",
      "metadata": {
        "id": "UtorKt9Mk97i"
      },
      "source": [
        "### Parcours préfixe"
      ]
    },
    {
      "cell_type": "code",
      "metadata": {
        "id": "ULHedreFSMzA",
        "outputId": "12555543-48e8-4df3-c375-f57650139306",
        "colab": {
          "base_uri": "https://localhost:8080/"
        }
      },
      "source": [
        "def parcours_prefixe(arbre):\n",
        "    '''affiche le contenu d'un arbre :\n",
        "    - la racine,\n",
        "    - puis le sous-arbre droit, \n",
        "    - puis le sous-arbre gauche'''\n",
        "    if arbre is not None:\n",
        "        print(arbre.valeur)\n",
        "        parcours_prefixe(arbre.droit)\n",
        "        parcours_prefixe(arbre.gauche)\n",
        "\n",
        "\n",
        "\n",
        "parcours_prefixe(Noeud(Noeud(Noeud(None,'Ga',None),'A',Noeud(None,'Da',None)), 'R', Noeud(Noeud(None,'Gb',None),'B',Noeud(None,'Db',None))))"
      ],
      "execution_count": 16,
      "outputs": [
        {
          "output_type": "stream",
          "text": [
            "R\n",
            "B\n",
            "Db\n",
            "Gb\n",
            "A\n",
            "Da\n",
            "Ga\n"
          ],
          "name": "stdout"
        }
      ]
    },
    {
      "cell_type": "markdown",
      "metadata": {
        "id": "a9x_JnHjnM9G"
      },
      "source": [
        "#### EXERCICE (préfixe)\n",
        "\n",
        "Donner tous les arbres binaires de taille 3 dont l'affichage avec la fonction `parcours_prefixe` ci-dessus produira : \n",
        "```\n",
        "1\n",
        "2\n",
        "3\n",
        "```\n"
      ]
    },
    {
      "cell_type": "markdown",
      "metadata": {
        "id": "jQFSLPc7k67K"
      },
      "source": [
        "#### avec indentation"
      ]
    },
    {
      "cell_type": "code",
      "metadata": {
        "id": "qsPxhIqckgdT",
        "outputId": "e0e97ea4-b99c-4108-d5b7-0ab9f747cf43",
        "colab": {
          "base_uri": "https://localhost:8080/"
        }
      },
      "source": [
        "def parcours_prefixe_indent(arbre,n=0):\n",
        "    '''affiche le contenu d'un arbre :\n",
        "    - la racine,\n",
        "    - puis le sous-arbre droit, \n",
        "    - puis le sous-arbre gauche'''\n",
        "    if arbre is not None:\n",
        "        print('    '*n+'-', arbre.valeur)\n",
        "        parcours_prefixe_indent(arbre.droit,n+1)\n",
        "        parcours_prefixe_indent(arbre.gauche,n+1)\n",
        "\n",
        "\n",
        "\n",
        "parcours_prefixe_indent(Noeud(Noeud(Noeud(None,'Ga',None),'A',Noeud(None,'Da',None)), 'R', Noeud(Noeud(None,'Gb',None),'B',Noeud(None,'Db',None))))"
      ],
      "execution_count": 17,
      "outputs": [
        {
          "output_type": "stream",
          "text": [
            "- R\n",
            "    - B\n",
            "        - Db\n",
            "        - Gb\n",
            "    - A\n",
            "        - Da\n",
            "        - Ga\n"
          ],
          "name": "stdout"
        }
      ]
    },
    {
      "cell_type": "markdown",
      "metadata": {
        "id": "2ATBFmDtk4lM"
      },
      "source": [
        "### Parcours suffixe"
      ]
    },
    {
      "cell_type": "code",
      "metadata": {
        "id": "UyFzMvE78Txc",
        "outputId": "f99b93ac-29b3-4dac-bc2b-518303852416",
        "colab": {
          "base_uri": "https://localhost:8080/"
        }
      },
      "source": [
        "def parcours_suffixe(arbre):\n",
        "    '''affiche le contenu d'un arbre :\n",
        "    - le sous-arbre droit, \n",
        "    - puis le sous-arbre gauche\n",
        "    - puis la racine,'''\n",
        "    if arbre is not None:\n",
        "        parcours_suffixe(arbre.droit)\n",
        "        parcours_suffixe(arbre.gauche)\n",
        "        print(arbre.valeur)\n",
        "\n",
        "\n",
        "\n",
        "parcours_suffixe(Noeud(Noeud(Noeud(None,'Ga',None),'A',Noeud(None,'Da',None)), 'R', Noeud(Noeud(None,'Gb',None),'B',Noeud(None,'Db',None))))"
      ],
      "execution_count": 18,
      "outputs": [
        {
          "output_type": "stream",
          "text": [
            "Db\n",
            "Gb\n",
            "B\n",
            "Da\n",
            "Ga\n",
            "A\n",
            "R\n"
          ],
          "name": "stdout"
        }
      ]
    },
    {
      "cell_type": "markdown",
      "metadata": {
        "id": "TG4ZK0UOnjDe"
      },
      "source": [
        "#### EXERCICE (suffixe)\n",
        "\n",
        "Donner tous les arbres binaires de taille 3 dont l'affichage avec la fonction `parcours_suffixe` ci-dessus produira : \n",
        "```\n",
        "1\n",
        "2\n",
        "3\n",
        "```\n"
      ]
    },
    {
      "cell_type": "markdown",
      "metadata": {
        "id": "mwuaRiHKkusV"
      },
      "source": [
        "#### avec indentation"
      ]
    },
    {
      "cell_type": "code",
      "metadata": {
        "id": "CYdjqW1GkqMa",
        "outputId": "51778951-e7ff-467e-da53-14ff25b8ae07",
        "colab": {
          "base_uri": "https://localhost:8080/"
        }
      },
      "source": [
        "def parcours_suffixe_indent(arbre,n=0):\n",
        "    '''affiche le contenu d'un arbre :\n",
        "    - la racine,\n",
        "    - puis le sous-arbre droit, \n",
        "    - puis le sous-arbre gauche'''\n",
        "    if arbre is not None:\n",
        "        parcours_suffixe_indent(arbre.droit,n+1)\n",
        "        parcours_suffixe_indent(arbre.gauche,n+1)\n",
        "        print('    '*n+'-', arbre.valeur)\n",
        "\n",
        "\n",
        "\n",
        "parcours_suffixe_indent(Noeud(Noeud(Noeud(None,'Ga',None),'A',Noeud(None,'Da',None)), 'R', Noeud(Noeud(None,'Gb',None),'B',Noeud(None,'Db',None))))"
      ],
      "execution_count": 19,
      "outputs": [
        {
          "output_type": "stream",
          "text": [
            "        - Db\n",
            "        - Gb\n",
            "    - B\n",
            "        - Da\n",
            "        - Ga\n",
            "    - A\n",
            "- R\n"
          ],
          "name": "stdout"
        }
      ]
    },
    {
      "cell_type": "markdown",
      "metadata": {
        "id": "qr7xRmOc9VXo"
      },
      "source": [
        "## Parcours \"en largeur\""
      ]
    },
    {
      "cell_type": "markdown",
      "metadata": {
        "id": "EBT4ES_R-dUL"
      },
      "source": [
        "L'idée est de parcourir les sommets, par ordre de profondeur\n",
        "* d'abord la racine = profondeur 1\n",
        "* puis les sommets de profondeur 2\n",
        "* et ainsi de suite...\n",
        "\n",
        "Autant le passage de la racine à la profondeur 2 est simple (il suffit d'explorer les sous-arbres gauche et droit), autant le passage d'une profondeur n>1 à n+1 peut s'avérer complexe.\n",
        "\n",
        "Plutôt que de démarrer à chaque fois depuis la racine, on peut stocker dans une **file** l'ensemble des noeuds de profondeur n, pour explorer plus facilement ceux de profondeur n+1 "
      ]
    },
    {
      "cell_type": "markdown",
      "metadata": {
        "id": "ZaQWR8uqCQKN"
      },
      "source": [
        "#### On utilise donc la classe File déjà étudiée"
      ]
    },
    {
      "cell_type": "code",
      "metadata": {
        "id": "6hce7x2ECTr1"
      },
      "source": [
        "class Maillon:\n",
        "    def __init__(self, val, suiv=None):\n",
        "        self.valeur = val\n",
        "        self.suivant = suiv\n",
        "\n",
        "    def __str__(self):\n",
        "        if self.suivant is None:\n",
        "            return str(self.valeur)\n",
        "        return str(self.valeur) + '-' + str(self.suivant)\n",
        "\n",
        "class File:\n",
        "    def __init__(self):\n",
        "        self.debut = None\n",
        "        self.fin = None \n",
        "\n",
        "    def est_vide(self):\n",
        "        return self.debut is None\n",
        "\n",
        "    def __str__(self):\n",
        "        return str(self.debut)\n",
        "\n",
        "    def ajouter(self, v):\n",
        "        m = Maillon(v)\n",
        "        # cas d'une file vide\n",
        "        if self.est_vide():\n",
        "            self.debut = m\n",
        "            self.fin = m\n",
        "        else: # cas d'une file avec au moins un maillon\n",
        "            self.fin.suivant = m\n",
        "            self.fin = m\n",
        "\n",
        "    def retirer(self):\n",
        "        if self.est_vide():\n",
        "            raise ValueError(\"impossible de retirer : la file est vide\")\n",
        "        premier_maillon = self.debut\n",
        "        self.debut = premier_maillon.suivant\n",
        "        if self.debut is None:\n",
        "            self.fin = None\n",
        "        return premier_maillon.valeur\n",
        "\n"
      ],
      "execution_count": null,
      "outputs": []
    },
    {
      "cell_type": "markdown",
      "metadata": {
        "id": "S63ZPibZCVTK"
      },
      "source": [
        "#### on peut alors programmer la fonction de manière itérative :"
      ]
    },
    {
      "cell_type": "code",
      "metadata": {
        "id": "NtUrKqXF_UcX"
      },
      "source": [
        "def parcours_en_largeur(arbre):\n",
        "    file = File()\n",
        "    file.ajouter(arbre)\n",
        "    while not file.est_vide():\n",
        "        n = file.retirer()\n",
        "        if n is not None:\n",
        "            print(n.valeur)\n",
        "            file.ajouter(n.gauche)\n",
        "            file.ajouter(n.droit)\n",
        "\n",
        "parcours_en_largeur(Noeud(Noeud(Noeud(None,'Ga',None),'A',Noeud(None,'Da',None)), 'R', Noeud(Noeud(None,'Gb',None),'B',Noeud(None,'Db',None))))"
      ],
      "execution_count": null,
      "outputs": []
    }
  ]
}