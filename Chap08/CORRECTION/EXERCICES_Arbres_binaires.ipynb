{
  "nbformat": 4,
  "nbformat_minor": 0,
  "metadata": {
    "colab": {
      "name": "Chap08_EXERCICES_Arbres_binaires.ipynb",
      "provenance": [],
      "collapsed_sections": [
        "sQG4TQcAslQT"
      ],
      "authorship_tag": "ABX9TyOxu4yTGCEeDE1AAIUVF9ab",
      "include_colab_link": true
    },
    "kernelspec": {
      "name": "python3",
      "display_name": "Python 3"
    }
  },
  "cells": [
    {
      "cell_type": "markdown",
      "metadata": {
        "id": "view-in-github",
        "colab_type": "text"
      },
      "source": [
        "<a href=\"https://colab.research.google.com/github/thfruchart/tnsi-2020/blob/master/Chap08/CORRECTION/EXERCICES_Arbres_binaires.ipynb\" target=\"_parent\"><img src=\"https://colab.research.google.com/assets/colab-badge.svg\" alt=\"Open In Colab\"/></a>"
      ]
    },
    {
      "cell_type": "markdown",
      "metadata": {
        "id": "Vb2rlvmZoVyv"
      },
      "source": [
        "## Exercice 1"
      ]
    },
    {
      "cell_type": "markdown",
      "metadata": {
        "id": "NtPW-zvuoX9Q"
      },
      "source": [
        "Ecrire une fonction `affiche(a)` qui imprime un arbre binaire a sous la forme suivante :\n",
        "* pour un arbre vide, on n'imprime rien\n",
        "* pour un noeud, on imprime :\n",
        "  * un parenthèse ouvrante `(`\n",
        "  * le sous-arbre gauche (récursivement)\n",
        "  * la valeur du noeud\n",
        "  * le sous-arbre droit du noeud\n",
        "  * une parenthèse fermante `)`\n",
        "\n",
        "Par **exemple**, un arbre binaire de taille 4 tel que :\n",
        "* la racine R possède deux fils : \n",
        "  * D (à droite)\n",
        "  * G (à gauche)   qui possède lui même \n",
        "    * un fils droit F \n",
        "\n",
        "sera affiché : \n",
        "`((G(F))R(D))`"
      ]
    },
    {
      "cell_type": "code",
      "metadata": {
        "id": "kfuwruR_qWqe",
        "colab": {
          "base_uri": "https://localhost:8080/",
          "height": 35
        },
        "outputId": "7fbdaf57-bf34-4218-8dbb-033100d61a7c"
      },
      "source": [
        "class Noeud:\n",
        "    def __init__(self, g, v, d):\n",
        "        self.gauche = g\n",
        "        self.valeur = v        \n",
        "        self.droit  = d\n",
        "\n",
        "arb = Noeud(Noeud( None,'G' ,Noeud(None,'F', None) ) ,\"R\" , Noeud( None,'D' ,None ) )\n",
        "\n",
        "def affiche(a):\n",
        "    # cas de base\n",
        "    if a is None : \n",
        "        return ''\n",
        "    # appel récursif\n",
        "    else : \n",
        "        return '('+ affiche(a.gauche)+ str(a.valeur)+ affiche(a.droit)+')'\n",
        "\n",
        "affiche(arb)"
      ],
      "execution_count": 2,
      "outputs": [
        {
          "output_type": "execute_result",
          "data": {
            "application/vnd.google.colaboratory.intrinsic+json": {
              "type": "string"
            },
            "text/plain": [
              "'((G(F))R(D))'"
            ]
          },
          "metadata": {
            "tags": []
          },
          "execution_count": 2
        }
      ]
    },
    {
      "cell_type": "markdown",
      "metadata": {
        "id": "xY8ucGJFq36r"
      },
      "source": [
        "# Exercice 2\n",
        "\n",
        "1. Dessiner l'arbre binaire dont l'affichage avec la fonction de l'exercice précédent est : `(1((2)3))`\n",
        "2. Vérifier votre réponse en saisissant cet arbre dans un variable, et en l'affichant avec la fonction de l'exercice 1. \n"
      ]
    },
    {
      "cell_type": "code",
      "metadata": {
        "id": "2bz_RBBDLZSF",
        "outputId": "f017fc19-1e93-4cf1-ccfa-02751f65db6f",
        "colab": {
          "base_uri": "https://localhost:8080/",
          "height": 35
        }
      },
      "source": [
        "arb = Noeud( None,\n",
        "            1, \n",
        "            Noeud( Noeud(None ,\n",
        "                         2,\n",
        "                         None) ,\n",
        "                  3,\n",
        "                  None))\n",
        "affiche(arb)"
      ],
      "execution_count": 5,
      "outputs": [
        {
          "output_type": "execute_result",
          "data": {
            "application/vnd.google.colaboratory.intrinsic+json": {
              "type": "string"
            },
            "text/plain": [
              "'(1((2)3))'"
            ]
          },
          "metadata": {
            "tags": []
          },
          "execution_count": 5
        }
      ]
    },
    {
      "cell_type": "code",
      "metadata": {
        "id": "rb9DZ_HaNn2G"
      },
      "source": [
        "arb = Noeud(None,1,Noeud( Noeud(None,2,None) ,3,None))"
      ],
      "execution_count": null,
      "outputs": []
    },
    {
      "cell_type": "markdown",
      "metadata": {
        "id": "7CpRegOesHJX"
      },
      "source": [
        "# Exercice 3"
      ]
    },
    {
      "cell_type": "markdown",
      "metadata": {
        "id": "kdkVjgDysJQD"
      },
      "source": [
        "Ecrire une fonction identiques(a1, a2) qui permet de tester si les deux arbres a1 et a2 sont identiques. "
      ]
    },
    {
      "cell_type": "code",
      "metadata": {
        "id": "FKQajaubOEzl"
      },
      "source": [
        "def identiques(a1, a2) :\n",
        "    if a1 is None and a2 is None: \n",
        "        return True\n",
        "    elif a1 is None or a2 is None :\n",
        "        return False\n",
        "    if a1.valeur != a2.valeur : \n",
        "        return False \n",
        "    else : \n",
        "        return identiques(a1.droit, a2.droit) and identiques(a1.gauche, a2.gauche)"
      ],
      "execution_count": 6,
      "outputs": []
    },
    {
      "cell_type": "code",
      "metadata": {
        "id": "gXFnZ952Q9hn",
        "outputId": "2b3dd436-752a-4b8a-bcbe-52c7e8750e67",
        "colab": {
          "base_uri": "https://localhost:8080/"
        }
      },
      "source": [
        "a1 = Noeud(None,1,Noeud( Noeud(None,2,None) ,3,None))\n",
        "a2 = Noeud(None,1,Noeud( Noeud(None,2,None) ,3,None))\n",
        "a3 = Noeud(None,1,Noeud( Noeud(None,2,None) ,30,None))\n",
        "a4 = Noeud( Noeud(None,4,None),1,Noeud( Noeud(None,2,None) ,3,None))\n",
        "assert identiques(a1,a2)\n",
        "assert not identiques(a1,a3)\n",
        "assert not identiques(a1,a4)\n",
        "assert not identiques(a4,a1)\n",
        "print('test ok')"
      ],
      "execution_count": 9,
      "outputs": [
        {
          "output_type": "stream",
          "text": [
            "test ok\n"
          ],
          "name": "stdout"
        }
      ]
    },
    {
      "cell_type": "markdown",
      "metadata": {
        "id": "cN4HIQQjSL-g"
      },
      "source": [
        "autre syntaxe pour les cas de base"
      ]
    },
    {
      "cell_type": "code",
      "metadata": {
        "id": "3uB9Y0PuSLez"
      },
      "source": [
        "def identiques(a1, a2) :\n",
        "    if a1 is None : \n",
        "        return a2 is None\n",
        "    elif a2 is None: # a1 n'est pas None\n",
        "        return False\n",
        "    if a1.valeur != a2.valeur : \n",
        "        return False \n",
        "    else : \n",
        "        return identiques(a1.droit, a2.droit) and identiques(a1.gauche, a2.gauche)"
      ],
      "execution_count": null,
      "outputs": []
    },
    {
      "cell_type": "markdown",
      "metadata": {
        "id": "sQG4TQcAslQT"
      },
      "source": [
        "# Exercice 4"
      ]
    },
    {
      "cell_type": "markdown",
      "metadata": {
        "id": "qjdAoJKasm-F"
      },
      "source": [
        "Ecrire une fonction `miroir(a)` qui renvoie un nouvel arbre binaire, symétrique de `a` au sens où les sous-arbres gauche et droit de `a` sont inversés dans `miroir(a)`."
      ]
    },
    {
      "cell_type": "markdown",
      "metadata": {
        "id": "5rShG3k3tNRn"
      },
      "source": [
        "#### pour tester le code, on pourra utiliser l'affichage suivant :"
      ]
    },
    {
      "cell_type": "code",
      "metadata": {
        "id": "KWIFYAa1tLsq"
      },
      "source": [
        "def parcours_infixe_indent(arbre,n=0):\n",
        "    '''affiche le contenu d'un arbre :\n",
        "    - d'abord le sous-arbre droit, \n",
        "    - puis la racine, \n",
        "    - puis le sous-arbre gauche'''\n",
        "    if arbre is not None:\n",
        "        parcours_infixe_indent(arbre.droit,n+1)\n",
        "        print('    '*n+'-', arbre.valeur)\n",
        "        parcours_infixe_indent(arbre.gauche,n+1)"
      ],
      "execution_count": null,
      "outputs": []
    }
  ]
}