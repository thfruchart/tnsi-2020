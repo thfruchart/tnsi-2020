{
  "nbformat": 4,
  "nbformat_minor": 0,
  "metadata": {
    "colab": {
      "name": "Chap08_PRATIQUE.ipynb",
      "provenance": [],
      "authorship_tag": "ABX9TyP9fTBlwFf0CxY2DUBalQRz",
      "include_colab_link": true
    },
    "kernelspec": {
      "name": "python3",
      "display_name": "Python 3"
    }
  },
  "cells": [
    {
      "cell_type": "markdown",
      "metadata": {
        "id": "view-in-github",
        "colab_type": "text"
      },
      "source": [
        "<a href=\"https://colab.research.google.com/github/thfruchart/tnsi-2020/blob/master/Chap08/PRATIQUE.ipynb\" target=\"_parent\"><img src=\"https://colab.research.google.com/assets/colab-badge.svg\" alt=\"Open In Colab\"/></a>"
      ]
    },
    {
      "cell_type": "markdown",
      "metadata": {
        "id": "qk9opz81kDkT"
      },
      "source": [
        "# Parcours en largeur"
      ]
    },
    {
      "cell_type": "markdown",
      "metadata": {
        "id": "W8djdffLg1Rk"
      },
      "source": [
        "On donne le code ci-dessous"
      ]
    },
    {
      "cell_type": "code",
      "metadata": {
        "id": "4SI3SST7gqr0"
      },
      "source": [
        "class Noeud:\n",
        "    def __init__(self, g, v, d):\n",
        "        self.gauche = g\n",
        "        self.valeur = v        \n",
        "        self.droit  = d\n",
        "\n",
        "arbre1 = Noeud(Noeud(Noeud(None,'V',None),'R',None),'B',Noeud(Noeud(None,'O',None),'A',None))"
      ],
      "execution_count": null,
      "outputs": []
    },
    {
      "cell_type": "markdown",
      "metadata": {
        "id": "X96B0xQ2kIiP"
      },
      "source": [
        "Le but de l'exercice est de programmer le **parcours en largeur** sur un arbre binaire.\n",
        "\n",
        "Pour cela, on pourra utiliser une file, grâce au module `queue` présenté ci-dessous."
      ]
    },
    {
      "cell_type": "markdown",
      "metadata": {
        "id": "2d61YH27fdZ4"
      },
      "source": [
        "## Module `queue` pour implémenter les files"
      ]
    },
    {
      "cell_type": "markdown",
      "metadata": {
        "id": "e2ejvcaaf_jg"
      },
      "source": [
        "* `Queue()` crée une file vide\n",
        "* `Queue.put(item)` : met `item` dans la file\n",
        "* `Queue.get()` : retire et renvoie un élément de la file. \n",
        "* `Queue.empty()` : \n",
        "Renvoie True si la file est vide, False sinon.\n",
        "\n",
        "Voir exemple ci-dessous : "
      ]
    },
    {
      "cell_type": "code",
      "metadata": {
        "id": "fafB0PwIfmnn",
        "colab": {
          "base_uri": "https://localhost:8080/"
        },
        "outputId": "1cb25748-d29b-45d8-834c-f4b87a6170eb"
      },
      "source": [
        "from queue import Queue \n",
        "file = Queue() # file vide\n",
        "file.put(12)\n",
        "file.put(15)\n",
        "file.put(8)\n",
        "print(file.empty()) # la file est-elle vide ? Non !\n",
        "print(file.get())\n",
        "print(file.get())\n",
        "print(file.get())\n",
        "print(file.empty()) # la file est-elle vide ? Oui !"
      ],
      "execution_count": null,
      "outputs": [
        {
          "output_type": "stream",
          "text": [
            "False\n",
            "12\n",
            "15\n",
            "8\n",
            "True\n"
          ],
          "name": "stdout"
        }
      ]
    },
    {
      "cell_type": "markdown",
      "metadata": {
        "id": "WSUI68siiCwC"
      },
      "source": [
        "## Programmer une fonction `parcours_en_largeur(a)`\n",
        "* Cette fonction devra afficher la valeur de chaque noeud de l'arbre `a`, en suivant un parcours \"en largeur\n",
        "* on pourra utiliser le module `queue` pour manipuler une file."
      ]
    },
    {
      "cell_type": "code",
      "metadata": {
        "id": "641awhOgir3U"
      },
      "source": [
        "from queue import Queue\n",
        "\n"
      ],
      "execution_count": null,
      "outputs": []
    }
  ]
}