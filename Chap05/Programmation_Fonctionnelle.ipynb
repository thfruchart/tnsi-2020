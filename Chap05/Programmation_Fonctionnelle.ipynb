{
  "nbformat": 4,
  "nbformat_minor": 0,
  "metadata": {
    "colab": {
      "name": "05-Programmation_Fonctionnelle.ipynb",
      "provenance": [],
      "collapsed_sections": [
        "B4UD5bROfk98"
      ],
      "authorship_tag": "ABX9TyNSrMSI9+3lqro1f2DpkCvm",
      "include_colab_link": true
    },
    "kernelspec": {
      "name": "python3",
      "display_name": "Python 3"
    }
  },
  "cells": [
    {
      "cell_type": "markdown",
      "metadata": {
        "id": "view-in-github",
        "colab_type": "text"
      },
      "source": [
        "<a href=\"https://colab.research.google.com/github/thfruchart/tnsi-2020/blob/master/Chap05/Programmation_Fonctionnelle.ipynb\" target=\"_parent\"><img src=\"https://colab.research.google.com/assets/colab-badge.svg\" alt=\"Open In Colab\"/></a>"
      ]
    },
    {
      "cell_type": "markdown",
      "metadata": {
        "id": "aKlsFRuBfTUb"
      },
      "source": [
        "# Diversité des paradigmes de programmation"
      ]
    },
    {
      "cell_type": "markdown",
      "metadata": {
        "id": "B4UD5bROfk98"
      },
      "source": [
        "###Pourquoi n'existe-t-il pas un seul langage de programmation? \n",
        "\n",
        "Les besoins des programmeurs sont différents selon le type de programme qu'ils écrivent : \n",
        "* pour écrire un `driver` d'une carte graphique, il est utile de programmer certaines instructions en **assembleur**, pour être au plus près des possibilités du matériel. \n",
        "* pour gérer une base de donnée relationnelle, un langage de plus haut niveau est nécessaire : **SQL** sera étudié dans un prochain chapitre.\n",
        "* certains langages sont \"généralistes\", et permette de programmer un grand nombre d'applications. Python fait partie de ces langages généraliste, comme C++, Java... "
      ]
    },
    {
      "cell_type": "markdown",
      "metadata": {
        "id": "EpKb6PYSgd8r"
      },
      "source": [
        "### Quelques grandes familles de langages de programmation\n",
        "\n",
        "* Impératif\n",
        "* Orienté Objet\n",
        "* Fonctionnel\n",
        "* Concurrent\n",
        "* Événementiel\n",
        "* Orienté requêtes\n",
        "\n",
        "=> Le langage **JavaScript**, présenté en classe de première, permet d'utiliser la programmation **événementielle** : `onclick`, `onmouseover`, `onkeypressed`...\n",
        "\n",
        "=> **SQL** est un langage orienté **requêtes**. \n",
        "\n",
        "\n",
        "=> **Python** permet d'utiliser plusieurs de ces paradigmes :\n",
        "* **impératif** : en manipulant des variables, qui sont sont créées, puis modifiées en exécutant des instructions comme les boucles (while, for,...)\n",
        "* orienté **objet** : en définissant des objets possédant des attributs et des méthodes permettant de modifier certains attributs, etc... \n",
        "* programation **concurrente** (à voir dans un prochain chapitre) pour exécuter certaines instructions \"en parallèle\". \n",
        "* Certains modules de Python (comme `tkinter`) permettent une programmation **événementielle**.\n",
        "* Enfin , la programmation **fonctionnelle** est étudiée dans ce chapitre\n",
        "  * les fonctions y jouent un rôle essentiel\n",
        "  * dans le paradigme fonctionnel, les données non modifiables jouent un rôle central."
      ]
    },
    {
      "cell_type": "markdown",
      "metadata": {
        "id": "Ysw588UEfYTR"
      },
      "source": [
        "#Fonctions passées en argument"
      ]
    },
    {
      "cell_type": "markdown",
      "metadata": {
        "id": "fhLJlge2k12p"
      },
      "source": [
        "En Python, il est possible de passer en argument des variables, mais aussi des fonctions !\n",
        "\n",
        "Voir l'exemple ci-dessous."
      ]
    },
    {
      "cell_type": "code",
      "metadata": {
        "id": "WczE723VlINr"
      },
      "source": [
        "def tri(t):\n",
        "    ''' trie le tableau t en place, par sélection'''\n",
        "    for i in range(len(t)-1):\n",
        "        m = i\n",
        "        for j in range(i + 1, len(t)):\n",
        "            if t[j] < t[m]:\n",
        "                m = j\n",
        "        t[i],t[m] = t[m],t[i]\n",
        "    \n",
        "\n",
        "t = [('John', 2002), ('Brian', 2001), ('Liz',2000),('Ann',2004)]\n"
      ],
      "execution_count": null,
      "outputs": []
    },
    {
      "cell_type": "markdown",
      "metadata": {
        "id": "1xuagXG4l_nI"
      },
      "source": [
        "Qu'affichera le programme suivant?"
      ]
    },
    {
      "cell_type": "code",
      "metadata": {
        "id": "aSvFT9cvmDW9",
        "outputId": "e618e96d-d834-499e-ecda-c4206f4fe2bb",
        "colab": {
          "base_uri": "https://localhost:8080/",
          "height": 34
        }
      },
      "source": [
        "tri(t)\n",
        "print(t)"
      ],
      "execution_count": null,
      "outputs": [
        {
          "output_type": "stream",
          "text": [
            "[('Ann', 2004), ('Brian', 2001), ('John', 2002), ('Liz', 2000)]\n"
          ],
          "name": "stdout"
        }
      ]
    },
    {
      "cell_type": "markdown",
      "metadata": {
        "id": "TN0OLvpjmKBF"
      },
      "source": [
        "Comment faire en sorte que les éléments du tableau soient triés par année de naissance ?\n",
        "\n",
        "* modifier le code de la fonction tri\n",
        "  * `t[j] < t[m]` remplacé par `t[j][1] < t[m][1]`\n",
        "\n",
        "\n",
        "\n",
        "* inconvénient : la fonction tri ne peut plus fonctionner pour d'autres utilisations"
      ]
    },
    {
      "cell_type": "markdown",
      "metadata": {
        "id": "WuD2YshanSWs"
      },
      "source": [
        "On présente ci-dessous une autre solution, utilisant la programmation fonctionnelle."
      ]
    },
    {
      "cell_type": "code",
      "metadata": {
        "id": "-t443vDpnaY5"
      },
      "source": [
        "def tri(t, f): # ajout d'un paramètre f\n",
        "    ''' trie le tableau t en place, par sélection, \n",
        "    en appliquant la fonction f aux valeurs du tableau'''\n",
        "    for i in range(len(t)-1):\n",
        "        m = i\n",
        "        for j in range(i + 1, len(t)):\n",
        "            if f(t[j]) < f(t[m]):  # comparaison avec la fonction f \n",
        "                m = j\n",
        "        t[i],t[m] = t[m],t[i]\n",
        "\n",
        "def deuxieme_elt(x :tuple)->int:\n",
        "    '''renvoie le deuxième élément d'un tuple'''\n",
        "    return x[1]\n",
        "\n",
        "\n",
        "t = [('John', 2002), ('Brian', 2001), ('Liz',2000),('Ann',2004)]\n",
        "\n"
      ],
      "execution_count": null,
      "outputs": []
    },
    {
      "cell_type": "markdown",
      "metadata": {
        "id": "1TkxgwTvoNzy"
      },
      "source": [
        "Pour trier le tableau t, suivant l'année de naissance qui est stockée dans le deuxième élément de chaque tuple, il suffit d'écrire :"
      ]
    },
    {
      "cell_type": "code",
      "metadata": {
        "id": "qqLhD1j1oWFj",
        "outputId": "13b3cd00-697d-4278-e7a7-c91fd91f70a0",
        "colab": {
          "base_uri": "https://localhost:8080/",
          "height": 34
        }
      },
      "source": [
        "tri(t, deuxieme_elt)\n",
        "print(t)"
      ],
      "execution_count": null,
      "outputs": [
        {
          "output_type": "stream",
          "text": [
            "[('Liz', 2000), ('Brian', 2001), ('John', 2002), ('Ann', 2004)]\n"
          ],
          "name": "stdout"
        }
      ]
    },
    {
      "cell_type": "markdown",
      "metadata": {
        "id": "6emxW5hip-Jk"
      },
      "source": [
        "## fonction anonyme : la commande `lambda`"
      ]
    },
    {
      "cell_type": "markdown",
      "metadata": {
        "id": "njfyN1E0qGan"
      },
      "source": [
        "Python permet de définir une fonction anonyme sans utiliser la commande `def`.\n",
        "\n",
        "Voyons sur un exemple comment faire avec la commande `lambda`"
      ]
    },
    {
      "cell_type": "code",
      "metadata": {
        "id": "RojNdh9UqVZ7",
        "outputId": "de075f85-44e6-40a3-874b-42e04a6e167d",
        "colab": {
          "base_uri": "https://localhost:8080/",
          "height": 34
        }
      },
      "source": [
        "lambda x : x+1"
      ],
      "execution_count": null,
      "outputs": [
        {
          "output_type": "execute_result",
          "data": {
            "text/plain": [
              "<function __main__.<lambda>>"
            ]
          },
          "metadata": {
            "tags": []
          },
          "execution_count": 11
        }
      ]
    },
    {
      "cell_type": "code",
      "metadata": {
        "id": "QqgJghktqZZ5",
        "outputId": "60756dd9-16b8-440c-f991-5b92fc7c95a0",
        "colab": {
          "base_uri": "https://localhost:8080/",
          "height": 34
        }
      },
      "source": [
        "f = lambda x : x+1\n",
        "print(f(5))"
      ],
      "execution_count": null,
      "outputs": [
        {
          "output_type": "stream",
          "text": [
            "6\n"
          ],
          "name": "stdout"
        }
      ]
    },
    {
      "cell_type": "markdown",
      "metadata": {
        "id": "I2jTbOR4qoJe"
      },
      "source": [
        "### Syntaxe : \n",
        "\n",
        "`lambda variable(s) : valeur`\n",
        "\n",
        "* le mot clé lambda sert à définir une fonction anonyme\n",
        "* les deux poins ` : ` séparent\n",
        "  * la ou les **paramètres** de la fonction\n",
        "  * la valeur **renvoyée** par la fonction"
      ]
    },
    {
      "cell_type": "markdown",
      "metadata": {
        "id": "4Eh3ZwairHfH"
      },
      "source": [
        "Exemple : la fonction deuxième élément \n",
        "\n",
        "    def deuxieme_elt(x:tuple)->int:\n",
        "        '''renvoie le deuxième élément d'un tuple'''\n",
        "        return x[1]\n",
        "pourrait s'écrire : \n",
        "\n"
      ]
    },
    {
      "cell_type": "code",
      "metadata": {
        "id": "yMGpKHu5rW12"
      },
      "source": [
        "lambda x : x[1] "
      ],
      "execution_count": null,
      "outputs": []
    },
    {
      "cell_type": "markdown",
      "metadata": {
        "id": "yDI0YS_YrbBv"
      },
      "source": [
        "[=> Activité Papier](https://github.com/thfruchart/tnsi-2020/blob/master/Chap05/ACTIVIT%C3%89_PAPIER_1.ipynb)"
      ]
    },
    {
      "cell_type": "markdown",
      "metadata": {
        "id": "_4bviyuCHbqG"
      },
      "source": [
        "### fonction tri avec argument nommé par défaut"
      ]
    },
    {
      "cell_type": "code",
      "metadata": {
        "id": "yEG0o0tEHgMJ",
        "outputId": "1361cb05-4a5a-4224-f445-9222facd634a",
        "colab": {
          "base_uri": "https://localhost:8080/",
          "height": 50
        }
      },
      "source": [
        "def tri(t, f = lambda x:x): # argument f par défaut\n",
        "    ''' trie le tableau t en place, par sélection, \n",
        "    en appliquant la fonction f aux valeurs du tableau'''\n",
        "    for i in range(len(t)-1):\n",
        "        m = i\n",
        "        for j in range(i + 1, len(t)):\n",
        "            if f(t[j]) < f(t[m]):  # comparaison avec la fonction f \n",
        "                m = j\n",
        "        t[i],t[m] = t[m],t[i]\n",
        "\n",
        "def deuxieme_elt(t:tuple)->int:\n",
        "    '''renvoie le deuxième élément d'un tuple'''\n",
        "    return t[1]\n",
        "\n",
        "\n",
        "t = [('John', 2002), ('Brian', 2001), ('Liz',2000),('Ann',2004)]\n",
        "# tri par année de naissance\n",
        "tri(t,deuxieme_elt)  # ou tri(t,lambda x:x[1])\n",
        "print(t)\n",
        "\n",
        "# tri par ordre alphabétique de prénom\n",
        "tri(t)\n",
        "print(t)"
      ],
      "execution_count": 13,
      "outputs": [
        {
          "output_type": "stream",
          "text": [
            "[('Liz', 2000), ('Brian', 2001), ('John', 2002), ('Ann', 2004)]\n",
            "[('Ann', 2004), ('Brian', 2001), ('John', 2002), ('Liz', 2000)]\n"
          ],
          "name": "stdout"
        }
      ]
    },
    {
      "cell_type": "code",
      "metadata": {
        "id": "2AoeTR6CtL7Q"
      },
      "source": [
        ""
      ],
      "execution_count": null,
      "outputs": []
    },
    {
      "cell_type": "markdown",
      "metadata": {
        "id": "RASoZfOqGRyz"
      },
      "source": [
        "Un exemple : fonction dérivée approchée par le taux d'accroissement"
      ]
    },
    {
      "cell_type": "code",
      "metadata": {
        "id": "NcCZTQl5GaOy"
      },
      "source": [
        "def derive(f):\n",
        "    h = 1e-7\n",
        "    return lambda x : (f(x+h) - f(x))/h \n",
        "\n",
        "\n",
        "def carre(x):\n",
        "    return x**2\n",
        "\n"
      ],
      "execution_count": null,
      "outputs": []
    },
    {
      "cell_type": "code",
      "metadata": {
        "id": "bDdBTIhIGgpW",
        "outputId": "529c1107-281e-4111-e0f7-5b053497f322",
        "colab": {
          "base_uri": "https://localhost:8080/"
        }
      },
      "source": [
        "g = derive(carre)\n",
        "print(g(3))"
      ],
      "execution_count": null,
      "outputs": [
        {
          "output_type": "stream",
          "text": [
            "6.000000087880153\n"
          ],
          "name": "stdout"
        }
      ]
    },
    {
      "cell_type": "markdown",
      "metadata": {
        "id": "xn18BL8dfh06"
      },
      "source": [
        "# Structures de données immuables"
      ]
    },
    {
      "cell_type": "markdown",
      "metadata": {
        "id": "ogDazUq0JdAQ"
      },
      "source": [
        "En programmation **impérative**, certaines commandes **modifient** les données qu'elles traitent. Ces données peuvent être des entiers, tableaux, dictionnaires...  \n",
        "* t[i] = t[i]+1\n",
        "* t.append(5)\n",
        "* t.sort()\n",
        "\n",
        "On dit que ces données sont **mutables**. \n",
        "\n",
        "Au contraire, en programmation **fonctionnelle**, l'exécution d'une fonction ne modifie pas les données manipulées, mais calcule un **nouveau résultat.** "
      ]
    },
    {
      "cell_type": "markdown",
      "metadata": {
        "id": "NlAMRok7KtM_"
      },
      "source": [
        "Exemple de spécification et d'utilisation d'opérations sur les ensembles\n",
        "\n",
        "### paradigme impératif\n",
        "|fonction           |description|\n",
        "| :--------------- :| :-------- :|\n",
        "|  `cree_ensemble()` |  crée un ensemble vide de dates|\n",
        "| `ajoute(v,s)`      | ajoute la date `v` dans l'ensemble `s`|\n",
        "\n",
        "\n",
        "    s = cree_ensemble()\n",
        "    ajoute(5,s)\n",
        "    ajoute(6,s)\n"
      ]
    },
    {
      "cell_type": "markdown",
      "metadata": {
        "id": "6YqqUlplN0X4"
      },
      "source": [
        "\n",
        "### paradigme fonctionnel\n",
        "|fonction           |description|\n",
        "| :--------------- :| :-------- :|\n",
        "|  `cree_ensemble()` |  crée un ensemble vide de dates|\n",
        "| `ajoute(v,s)`      | renvoie un nouvel ensemble contenant la date `v` ainsi que tous les éléments de l'ensemble `s`|\n",
        "\n",
        "\n",
        "    s = cree_ensemble()\n",
        "    s = ajoute(5,s)\n",
        "    s = ajoute(6,s)"
      ]
    },
    {
      "cell_type": "markdown",
      "metadata": {
        "id": "B6_SSGhaMEGY"
      },
      "source": [
        "Remarque : la programmation orientée objet permet de choisir la manière de traiter les données : mutables ou immuables. \n",
        "\n",
        "Par exemple, pour définir l'union de deux ensembles, on écrira\n",
        "`a.union(b)`\n",
        "\n",
        "* données **immuables** :  les ensembles a et b ne seront pas modifiés par l'exécution de `a.union(b)`. Au contraire, cette méthode devra renvoyer un nouvel ensemble contenant tous les élements de a réunis avec ceux de b. \n",
        "* données **mutables** :  il est possible que l'exécution de `a.union(b)` ajoute les éléments de `b` directement dans l'ensemble `a`, qui s'en trouve modifié. \n",
        "  * ceci n'est pas sans inconvénient... par exemple lorsqu'il s'agit de tester si `a.union(b.union(c))==c.union(b.union(a))`"
      ]
    },
    {
      "cell_type": "markdown",
      "metadata": {
        "id": "ZAt0LMT8ON49"
      },
      "source": [
        "## Python permet de mélanger les paradigmes\n",
        "\n",
        "Suivant les cas, les programmeurs peuvent choirir un paradigme plutôt qu'un autre. Notons que python propose, pour le type `list`, les méthodes suivantes : \n",
        "\n",
        "* `t.sort()`\n",
        "* `sorted(t)`"
      ]
    },
    {
      "cell_type": "code",
      "metadata": {
        "id": "z97I93sEOliI",
        "outputId": "2a82b917-cef6-4fea-a887-ae46fe9a6385",
        "colab": {
          "base_uri": "https://localhost:8080/"
        }
      },
      "source": [
        "t = [30,20,50]\n",
        "print(t.sort())\n",
        "print(t)"
      ],
      "execution_count": null,
      "outputs": [
        {
          "output_type": "stream",
          "text": [
            "None\n",
            "[20, 30, 50]\n"
          ],
          "name": "stdout"
        }
      ]
    },
    {
      "cell_type": "code",
      "metadata": {
        "id": "qJKF8ctGOq_-",
        "outputId": "41209292-b124-48ae-ad00-676adc7e4808",
        "colab": {
          "base_uri": "https://localhost:8080/"
        }
      },
      "source": [
        "t = [30,20,50]\n",
        "print(sorted(t))\n",
        "print(t)"
      ],
      "execution_count": null,
      "outputs": [
        {
          "output_type": "stream",
          "text": [
            "[20, 30, 50]\n",
            "[30, 20, 50]\n"
          ],
          "name": "stdout"
        }
      ]
    }
  ]
}