{
  "nbformat": 4,
  "nbformat_minor": 0,
  "metadata": {
    "colab": {
      "name": "05-ACTIVITÉ-PAPIER-1.ipynb",
      "provenance": [],
      "collapsed_sections": [],
      "authorship_tag": "ABX9TyNw9gn7UodlGbC0NaHkQC6F",
      "include_colab_link": true
    },
    "kernelspec": {
      "name": "python3",
      "display_name": "Python 3"
    }
  },
  "cells": [
    {
      "cell_type": "markdown",
      "metadata": {
        "id": "view-in-github",
        "colab_type": "text"
      },
      "source": [
        "<a href=\"https://colab.research.google.com/github/thfruchart/tnsi-2020/blob/master/Chap05/ACTIVIT%C3%89_PAPIER_1.ipynb\" target=\"_parent\"><img src=\"https://colab.research.google.com/assets/colab-badge.svg\" alt=\"Open In Colab\"/></a>"
      ]
    },
    {
      "cell_type": "markdown",
      "metadata": {
        "id": "eVgxa72qriew"
      },
      "source": [
        "## Activité papier : programmation fonctionnelle\n",
        "\n",
        "Déterminer la valeur qui sera affiché dans chacun des cas suivants"
      ]
    },
    {
      "cell_type": "markdown",
      "metadata": {
        "id": "rTyxpTcEtZVP"
      },
      "source": [
        "### [ex 1](http://www.pythontutor.com/visualize.html#code=def%20calc%28t,%20op%29%3A%0A%20%20%20%20'''calcule%20t%5B0%5D%20op%20t%5B1%5D%20op%20...%20op%20t%5Blen%28t%29-1%5D%0A%20%20%20%20le%20tableau%20t%20est%20suppos%C3%A9%20non%20vide'''%0A%20%20%20%20v%20%3D%20t%5B0%5D%0A%20%20%20%20for%20i%20in%20range%281,%20len%28t%29%29%3A%0A%20%20%20%20%20%20%20%20v%20%3D%20op%28v,%20t%5Bi%5D%29%0A%20%20%20%20return%20v%0A%0Adef%20max%28a,b%29%3A%0A%20%20%20%20if%20a%3Eb%3A%0A%20%20%20%20%20%20%20%20return%20a%0A%20%20%20%20return%20b%0A%0At%20%3D%20%5B10,20,30,40%5D%0A%0Aprint%28calc%28t,%20max%29%29&cumulative=false&curInstr=0&heapPrimitives=nevernest&mode=display&origin=opt-frontend.js&py=3&rawInputLstJSON=%5B%5D&textReferences=false)"
      ]
    },
    {
      "cell_type": "code",
      "metadata": {
        "id": "vnuwxKtkrhsF",
        "outputId": "8ef5f448-14b5-405f-9bb0-a4a18338b504",
        "colab": {
          "base_uri": "https://localhost:8080/",
          "height": 34
        }
      },
      "source": [
        "def calc(t, op):\n",
        "    '''calcule t[0] op t[1] op ... op t[len(t)-1]\n",
        "    le tableau t est supposé non vide'''\n",
        "    v = t[0]\n",
        "    for i in range(1, len(t)):\n",
        "        v = op(v, t[i])\n",
        "    return v\n",
        "\n",
        "def max(a,b):\n",
        "    if a>b:\n",
        "        return a\n",
        "    return b\n",
        "\n",
        "t = [10,20,30,40]\n",
        "\n",
        "print(calc(t, max))"
      ],
      "execution_count": 1,
      "outputs": [
        {
          "output_type": "stream",
          "text": [
            "40\n"
          ],
          "name": "stdout"
        }
      ]
    },
    {
      "cell_type": "markdown",
      "metadata": {
        "id": "kn742nLStijD"
      },
      "source": [
        "### [ex 2](http://www.pythontutor.com/visualize.html#code=def%20calc%28t,%20op%29%3A%0A%20%20%20%20'''calcule%20t%5B0%5D%20op%20t%5B1%5D%20op%20...%20op%20t%5Blen%28t%29-1%5D%0A%20%20%20%20le%20tableau%20t%20est%20suppos%C3%A9%20non%20vide'''%0A%20%20%20%20v%20%3D%20t%5B0%5D%0A%20%20%20%20for%20i%20in%20range%281,%20len%28t%29%29%3A%0A%20%20%20%20%20%20%20%20v%20%3D%20op%28v,%20t%5Bi%5D%29%0A%20%20%20%20return%20v%0A%0At%20%3D%20%5B10,20,30,40%5D%0A%0Aprint%28calc%28t,%20lambda%20x,y%20%3A%20x%2By%29%29&cumulative=false&curInstr=0&heapPrimitives=nevernest&mode=display&origin=opt-frontend.js&py=3&rawInputLstJSON=%5B%5D&textReferences=false)"
      ]
    },
    {
      "cell_type": "code",
      "metadata": {
        "id": "FR43hGU8sjYe"
      },
      "source": [
        "def calc(t, op):\n",
        "    '''calcule t[0] op t[1] op ... op t[len(t)-1]\n",
        "    le tableau t est supposé non vide'''\n",
        "    v = t[0]\n",
        "    for i in range(1, len(t)):\n",
        "        v = op(v, t[i])\n",
        "    return v\n",
        "\n",
        "t = [10,20,30,40]\n",
        "\n",
        "print(calc(t, lambda x,y : x+y))"
      ],
      "execution_count": null,
      "outputs": []
    },
    {
      "cell_type": "markdown",
      "metadata": {
        "id": "M9nmjA3ntj5e"
      },
      "source": [
        "### [ex 3](http://www.pythontutor.com/visualize.html#code=def%20calc%28t,%20op%29%3A%0A%20%20%20%20'''calcule%20t%5B0%5D%20op%20t%5B1%5D%20op%20...%20op%20t%5Blen%28t%29-1%5D%0A%20%20%20%20le%20tableau%20t%20est%20suppos%C3%A9%20non%20vide'''%0A%20%20%20%20v%20%3D%20t%5B0%5D%0A%20%20%20%20for%20i%20in%20range%281,%20len%28t%29%29%3A%0A%20%20%20%20%20%20%20%20v%20%3D%20op%28v,%20t%5Bi%5D%29%0A%20%20%20%20return%20v%0A%0At%20%3D%20%5B10,20,30,40%5D%0A%0Aprint%28calc%28t,%20lambda%20x,y%20%3A%20y-x%29%29&cumulative=false&curInstr=0&heapPrimitives=nevernest&mode=display&origin=opt-frontend.js&py=3&rawInputLstJSON=%5B%5D&textReferences=false)"
      ]
    },
    {
      "cell_type": "code",
      "metadata": {
        "id": "VW0KS-rGsyxa",
        "outputId": "bcdbb9b8-541e-4538-9762-d76fad8a0d3c",
        "colab": {
          "base_uri": "https://localhost:8080/",
          "height": 34
        }
      },
      "source": [
        "print(calc(t, lambda x,y : y-x))"
      ],
      "execution_count": 3,
      "outputs": [
        {
          "output_type": "stream",
          "text": [
            "20\n"
          ],
          "name": "stdout"
        }
      ]
    },
    {
      "cell_type": "markdown",
      "metadata": {
        "id": "DFvkwIqGtlES"
      },
      "source": [
        "### [ex 4](http://www.pythontutor.com/visualize.html#code=def%20calc%28t,%20op%29%3A%0A%20%20%20%20'''calcule%20t%5B0%5D%20op%20t%5B1%5D%20op%20...%20op%20t%5Blen%28t%29-1%5D%0A%20%20%20%20le%20tableau%20t%20est%20suppos%C3%A9%20non%20vide'''%0A%20%20%20%20v%20%3D%20t%5B0%5D%0A%20%20%20%20for%20i%20in%20range%281,%20len%28t%29%29%3A%0A%20%20%20%20%20%20%20%20v%20%3D%20op%28v,%20t%5Bi%5D%29%0A%20%20%20%20return%20v%0A%0At%20%3D%20%5B10,20,30,40%5D%0A%0Aprint%28calc%28t,%20lambda%20x,y%20%3A%20x*y%29%29&cumulative=false&curInstr=0&heapPrimitives=nevernest&mode=display&origin=opt-frontend.js&py=3&rawInputLstJSON=%5B%5D&textReferences=false)"
      ]
    },
    {
      "cell_type": "code",
      "metadata": {
        "id": "A2vV5H_etIKq",
        "outputId": "55967934-1099-43ce-a879-927b277ec2c4",
        "colab": {
          "base_uri": "https://localhost:8080/",
          "height": 34
        }
      },
      "source": [
        "print(calc(t, lambda x,y : x*y))"
      ],
      "execution_count": 2,
      "outputs": [
        {
          "output_type": "stream",
          "text": [
            "240000\n"
          ],
          "name": "stdout"
        }
      ]
    }
  ]
}