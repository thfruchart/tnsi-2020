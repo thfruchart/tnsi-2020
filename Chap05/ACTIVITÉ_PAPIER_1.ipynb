{
  "nbformat": 4,
  "nbformat_minor": 0,
  "metadata": {
    "colab": {
      "name": "05-ACTIVITÉ-PAPIER-1.ipynb",
      "provenance": [],
      "collapsed_sections": [],
      "authorship_tag": "ABX9TyORMDnUcPxwbJJpe7SycExO",
      "include_colab_link": true
    },
    "kernelspec": {
      "name": "python3",
      "display_name": "Python 3"
    }
  },
  "cells": [
    {
      "cell_type": "markdown",
      "metadata": {
        "id": "view-in-github",
        "colab_type": "text"
      },
      "source": [
        "<a href=\"https://colab.research.google.com/github/thfruchart/tnsi-2020/blob/master/Chap05/ACTIVIT%C3%89_PAPIER_1.ipynb\" target=\"_parent\"><img src=\"https://colab.research.google.com/assets/colab-badge.svg\" alt=\"Open In Colab\"/></a>"
      ]
    },
    {
      "cell_type": "markdown",
      "metadata": {
        "id": "eVgxa72qriew"
      },
      "source": [
        "## Activité papier : programmation fonctionnelle\n",
        "\n",
        "Déterminer la valeur qui sera affiché dans chacun des cas suivants"
      ]
    },
    {
      "cell_type": "markdown",
      "metadata": {
        "id": "rTyxpTcEtZVP"
      },
      "source": [
        "### ex 1"
      ]
    },
    {
      "cell_type": "code",
      "metadata": {
        "id": "vnuwxKtkrhsF"
      },
      "source": [
        "def calc(t, op):\n",
        "    '''calcule t[0] op t[1] op ... op t[len(t)-1]\n",
        "    le tableau t est supposé non vide'''\n",
        "    v = t[0]\n",
        "    for i in range(1, len(t)):\n",
        "        v = op(v, t[i])\n",
        "    return v\n",
        "\n",
        "def max(a,b):\n",
        "    if a>b:\n",
        "        return a\n",
        "    return b\n",
        "\n",
        "t = [10,20,30,40]\n",
        "\n",
        "print(calc(t, max))"
      ],
      "execution_count": null,
      "outputs": []
    },
    {
      "cell_type": "markdown",
      "metadata": {
        "id": "kn742nLStijD"
      },
      "source": [
        "### ex 2"
      ]
    },
    {
      "cell_type": "code",
      "metadata": {
        "id": "FR43hGU8sjYe"
      },
      "source": [
        "def calc(t, op):\n",
        "    '''calcule t[0] op t[1] op ... op t[len(t)-1]\n",
        "    le tableau t est supposé non vide'''\n",
        "    v = t[0]\n",
        "    for i in range(1, len(t)):\n",
        "        v = op(v, t[i])\n",
        "    return v\n",
        "\n",
        "t = [10,20,30,40]\n",
        "\n",
        "print(calc(t, lambda x,y : x+y))"
      ],
      "execution_count": null,
      "outputs": []
    },
    {
      "cell_type": "markdown",
      "metadata": {
        "id": "M9nmjA3ntj5e"
      },
      "source": [
        "### ex 3"
      ]
    },
    {
      "cell_type": "code",
      "metadata": {
        "id": "VW0KS-rGsyxa"
      },
      "source": [
        "print(calc(t, lambda x,y : y-x))"
      ],
      "execution_count": null,
      "outputs": []
    },
    {
      "cell_type": "markdown",
      "metadata": {
        "id": "DFvkwIqGtlES"
      },
      "source": [
        "### ex 4"
      ]
    },
    {
      "cell_type": "code",
      "metadata": {
        "id": "A2vV5H_etIKq"
      },
      "source": [
        "print(calc(t, lambda x,y : x*y))"
      ],
      "execution_count": null,
      "outputs": []
    }
  ]
}