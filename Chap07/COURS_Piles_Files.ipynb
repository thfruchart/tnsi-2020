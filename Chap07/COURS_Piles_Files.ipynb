{
  "nbformat": 4,
  "nbformat_minor": 0,
  "metadata": {
    "colab": {
      "name": "07_Piles_Files.ipynb",
      "provenance": [],
      "collapsed_sections": [
        "v_vBKLolVHnY"
      ],
      "authorship_tag": "ABX9TyP6t4TSI+OA/vWsSjbCe+13",
      "include_colab_link": true
    },
    "kernelspec": {
      "name": "python3",
      "display_name": "Python 3"
    }
  },
  "cells": [
    {
      "cell_type": "markdown",
      "metadata": {
        "id": "view-in-github",
        "colab_type": "text"
      },
      "source": [
        "<a href=\"https://colab.research.google.com/github/thfruchart/tnsi-2020/blob/master/Chap07/COURS_Piles_Files.ipynb\" target=\"_parent\"><img src=\"https://colab.research.google.com/assets/colab-badge.svg\" alt=\"Open In Colab\"/></a>"
      ]
    },
    {
      "cell_type": "markdown",
      "metadata": {
        "id": "qjqNDwrnf6od"
      },
      "source": [
        "# Introduction"
      ]
    },
    {
      "cell_type": "markdown",
      "metadata": {
        "id": "dsWJbAXWf9Fn"
      },
      "source": [
        "Dans le chapitre sur les structures linéaires, nous avons présenté les listes chaînées. \n",
        "\n",
        "Nous avons programmé des opérations permettant d'ajouter un élément à une liste chaînée, mais pas d'en retirer. \n",
        "\n",
        "En effet, il y a plusieurs manières de retirer un élément d'une liste... ce qui conduit naturellement à définir deux autres structures linéaires : les piles et les files. "
      ]
    },
    {
      "cell_type": "markdown",
      "metadata": {
        "id": "qv4JzNWYWzQm"
      },
      "source": [
        "# Notion de **pile**"
      ]
    },
    {
      "cell_type": "markdown",
      "metadata": {
        "id": "w92npa5GWvAm"
      },
      "source": [
        "\n",
        "On retrouve dans les piles une partie des propriétés vues sur les listes. Dans les piles, il est uniquement possible de manipuler le dernier élément introduit dans la pile. On prend souvent l'analogie avec une pile d'assiettes : dans une pile d'assiettes la seule assiette directement accessible et la dernière assiette qui a été déposée sur la pile.\n",
        "\n",
        "![Impage de pile](https://pixees.fr/informatiquelycee/n_site/img/nsi_term_structDo_liste_1.png)\n",
        "\n",
        "[source](https://pixees.fr/informatiquelycee/n_site/nsi_term_structDo_liste.html)"
      ]
    },
    {
      "cell_type": "markdown",
      "metadata": {
        "id": "aAxyfMKhXeQh"
      },
      "source": [
        "Les piles sont basées sur le principe **LIFO** (Last In First Out : le dernier rentré sera le premier à sortir).\n",
        "\n",
        "\n",
        "Voici les opérations que l'on peut réaliser sur une pile :\n",
        "\n",
        "* on peut savoir si une pile est vide (pile_vide)\n",
        "* on peut empiler un nouvel élément sur la pile (push)\n",
        "* on peut récupérer l'élément au sommet de la pile tout en le supprimant. On dit que l'on dépile (pop)\n",
        "* on peut accéder à l'élément situé au sommet de la pile sans le supprimer de la pile (sommet)\n",
        "* on peut connaitre le nombre d'éléments présents dans la pile (taille)"
      ]
    },
    {
      "cell_type": "markdown",
      "metadata": {
        "id": "DfSZL5t_Xwyw"
      },
      "source": [
        "\n",
        "### Exemples :\n",
        "\n",
        "Soit une pile P composée des éléments suivants : 12, 14, 8, 7, 19 et 22 (le sommet de la pile est 22) \n",
        "\n",
        "Pour chaque exemple ci-dessous on repart de la pile d'origine :\n",
        "\n",
        "* sommet(P) renvoie 22, la pile P n'est pas modifiée\n",
        "\n",
        "* pop(P) renvoie 22 et la pile P est maintenant composée des éléments suivants : 12, 14, 8, 7 et 19 (le sommet de la pile est 19)\n",
        "* après avoir appliqué pop(P) une fois, taille(P) renvoie 5\n",
        "\n",
        "\n",
        "* si on applique pop(P) 6 fois de suite, pile_vide(P) renvoie vrai\n",
        "\n",
        "* push(P,42) la pile P est maintenant composée des éléments suivants : 12, 14, 8, 7, 19, 22 et 42\n"
      ]
    },
    {
      "cell_type": "markdown",
      "metadata": {
        "id": "ZyMQq-fLYZX9"
      },
      "source": [
        "# Notion de **file**"
      ]
    },
    {
      "cell_type": "markdown",
      "metadata": {
        "id": "B97u0jUuYiYf"
      },
      "source": [
        "Comme les piles, les files ont des points communs avec les listes. \n",
        "\n",
        "Différences majeures : dans une file on ajoute des éléments à une extrémité de la file et on supprime des éléments à l'autre extrémité. \n",
        "\n",
        "\n",
        "On prend souvent l'analogie de la file d'attente devant un magasin pour décrire une file de données.\n",
        "\n",
        "![image d'une file](https://pixees.fr/informatiquelycee/n_site/img/nsi_term_structDo_liste_2.png)\n",
        "\n",
        "[source](https://pixees.fr/informatiquelycee/n_site/nsi_term_structDo_liste.html)"
      ]
    },
    {
      "cell_type": "markdown",
      "metadata": {
        "id": "RRd2YqD6ZScJ"
      },
      "source": [
        "Les files sont basées sur le principe **FIFO** (First In First Out : le premier qui est rentré sera le premier à sortir. \n",
        "\n",
        "Voici les opérations que l'on peut réaliser sur une file :\n",
        "\n",
        "* on peut savoir si une file est vide (file_vide)\n",
        "* on peut ajouter un nouvel élément à la file (ajout)\n",
        "* on peut récupérer l'élément situé en bout de file tout en le supprimant (retire)\n",
        "* on peut accéder à l'élément situé en bout de file sans le supprimer de la file (premier)\n",
        "* on peut connaitre le nombre d'éléments présents dans la file (taille)"
      ]
    },
    {
      "cell_type": "markdown",
      "metadata": {
        "id": "IpKn0h_wZt4a"
      },
      "source": [
        "### Exemples : \n",
        "\n",
        "Soit une file F composée des éléments suivants : 12, 14, 8, 7, 19 et 22 (le premier élément rentré dans la file est 12 ; le dernier élément rentré dans la file est 22). \n",
        "\n",
        "Pour chaque exemple ci-dessous on repart de la file d'origine :\n",
        "* premier(F) renvoie 12, la file F n'est pas modifiée\n",
        "\n",
        "* retire(F) la file F est maintenant composée des éléments suivants : 14, 8, 7, 19 et 22 (le premier élément rentré dans la file est 14 ; le dernier élément rentré dans la file est 22)\n",
        "\n",
        "* après avoir appliqué retire(F) une fois, taille(F) renvoie 5.\n",
        "\n",
        "* ajout(F,42) la file F est maintenant composée des éléments suivants : 12, 14, 8, 7, 19, 22 et 42 (le premier élément rentré dans la file est 12; le dernier élément rentré dans la file est 42)\n",
        "\n",
        "\n",
        "* si on applique retire(F) 6 fois de suite, file_vide(F) renvoie vrai\n"
      ]
    },
    {
      "cell_type": "markdown",
      "metadata": {
        "id": "vR_uVAwLci4U"
      },
      "source": [
        "# Réalisation d'une **pile** avec une liste chaînée"
      ]
    },
    {
      "cell_type": "markdown",
      "metadata": {
        "id": "gtPr96fNcomP"
      },
      "source": [
        "### Interface d'une pile d'éléments de type T\n",
        "\n",
        "|fonction  |description|\n",
        "|:---------|:------------|\n",
        "|`creer_pile() -> Pile[T]`| crée une pile vide|\n",
        "|`est_vide(p : Pile[T]) --> bool` | renvoie `True` si `p` est vide et `False` sinon|\n",
        "|`empiler(p: Pile[T], e:T) -> None`| ajoute `e` au sommet de la pile `p`|\n",
        "|`depiler(p:Pile[T]) -> T` | retire et renvoie l'élément au sommet de `p`|\n",
        "|`sommet(p:Pile[T]) -> T`|renvoie l'élément au sommet de `p` sans le retirer|"
      ]
    },
    {
      "cell_type": "markdown",
      "metadata": {
        "id": "1gp1zc78LoPE"
      },
      "source": [
        "Par rapport au travail déjà réalisé avec les listes chaînées, seules les fonctions `depiler` et `sommet` sont vraiment nouvelles. "
      ]
    },
    {
      "cell_type": "markdown",
      "metadata": {
        "id": "xTU67KmefrqG"
      },
      "source": [
        "## Exercice 1\n",
        "\n",
        "Compléter le code [proposé dans ce fichier](https://github.com/thfruchart/tnsi-2020/blob/master/Chap07/ExoPython1.ipynb) pour définir\n",
        "1. la fonction sommet\n",
        "2. la fonction depiler"
      ]
    },
    {
      "cell_type": "markdown",
      "metadata": {
        "id": "DljyWTskQowL"
      },
      "source": [
        "## Correction de l'exercice 1"
      ]
    },
    {
      "cell_type": "code",
      "metadata": {
        "id": "FN01I_87WmmX"
      },
      "source": [
        "class Maillon:\n",
        "    def __init__(self, val, suiv=None):\n",
        "        self.valeur = val\n",
        "        self.suivant = suiv\n",
        "\n",
        "    def __str__(self):\n",
        "        if self.suivant is None:\n",
        "            return str(self.valeur)\n",
        "        return str(self.valeur) + '-' + str(self.suivant)\n",
        "\n",
        "class Pile:\n",
        "    def __init__(self):\n",
        "        self.haut = None\n",
        "\n",
        "    def est_vide(self):\n",
        "        return self.haut is None\n",
        "\n",
        "    def empiler(self, val):\n",
        "        self.haut = Maillon(val, self.haut)\n",
        "\n",
        "    def __str__(self):\n",
        "        return str(self.haut)\n",
        "    \n"
      ],
      "execution_count": null,
      "outputs": []
    },
    {
      "cell_type": "markdown",
      "metadata": {
        "id": "45FYF8_5E3PP"
      },
      "source": [
        ""
      ]
    },
    {
      "cell_type": "markdown",
      "metadata": {
        "id": "HpylwM2ReNnv"
      },
      "source": [
        "# Réalisation d'une **file** avec une liste chaînée mutable"
      ]
    },
    {
      "cell_type": "markdown",
      "metadata": {
        "id": "sKf153DOeYYE"
      },
      "source": [
        "### Interface d'une file d'éléments de type T\n",
        "\n",
        "|fonction  |description|\n",
        "|:---------|:------------|\n",
        "|`creer_file() -> File[T]`| crée une file vide|\n",
        "|`est_vide(f : File[T]) --> bool` | renvoie `True` si `f` est vide et `False` sinon|\n",
        "|`ajouter(f: File[T], e:T) -> None`| ajoute `e` à la fin de la file `f`|\n",
        "|`retirer(f:File[T]) -> T` | retire et renvoie l'élément au début de `f`|\n",
        "|`premier(f:File[T]) -> T`|renvoie l'élément au début de `f` sans le retirer|"
      ]
    },
    {
      "cell_type": "markdown",
      "metadata": {
        "id": "kddxrE8MR23R"
      },
      "source": [
        "### Un premier essai"
      ]
    },
    {
      "cell_type": "code",
      "metadata": {
        "id": "MHTMJB9LQniK"
      },
      "source": [
        "class Maillon:\n",
        "    def __init__(self, val, suiv=None):\n",
        "        self.valeur = val\n",
        "        self.suivant = suiv\n",
        "\n",
        "    def __str__(self):\n",
        "        if self.suivant is None:\n",
        "            return str(self.valeur)\n",
        "        return str(self.valeur) + '-' + str(self.suivant)\n",
        "\n",
        "class File:\n",
        "    def __init__(self):\n",
        "        self.debut = None\n",
        "\n",
        "    def est_vide(self):\n",
        "        return self.debut is None\n",
        "\n",
        "    def __str__(self):\n",
        "        return str(self.debut)\n",
        "\n",
        "def creer_file():\n",
        "    return File()\n",
        "\n",
        "def est_vide(f):\n",
        "    return f.est_vide()\n",
        "\n",
        "def premier(f):\n",
        "    return f.debut.valeur\n",
        "\n",
        "def retirer(f):\n",
        "    if f.est_vide():\n",
        "        raise ValueError(\"impossible de retirer : la file est vide\")\n",
        "    premier_maillon = f.debut\n",
        "    f.debut = premier_maillon.suivant\n",
        "    return premier_maillon.valeur\n",
        "\n",
        "def ajouter(f, v): # fonction adaptée de l'exercice 1 : ajouter_a_la_fin\n",
        "    # cas d'une file vide\n",
        "    if f.est_vide():\n",
        "        f.debut = Maillon(v)\n",
        "        return\n",
        "    # cas d'une file avec au moins un maillon\n",
        "    m = f.debut\n",
        "    while m.suivant is not None:\n",
        "        m = m.suivant\n",
        "    m.suivant = Maillon(v)\n"
      ],
      "execution_count": null,
      "outputs": []
    },
    {
      "cell_type": "code",
      "metadata": {
        "id": "vvOAPKtRSKm8",
        "outputId": "a482c62e-3c4f-4442-ad19-25c8df342ac4",
        "colab": {
          "base_uri": "https://localhost:8080/"
        }
      },
      "source": [
        "f = creer_file()\n",
        "ajouter(f,10)\n",
        "ajouter(f,20)\n",
        "ajouter(f,30)\n",
        "print('File : ', f)\n",
        "print('premier dans la file : ', premier(f))\n",
        "print('Retirer : ', retirer(f))\n",
        "print('File : ', f)\n",
        "print('premier dans la file : ', premier(f))\n",
        "print('Retirer : ', retirer(f))\n",
        "print('File : ', f)\n",
        "print('ajouter 40')\n",
        "ajouter(f,40)\n",
        "print('File : ', f)"
      ],
      "execution_count": null,
      "outputs": [
        {
          "output_type": "stream",
          "text": [
            "File :  10-20-30\n",
            "premier dans la file :  10\n",
            "Retirer :  10\n",
            "File :  20-30\n",
            "premier dans la file :  20\n",
            "Retirer :  20\n",
            "File :  30\n",
            "ajouter 40\n",
            "File :  30-40\n"
          ],
          "name": "stdout"
        }
      ]
    },
    {
      "cell_type": "markdown",
      "metadata": {
        "id": "v_vBKLolVHnY"
      },
      "source": [
        "#### Quel est le principal défaut de cette implémentation ?"
      ]
    },
    {
      "cell_type": "markdown",
      "metadata": {
        "id": "QlVZfU80VNZs"
      },
      "source": [
        "pour ajouter un nouvel élément, on doit parcourir tous les maillons pour créer un nouveau maillon \"à la fin\" de la file. "
      ]
    },
    {
      "cell_type": "markdown",
      "metadata": {
        "id": "TVpw9R-VVb3l"
      },
      "source": [
        "## Exercice 2"
      ]
    },
    {
      "cell_type": "markdown",
      "metadata": {
        "id": "ZScb-fzybjn3"
      },
      "source": [
        "On décide de définir deux attributs pour chaque objet de la classe File : `debut` et `fin`\n",
        "\n",
        "Ainsi, il sera rapide d'ajouter un nouvel élément à la fin de la file. \n",
        "\n",
        "1. Compléter le code de la fonction `ajouter` ci-dessous\n",
        "2. Proposer une série de tests"
      ]
    },
    {
      "cell_type": "code",
      "metadata": {
        "id": "2XniZ_5TVz46"
      },
      "source": [
        "class Maillon:\n",
        "    def __init__(self, val, suiv=None):\n",
        "        self.valeur = val\n",
        "        self.suivant = suiv\n",
        "\n",
        "    def __str__(self):\n",
        "        if self.suivant is None:\n",
        "            return str(self.valeur)\n",
        "        return str(self.valeur) + '-' + str(self.suivant)\n",
        "\n",
        "class File:\n",
        "    def __init__(self):\n",
        "        self.debut = None\n",
        "        self.fin = None \n",
        "\n",
        "    def est_vide(self):\n",
        "        return self.debut is None\n",
        "\n",
        "    def __str__(self):\n",
        "        return str(self.debut)\n",
        "\n",
        "def retirer(f):\n",
        "    if f.est_vide():\n",
        "        raise ValueError(\"impossible de retirer : la file est vide\")\n",
        "    premier_maillon = f.debut\n",
        "    f.debut = premier_maillon.suivant\n",
        "    if f.debut is None:\n",
        "        f.fin = None\n",
        "    return premier_maillon.valeur\n",
        "\n",
        "\n",
        "def ajouter(f, v):\n",
        "    m = Maillon(v)\n",
        "    # cas d'une file vide\n",
        "    if f.est_vide():\n",
        "        f\n",
        "    else: # cas d'une file avec au moins un maillon\n",
        "        f\n"
      ],
      "execution_count": null,
      "outputs": []
    },
    {
      "cell_type": "markdown",
      "metadata": {
        "id": "-LAWJMACYtdX"
      },
      "source": [
        "## Classe File complète"
      ]
    },
    {
      "cell_type": "code",
      "metadata": {
        "id": "0oCi_9uTYxb5"
      },
      "source": [
        ""
      ],
      "execution_count": null,
      "outputs": []
    }
  ]
}